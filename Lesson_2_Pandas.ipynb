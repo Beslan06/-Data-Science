{
  "cells": [
    {
      "cell_type": "markdown",
      "metadata": {
        "id": "Q2W_YIlMe2mt"
      },
      "source": [
        "Series - это обна из структур данных библиотеки Pandas. Она представляет собой что-то вроде словаря, однако, является упорядоченной.\n",
        "\n"
      ]
    },
    {
      "cell_type": "code",
      "execution_count": 10,
      "metadata": {
        "id": "yLU689mUe1zb"
      },
      "outputs": [],
      "source": [
        "import pandas as pd"
      ]
    },
    {
      "cell_type": "code",
      "execution_count": 11,
      "metadata": {
        "colab": {
          "base_uri": "https://localhost:8080/"
        },
        "id": "coi1tsmZgLfN",
        "outputId": "517c96e5-ecf4-49a5-f53a-e83b47d49cf6"
      },
      "outputs": [
        {
          "data": {
            "text/plain": [
              "0    1\n",
              "1    3\n",
              "2    5\n",
              "3    7\n",
              "4    2\n",
              "dtype: int64"
            ]
          },
          "execution_count": 11,
          "metadata": {},
          "output_type": "execute_result"
        }
      ],
      "source": [
        "a  = [1, 3, 5, 7, 2]\n",
        "b = pd.Series(a)\n",
        "b"
      ]
    },
    {
      "cell_type": "code",
      "execution_count": 12,
      "metadata": {
        "colab": {
          "base_uri": "https://localhost:8080/",
          "height": 203
        },
        "id": "x57rtj5YgnQc",
        "outputId": "9b318385-a5ac-4a48-dfd6-b8821ccca081"
      },
      "outputs": [
        {
          "data": {
            "text/plain": [
              "pandas.core.series.Series"
            ]
          },
          "execution_count": 12,
          "metadata": {},
          "output_type": "execute_result"
        }
      ],
      "source": [
        "type(b)"
      ]
    },
    {
      "cell_type": "markdown",
      "metadata": {
        "id": "1yWUb5PUgjAu"
      },
      "source": [
        "В результатае такой операции получается объект Series, содержащий элементы из списка а. Здесь справа располагаются элементы из списка **а**, слева - их индексы. Т.к. индексф для этих элементов мы явно не указали, то используются стандартные индексы.  \n",
        "Индексы можно указывать явно, для этого нужно подать в качестве аргумента index список из индексов. Данный список должен быть такой же длины, что и список а.  \n",
        "В качестве индексов можно использовать что угодно: числа, строки и пр. Например, проиндексируем наш список **а** объектами типа datetime.date"
      ]
    },
    {
      "cell_type": "code",
      "execution_count": 13,
      "metadata": {
        "id": "4_CInx2BiJMW"
      },
      "outputs": [],
      "source": [
        "from datetime import date"
      ]
    },
    {
      "cell_type": "code",
      "execution_count": 14,
      "metadata": {
        "colab": {
          "base_uri": "https://localhost:8080/"
        },
        "id": "gRpp4uy2iVSb",
        "outputId": "089684ca-834d-4a8d-f260-d011789d66f3"
      },
      "outputs": [
        {
          "data": {
            "text/plain": [
              "[datetime.date(2024, 4, 1),\n",
              " datetime.date(2024, 4, 3),\n",
              " datetime.date(2024, 4, 5),\n",
              " datetime.date(2024, 4, 7),\n",
              " datetime.date(2024, 4, 2)]"
            ]
          },
          "execution_count": 14,
          "metadata": {},
          "output_type": "execute_result"
        }
      ],
      "source": [
        "index = [date(2024, 4, i) for i in a]\n",
        "index"
      ]
    },
    {
      "cell_type": "code",
      "execution_count": 15,
      "metadata": {
        "colab": {
          "base_uri": "https://localhost:8080/"
        },
        "id": "TJOcGFPWiyvV",
        "outputId": "f3afda0a-75df-4354-c199-57434663b901"
      },
      "outputs": [
        {
          "data": {
            "text/plain": [
              "2024-04-01    1\n",
              "2024-04-03    3\n",
              "2024-04-05    5\n",
              "2024-04-07    7\n",
              "2024-04-02    2\n",
              "dtype: int64"
            ]
          },
          "execution_count": 15,
          "metadata": {},
          "output_type": "execute_result"
        }
      ],
      "source": [
        "c = pd.Series(a, index=index)\n",
        "c"
      ]
    },
    {
      "cell_type": "markdown",
      "metadata": {
        "id": "5bKi6JDSktQz"
      },
      "source": [
        "Индексы можно задать сразу, а можно изменить позже (главное условие, чтобы кол-во индексов было = количеству элементов):  "
      ]
    },
    {
      "cell_type": "code",
      "execution_count": 16,
      "metadata": {
        "colab": {
          "base_uri": "https://localhost:8080/"
        },
        "id": "8NDRFo6pinhd",
        "outputId": "9df024ef-3725-44d3-efc1-790aaed701d2"
      },
      "outputs": [
        {
          "data": {
            "text/plain": [
              "a    1\n",
              "b    3\n",
              "c    5\n",
              "d    7\n",
              "e    2\n",
              "dtype: int64"
            ]
          },
          "execution_count": 16,
          "metadata": {},
          "output_type": "execute_result"
        }
      ],
      "source": [
        "b.index = ['a', 'b', 'c', 'd', 'e']\n",
        "b"
      ]
    },
    {
      "cell_type": "markdown",
      "metadata": {
        "id": "V09I3-7plfS6"
      },
      "source": [
        "Рассмотрим индексы объекта Series подробнее. Их можно получить с помощью атрибута c.index:"
      ]
    },
    {
      "cell_type": "code",
      "execution_count": 17,
      "metadata": {
        "colab": {
          "base_uri": "https://localhost:8080/"
        },
        "id": "VPokGKiDlTMQ",
        "outputId": "c0ff15e4-4540-4f28-858f-954baadc5328"
      },
      "outputs": [
        {
          "data": {
            "text/plain": [
              "Index([2024-04-01, 2024-04-03, 2024-04-05, 2024-04-07, 2024-04-02], dtype='object')"
            ]
          },
          "execution_count": 17,
          "metadata": {},
          "output_type": "execute_result"
        }
      ],
      "source": [
        "c.index"
      ]
    },
    {
      "cell_type": "markdown",
      "metadata": {
        "id": "0Khz_mDnmDzy"
      },
      "source": [
        "Мы видим, что в качестве индексов здесь используются объекты типа **object**. Это тип объектов используется также в numpy. Он используется для объектов, для которых заранее не известно, сколько памяти он требуют(в отличие от, например numpy.int64, для которого заранее известно, сколько памяти под него нужно).  \n",
        "Тип object в numpy и pundas присваетвается, например, строкам, а так же объектам из других библиотек. В массивы данных, состоящих из объектов типа object (например наш массив c.index), помещается не сами объекты, а лишь уазатели на них, а сами объекты храняться в спецально выделенном месте. Мы все еще можем использовать для этих объектов методы, присущие им ( например, для каждого индекса из массив c.index мы можем  посмотреть его год, месяц и день):"
      ]
    },
    {
      "cell_type": "code",
      "execution_count": 18,
      "metadata": {
        "colab": {
          "base_uri": "https://localhost:8080/"
        },
        "id": "1ggT8HluoHGz",
        "outputId": "77d6d57e-70a5-4ec8-a2dc-f2a4ba785ce5"
      },
      "outputs": [
        {
          "data": {
            "text/plain": [
              "4"
            ]
          },
          "execution_count": 18,
          "metadata": {},
          "output_type": "execute_result"
        }
      ],
      "source": [
        "c.index[0].month"
      ]
    },
    {
      "cell_type": "markdown",
      "metadata": {
        "id": "RJX40cJOoOta"
      },
      "source": [
        "Однако это возможно делать лишь с отдельным элементом из индекса.  \n",
        "В pandas, как и numpy, возможно выполнять различные операции с массиовом целиком, но лишь когда эти массивы содержат объекты типов, поддерживаемых numpy и pandas (вроде numpy.int32 или numpy.float64).  \n",
        "Для работы с временем и датой в numpy также есть специальный тип: numpy.datetime64. Приведем элементы нашего индекса к этому типу и посмотрим, что это нам позволит делать. Это можно сделать с помощью функции pd.to_datetime, которая получает на вход массив и возвращает новый массив, элементы которого приведены к типу numpy.datetime64:"
      ]
    },
    {
      "cell_type": "code",
      "execution_count": 19,
      "metadata": {
        "colab": {
          "base_uri": "https://localhost:8080/"
        },
        "id": "Nrax0MOZoW9T",
        "outputId": "3d967880-4efa-4fbd-ade0-a811791ca4dc"
      },
      "outputs": [
        {
          "data": {
            "text/plain": [
              "DatetimeIndex(['2024-04-01', '2024-04-03', '2024-04-05', '2024-04-07',\n",
              "               '2024-04-02'],\n",
              "              dtype='datetime64[ns]', freq=None)"
            ]
          },
          "execution_count": 19,
          "metadata": {},
          "output_type": "execute_result"
        }
      ],
      "source": [
        "c.index = pd.to_datetime(c.index)\n",
        "c.index"
      ]
    },
    {
      "cell_type": "markdown",
      "metadata": {
        "id": "cqYislZ7qmtZ"
      },
      "source": [
        "Теперь мы можем посмотреть атрибут **day** у всех элементов индекса одновременно:"
      ]
    },
    {
      "cell_type": "code",
      "execution_count": 20,
      "metadata": {
        "colab": {
          "base_uri": "https://localhost:8080/"
        },
        "id": "L49qvUKyqlES",
        "outputId": "da3cf084-3759-48af-e440-32f6a227db19"
      },
      "outputs": [
        {
          "data": {
            "text/plain": [
              "Int64Index([1, 3, 5, 7, 2], dtype='int64')"
            ]
          },
          "execution_count": 20,
          "metadata": {},
          "output_type": "execute_result"
        }
      ],
      "source": [
        "c.index.day"
      ]
    },
    {
      "cell_type": "markdown",
      "metadata": {
        "id": "oQ9Pg_SZrHA5"
      },
      "source": [
        "Индексы в Series не обязаны быть уникальными"
      ]
    },
    {
      "cell_type": "code",
      "execution_count": 21,
      "metadata": {
        "colab": {
          "base_uri": "https://localhost:8080/"
        },
        "id": "ffdWplxSrN46",
        "outputId": "5b5f35d1-59ae-4ca4-9bf7-c04d7068c021"
      },
      "outputs": [
        {
          "data": {
            "text/plain": [
              "0    1\n",
              "1    3\n",
              "0    5\n",
              "1    7\n",
              "0    2\n",
              "dtype: int64"
            ]
          },
          "execution_count": 21,
          "metadata": {},
          "output_type": "execute_result"
        }
      ],
      "source": [
        "d = pd.Series(a, index=[0, 1, 0, 1, 0])\n",
        "d"
      ]
    },
    {
      "cell_type": "markdown",
      "metadata": {
        "id": "3F2PdNmUrraC"
      },
      "source": [
        "Типи данных Series можно задать явно. Это можно сделать либо сразу же:"
      ]
    },
    {
      "cell_type": "code",
      "execution_count": 22,
      "metadata": {
        "id": "7adn3BJJr1TC"
      },
      "outputs": [],
      "source": [
        "import numpy as np"
      ]
    },
    {
      "cell_type": "code",
      "execution_count": 23,
      "metadata": {
        "colab": {
          "base_uri": "https://localhost:8080/"
        },
        "id": "vRROSk7Hr5yK",
        "outputId": "19a6bde1-0e7f-45ba-ba2a-0c58287fc550"
      },
      "outputs": [
        {
          "data": {
            "text/plain": [
              "0    1.0\n",
              "1    3.0\n",
              "2    5.0\n",
              "3    7.0\n",
              "4    2.0\n",
              "dtype: float32"
            ]
          },
          "execution_count": 23,
          "metadata": {},
          "output_type": "execute_result"
        }
      ],
      "source": [
        "e = pd.Series(a, dtype=np.float32)\n",
        "e"
      ]
    },
    {
      "cell_type": "markdown",
      "metadata": {
        "id": "G4e8UQYRsFPZ"
      },
      "source": [
        "либо позже с помощью метода astype():"
      ]
    },
    {
      "cell_type": "code",
      "execution_count": 24,
      "metadata": {
        "colab": {
          "base_uri": "https://localhost:8080/"
        },
        "id": "F8NVjiFUsMvh",
        "outputId": "f64a19f9-b2e1-4743-803f-37483fd61f6a"
      },
      "outputs": [
        {
          "data": {
            "text/plain": [
              "0    1.0\n",
              "1    3.0\n",
              "2    5.0\n",
              "3    7.0\n",
              "4    2.0\n",
              "dtype: float64"
            ]
          },
          "execution_count": 24,
          "metadata": {},
          "output_type": "execute_result"
        }
      ],
      "source": [
        "e = pd.Series(a)\n",
        "e = e.astype(np.float64)\n",
        "e"
      ]
    },
    {
      "cell_type": "markdown",
      "metadata": {
        "id": "pU45xqORstna"
      },
      "source": [
        "Создать массив Series можно не только из списка, но и из словаря. В таком случа, ключи этого словаря становятся индексами, а соответствующие значения словаря - значениями массива:"
      ]
    },
    {
      "cell_type": "code",
      "execution_count": 25,
      "metadata": {
        "colab": {
          "base_uri": "https://localhost:8080/"
        },
        "id": "5RvSqM9ntFR6",
        "outputId": "34925945-a681-4b17-ebaf-112e2e65f3bb"
      },
      "outputs": [
        {
          "data": {
            "text/plain": [
              "1st    a\n",
              "2nd    b\n",
              "3rd    c\n",
              "dtype: object"
            ]
          },
          "execution_count": 25,
          "metadata": {},
          "output_type": "execute_result"
        }
      ],
      "source": [
        "# dict - зарезервированное слово, поэтому используем dict_\n",
        "dict_ = {'1st': 'a',\n",
        "         '2nd': 'b',\n",
        "         '3rd': 'c'}\n",
        "f = pd.Series(dict_)\n",
        "f"
      ]
    },
    {
      "cell_type": "code",
      "execution_count": 26,
      "metadata": {
        "colab": {
          "base_uri": "https://localhost:8080/",
          "height": 203
        },
        "id": "Lgf4ynARtyJr",
        "outputId": "d944755d-10fa-470c-8840-da9985adee2f"
      },
      "outputs": [
        {
          "data": {
            "text/plain": [
              "pandas.core.series.Series"
            ]
          },
          "execution_count": 26,
          "metadata": {},
          "output_type": "execute_result"
        }
      ],
      "source": [
        "type(f)"
      ]
    },
    {
      "cell_type": "markdown",
      "metadata": {
        "id": "4-P2LcrEuDHU"
      },
      "source": [
        "Значение массивов Series модно получить с помощью атрибута .values  \n",
        "Значение массива представлены как numpy.ndarray"
      ]
    },
    {
      "cell_type": "code",
      "execution_count": 27,
      "metadata": {
        "colab": {
          "base_uri": "https://localhost:8080/"
        },
        "id": "KZ05ocV0uVqh",
        "outputId": "0e68d4b5-da43-4b99-b24b-254b515eb706"
      },
      "outputs": [
        {
          "data": {
            "text/plain": [
              "array(['a', 'b', 'c'], dtype=object)"
            ]
          },
          "execution_count": 27,
          "metadata": {},
          "output_type": "execute_result"
        }
      ],
      "source": [
        "f.values"
      ]
    },
    {
      "cell_type": "markdown",
      "metadata": {
        "id": "bN3S-lBjumcK"
      },
      "source": [
        "Так можно перевести Series в numpy array"
      ]
    },
    {
      "cell_type": "code",
      "execution_count": 28,
      "metadata": {
        "colab": {
          "base_uri": "https://localhost:8080/"
        },
        "id": "kh_Z7j2auvVC",
        "outputId": "c340b177-a352-4490-c344-fceeeaa55dde"
      },
      "outputs": [
        {
          "data": {
            "text/plain": [
              "numpy.ndarray"
            ]
          },
          "execution_count": 28,
          "metadata": {},
          "output_type": "execute_result"
        }
      ],
      "source": [
        "type(f.values)"
      ]
    },
    {
      "cell_type": "markdown",
      "metadata": {
        "id": "IYurtYA_vNcJ"
      },
      "source": [
        "Продемонтстрируем разницу между type list и numpy.ndarray\n",
        "\n"
      ]
    },
    {
      "cell_type": "code",
      "execution_count": 29,
      "metadata": {
        "colab": {
          "base_uri": "https://localhost:8080/"
        },
        "id": "JcnycZ2Ju4jp",
        "outputId": "3019e2ff-dd1e-47ca-dda9-c508b1d6d84c"
      },
      "outputs": [
        {
          "data": {
            "text/plain": [
              "list"
            ]
          },
          "execution_count": 29,
          "metadata": {},
          "output_type": "execute_result"
        }
      ],
      "source": [
        "a = [1, 2, 3]\n",
        "type(a)"
      ]
    },
    {
      "cell_type": "code",
      "execution_count": 30,
      "metadata": {
        "colab": {
          "base_uri": "https://localhost:8080/"
        },
        "id": "sAW3S0n_u-BK",
        "outputId": "b7b29a61-3eb7-4ebb-de6c-6682c0b5a454"
      },
      "outputs": [
        {
          "data": {
            "text/plain": [
              "[1, 2, 3, 1, 2, 3, 1, 2, 3, 1, 2, 3]"
            ]
          },
          "execution_count": 30,
          "metadata": {},
          "output_type": "execute_result"
        }
      ],
      "source": [
        "# Увеличивается кол-во элементов\n",
        "a*4"
      ]
    },
    {
      "cell_type": "code",
      "execution_count": 31,
      "metadata": {
        "colab": {
          "base_uri": "https://localhost:8080/"
        },
        "id": "rIUE7HahvBzx",
        "outputId": "d51be649-1d44-48d0-fc55-7892bd5561ce"
      },
      "outputs": [
        {
          "data": {
            "text/plain": [
              "numpy.ndarray"
            ]
          },
          "execution_count": 31,
          "metadata": {},
          "output_type": "execute_result"
        }
      ],
      "source": [
        "b = np.array([1, 2, 3])\n",
        "type(b)"
      ]
    },
    {
      "cell_type": "code",
      "execution_count": 32,
      "metadata": {
        "colab": {
          "base_uri": "https://localhost:8080/"
        },
        "id": "PY7YQgJevJOZ",
        "outputId": "c6c0dc57-5526-4f0a-df83-688d58f2c940"
      },
      "outputs": [
        {
          "data": {
            "text/plain": [
              "array([ 4,  8, 12])"
            ]
          },
          "execution_count": 32,
          "metadata": {},
          "output_type": "execute_result"
        }
      ],
      "source": [
        "# Производится операция умножения на каждый элемент\n",
        "b*4"
      ]
    },
    {
      "cell_type": "markdown",
      "metadata": {
        "id": "Ui49ThlivLsZ"
      },
      "source": []
    },
    {
      "cell_type": "markdown",
      "metadata": {
        "id": "JLNS_NGLvxNZ"
      },
      "source": [
        "##**Выбор данных из массива Series**  \n",
        "Для получения значений массива Series по индексу используется тот же синтаксис, что и с массивом numpy:  \n",
        "* Чтобы получить значение по одгому индексу, достаточно поставить этот индекс в квадратные скодки после массива: f['1st'].\n",
        "* Если необходимо получить значения по нескольким индексам, в квадратные скобки массива подается список индексов: f[['1st', '3rd']].  \n",
        "У массива Series также имеются методы .head и .tail, позволяющие просматривать, соответственно, первые несколько или последние несколько значений масива. В каждом из этих методов можно указать, сколько значений нужно вернуть. По умолчанию возвращается 5 значений.\n",
        "\n"
      ]
    },
    {
      "cell_type": "code",
      "execution_count": 33,
      "metadata": {
        "colab": {
          "base_uri": "https://localhost:8080/"
        },
        "id": "lKQzUKvFxyVP",
        "outputId": "14b5d882-9920-4fa8-b6d1-aa561fe66ba1"
      },
      "outputs": [
        {
          "data": {
            "text/plain": [
              "0    1.0\n",
              "1    3.0\n",
              "2    5.0\n",
              "dtype: float64"
            ]
          },
          "execution_count": 33,
          "metadata": {},
          "output_type": "execute_result"
        }
      ],
      "source": [
        "e.head(3)"
      ]
    },
    {
      "cell_type": "markdown",
      "metadata": {
        "id": "7pVnBk51x4PF"
      },
      "source": [
        "Для массива Series, так же как и для numpy -массивов,доступна булева индексация. С помощью неё можно получать значения массива, которые удовлетворяют некоему условию:"
      ]
    },
    {
      "cell_type": "code",
      "execution_count": 34,
      "metadata": {
        "colab": {
          "base_uri": "https://localhost:8080/"
        },
        "id": "2gmGtUxZyXAD",
        "outputId": "46828975-bbf8-4292-e5e5-87958d663ef1"
      },
      "outputs": [
        {
          "data": {
            "text/plain": [
              "1    3.0\n",
              "2    5.0\n",
              "3    7.0\n",
              "dtype: float64"
            ]
          },
          "execution_count": 34,
          "metadata": {},
          "output_type": "execute_result"
        }
      ],
      "source": [
        "e[e > 2]"
      ]
    },
    {
      "cell_type": "code",
      "execution_count": 35,
      "metadata": {
        "colab": {
          "base_uri": "https://localhost:8080/"
        },
        "id": "jdb-EuoUygjY",
        "outputId": "fbcf26cf-1760-4cbb-86f3-2dbf48f6f4d7"
      },
      "outputs": [
        {
          "data": {
            "text/plain": [
              "0    1.0\n",
              "1    3.0\n",
              "2    5.0\n",
              "3    7.0\n",
              "4    2.0\n",
              "dtype: float64"
            ]
          },
          "execution_count": 35,
          "metadata": {},
          "output_type": "execute_result"
        }
      ],
      "source": [
        "e"
      ]
    },
    {
      "cell_type": "code",
      "execution_count": 36,
      "metadata": {
        "colab": {
          "base_uri": "https://localhost:8080/"
        },
        "id": "L6PRq0rZykUx",
        "outputId": "75d00b54-dad9-4907-8d67-dbfcf01faa3f"
      },
      "outputs": [
        {
          "data": {
            "text/plain": [
              "0    False\n",
              "1     True\n",
              "2     True\n",
              "3     True\n",
              "4    False\n",
              "dtype: bool"
            ]
          },
          "execution_count": 36,
          "metadata": {},
          "output_type": "execute_result"
        }
      ],
      "source": [
        "# Вместо каждого элемента прошла булева операция\n",
        "e > 2"
      ]
    },
    {
      "cell_type": "markdown",
      "metadata": {
        "id": "yhnHU53ay23I"
      },
      "source": [
        "Можно делать более сложные выражения используя логический оператор 'и'(обозначается символом &), 'или'(символ |) и оператор отрицания 'не' (символ ~). При этом каждое условаие неоходимо поставиь в круглые скобки:"
      ]
    },
    {
      "cell_type": "code",
      "execution_count": 37,
      "metadata": {
        "colab": {
          "base_uri": "https://localhost:8080/"
        },
        "id": "Gb08w21Fzg_f",
        "outputId": "ce9eb4c5-8308-490d-f431-eef3691a86ce"
      },
      "outputs": [
        {
          "data": {
            "text/plain": [
              "0    1.0\n",
              "1    3.0\n",
              "2    5.0\n",
              "3    7.0\n",
              "dtype: float64"
            ]
          },
          "execution_count": 37,
          "metadata": {},
          "output_type": "execute_result"
        }
      ],
      "source": [
        "e[(e > 2) | (e == 1)]"
      ]
    },
    {
      "cell_type": "markdown",
      "metadata": {
        "id": "nCAHUD_bztwo"
      },
      "source": [
        "Изменять массив Series можно теми же способами, что при работе с обычным словарем. Например, команда e[2] = 4 заменит значение массива **e** с индексом 2 на 4.  \n",
        "Однако, в массивах Series мы можем менять несколько значений одновременно. Например, с помощью тех же самых условий:"
      ]
    },
    {
      "cell_type": "code",
      "execution_count": 38,
      "metadata": {
        "colab": {
          "base_uri": "https://localhost:8080/"
        },
        "id": "_ecght990hxY",
        "outputId": "673b2261-6bc1-4d74-8452-290fb37df92d"
      },
      "outputs": [
        {
          "data": {
            "text/plain": [
              "0    1.0\n",
              "1   -1.0\n",
              "2   -1.0\n",
              "3   -1.0\n",
              "4    2.0\n",
              "dtype: float64"
            ]
          },
          "execution_count": 38,
          "metadata": {},
          "output_type": "execute_result"
        }
      ],
      "source": [
        "e[e > 2] = -1\n",
        "e"
      ]
    },
    {
      "cell_type": "code",
      "execution_count": 39,
      "metadata": {
        "colab": {
          "base_uri": "https://localhost:8080/"
        },
        "id": "XTbBqtje0xYR",
        "outputId": "134b4811-0896-4989-b50d-cbdf25973301"
      },
      "outputs": [
        {
          "data": {
            "text/plain": [
              "0        1.0\n",
              "1    10000.0\n",
              "2       -1.0\n",
              "3    10000.0\n",
              "4        2.0\n",
              "dtype: float64"
            ]
          },
          "execution_count": 39,
          "metadata": {},
          "output_type": "execute_result"
        }
      ],
      "source": [
        "# либо передать в массив какие-то конкретные индексы (мы передаем список индексов):\n",
        "e[[1, 3]] = 10000\n",
        "e"
      ]
    },
    {
      "cell_type": "markdown",
      "metadata": {
        "id": "QL5VF1wQ1J8P"
      },
      "source": [
        "##**Добавление и удаление данных в Series**  \n",
        "С помощью метода .append мы можем добавлять к одному массиву Series другой массив:\n",
        "'Series' object has no attribute 'append' - данный метод был удален.  \n",
        "In pd 2.0, append has been removed\n",
        "Лучше использовать метод pd.concat([e, f])."
      ]
    },
    {
      "cell_type": "code",
      "execution_count": 40,
      "metadata": {
        "colab": {
          "base_uri": "https://localhost:8080/"
        },
        "id": "1uLrBZpX1hXw",
        "outputId": "462af1e4-90ab-4446-f559-6883e85f5b3a"
      },
      "outputs": [
        {
          "data": {
            "text/plain": [
              "0          1.0\n",
              "1      10000.0\n",
              "2         -1.0\n",
              "3      10000.0\n",
              "4          2.0\n",
              "1st          a\n",
              "2nd          b\n",
              "3rd          c\n",
              "dtype: object"
            ]
          },
          "execution_count": 40,
          "metadata": {},
          "output_type": "execute_result"
        }
      ],
      "source": [
        "# Метода append уже не существует в pandas\n",
        "g = e._append(f)\n",
        "g"
      ]
    },
    {
      "cell_type": "code",
      "execution_count": 41,
      "metadata": {
        "colab": {
          "base_uri": "https://localhost:8080/"
        },
        "id": "wlXFNv9L3DLY",
        "outputId": "f4c427d3-4c1c-4b8d-8964-cfc36d371e43"
      },
      "outputs": [
        {
          "data": {
            "text/plain": [
              "0          1.0\n",
              "1      10000.0\n",
              "2         -1.0\n",
              "3      10000.0\n",
              "4          2.0\n",
              "1st          a\n",
              "2nd          b\n",
              "3rd          c\n",
              "dtype: object"
            ]
          },
          "execution_count": 41,
          "metadata": {},
          "output_type": "execute_result"
        }
      ],
      "source": [
        "g = pd.concat([e, f])\n",
        "g"
      ]
    },
    {
      "cell_type": "markdown",
      "metadata": {
        "id": "G-BzJgE7YZcp"
      },
      "source": [
        "С помощью метода **.drop** мы можем удалять из массиваэлементы с определенными индексами. Эти индексы мы подаем в метов в виде списка:"
      ]
    },
    {
      "cell_type": "code",
      "execution_count": 42,
      "metadata": {
        "colab": {
          "base_uri": "https://localhost:8080/"
        },
        "id": "7mQyAfbfYtcu",
        "outputId": "245a4209-3a2c-43a1-83a2-15a687632027"
      },
      "outputs": [
        {
          "data": {
            "text/plain": [
              "1      10000.0\n",
              "2         -1.0\n",
              "3      10000.0\n",
              "1st          a\n",
              "3rd          c\n",
              "dtype: object"
            ]
          },
          "execution_count": 42,
          "metadata": {},
          "output_type": "execute_result"
        }
      ],
      "source": [
        "h = g.drop([0, 4, '2nd'])\n",
        "h"
      ]
    },
    {
      "cell_type": "markdown",
      "metadata": {
        "id": "EH2cIPOEY7TN"
      },
      "source": [
        "Обратите внимание, что эти методы, в отличие от аналогичных методов из стандартных библиотек Python, не изменяют исходный массив, но возвращают новый."
      ]
    },
    {
      "cell_type": "code",
      "execution_count": 43,
      "metadata": {
        "colab": {
          "base_uri": "https://localhost:8080/"
        },
        "id": "3uZwK-ArZQmB",
        "outputId": "6193b5a1-23e4-4b03-8c97-e3de15afe0f0"
      },
      "outputs": [
        {
          "data": {
            "text/plain": [
              "0        1.0\n",
              "1    10000.0\n",
              "2       -1.0\n",
              "3    10000.0\n",
              "4        2.0\n",
              "dtype: float64"
            ]
          },
          "execution_count": 43,
          "metadata": {},
          "output_type": "execute_result"
        }
      ],
      "source": [
        "e"
      ]
    },
    {
      "cell_type": "code",
      "execution_count": 44,
      "metadata": {
        "colab": {
          "base_uri": "https://localhost:8080/"
        },
        "id": "F6jvNXtFZbmd",
        "outputId": "9e9e0a39-d7d7-4918-cbab-533e0c769770"
      },
      "outputs": [
        {
          "data": {
            "text/plain": [
              "0          1.0\n",
              "1      10000.0\n",
              "2         -1.0\n",
              "3      10000.0\n",
              "4          2.0\n",
              "1st          a\n",
              "2nd          b\n",
              "3rd          c\n",
              "dtype: object"
            ]
          },
          "execution_count": 44,
          "metadata": {},
          "output_type": "execute_result"
        }
      ],
      "source": [
        "g"
      ]
    },
    {
      "cell_type": "markdown",
      "metadata": {
        "id": "lV90aOFRZg_O"
      },
      "source": [
        "##**Запись и чтение массивов Series из файла**  \n",
        "Для массивов из Series в файлы используют формат файлов под названием picklt. Этот формат позволяет полностью сохранять питоновские объекты, а затем загружать их в неизменном виде.\n",
        "Для записи массива Series в файл используют мето **.to_pickle**, а для чтения - функцию **np.read_pickle**"
      ]
    },
    {
      "cell_type": "code",
      "execution_count": 45,
      "metadata": {
        "colab": {
          "base_uri": "https://localhost:8080/"
        },
        "id": "x2N9LZd2adEH",
        "outputId": "b560ec66-830f-4760-d219-6bf37fc934cb"
      },
      "outputs": [
        {
          "data": {
            "text/plain": [
              "1      10000.0\n",
              "2         -1.0\n",
              "3      10000.0\n",
              "1st          a\n",
              "3rd          c\n",
              "dtype: object"
            ]
          },
          "execution_count": 45,
          "metadata": {},
          "output_type": "execute_result"
        }
      ],
      "source": [
        "h.to_pickle('h.pkl')\n",
        "h = pd.read_pickle('h.pkl')\n",
        "h"
      ]
    },
    {
      "cell_type": "markdown",
      "metadata": {
        "id": "gWxpcyR9bhIR"
      },
      "source": [
        "##**DataFrame**\n",
        "DataFrame - двумерная структура данных из библиотеки **pandas**, позволяющая работать с таблицами.  \n",
        "Самый простой способ задать **DataFrame** - спомощью словаря, в котором ключ отвечает за столбец, а соответствующее значение - это список элементов данного столбца. **Эти списки должны иметь одинаковую длину.**"
      ]
    },
    {
      "cell_type": "code",
      "execution_count": 46,
      "metadata": {
        "colab": {
          "base_uri": "https://localhost:8080/",
          "height": 269
        },
        "id": "9fRExVNtchBI",
        "outputId": "e0ed782d-1922-4c3f-9c48-103db3b59656"
      },
      "outputs": [
        {
          "data": {
            "text/html": [
              "<div>\n",
              "<style scoped>\n",
              "    .dataframe tbody tr th:only-of-type {\n",
              "        vertical-align: middle;\n",
              "    }\n",
              "\n",
              "    .dataframe tbody tr th {\n",
              "        vertical-align: top;\n",
              "    }\n",
              "\n",
              "    .dataframe thead th {\n",
              "        text-align: right;\n",
              "    }\n",
              "</style>\n",
              "<table border=\"1\" class=\"dataframe\">\n",
              "  <thead>\n",
              "    <tr style=\"text-align: right;\">\n",
              "      <th></th>\n",
              "      <th>col1</th>\n",
              "      <th>col2</th>\n",
              "    </tr>\n",
              "  </thead>\n",
              "  <tbody>\n",
              "    <tr>\n",
              "      <th>0</th>\n",
              "      <td>1</td>\n",
              "      <td>a</td>\n",
              "    </tr>\n",
              "    <tr>\n",
              "      <th>1</th>\n",
              "      <td>2</td>\n",
              "      <td>c</td>\n",
              "    </tr>\n",
              "    <tr>\n",
              "      <th>2</th>\n",
              "      <td>4</td>\n",
              "      <td>e</td>\n",
              "    </tr>\n",
              "    <tr>\n",
              "      <th>3</th>\n",
              "      <td>5</td>\n",
              "      <td>g</td>\n",
              "    </tr>\n",
              "    <tr>\n",
              "      <th>4</th>\n",
              "      <td>6</td>\n",
              "      <td>z</td>\n",
              "    </tr>\n",
              "    <tr>\n",
              "      <th>5</th>\n",
              "      <td>7</td>\n",
              "      <td>x</td>\n",
              "    </tr>\n",
              "    <tr>\n",
              "      <th>6</th>\n",
              "      <td>8</td>\n",
              "      <td>y</td>\n",
              "    </tr>\n",
              "  </tbody>\n",
              "</table>\n",
              "</div>"
            ],
            "text/plain": [
              "   col1 col2\n",
              "0     1    a\n",
              "1     2    c\n",
              "2     4    e\n",
              "3     5    g\n",
              "4     6    z\n",
              "5     7    x\n",
              "6     8    y"
            ]
          },
          "execution_count": 46,
          "metadata": {},
          "output_type": "execute_result"
        }
      ],
      "source": [
        "a = {\n",
        "    'col1': [1, 2, 4, 5, 6, 7, 8],\n",
        "    'col2': ['a', 'c', 'e', 'g', 'z', 'x', 'y']\n",
        "}\n",
        "b = pd.DataFrame(a)\n",
        "b"
      ]
    },
    {
      "cell_type": "markdown",
      "metadata": {
        "id": "GM1gYciKdaVt"
      },
      "source": [
        "С помощью атрибута **.shape** можно посмотреть форму массива DataFrame. Атрибут **.columns** содержит массив из столбцов, а **.index**, как и ранее содержит атрибут индексов"
      ]
    },
    {
      "cell_type": "code",
      "execution_count": 47,
      "metadata": {
        "colab": {
          "base_uri": "https://localhost:8080/"
        },
        "id": "VpuNdohOd4TO",
        "outputId": "782cde48-dc88-429e-b5d9-5b1a1455cff4"
      },
      "outputs": [
        {
          "data": {
            "text/plain": [
              "(7, 2)"
            ]
          },
          "execution_count": 47,
          "metadata": {},
          "output_type": "execute_result"
        }
      ],
      "source": [
        "b.shape"
      ]
    },
    {
      "cell_type": "code",
      "execution_count": 48,
      "metadata": {
        "colab": {
          "base_uri": "https://localhost:8080/"
        },
        "id": "It5tJA9XeFDz",
        "outputId": "4305eba9-543f-4c7c-cfe5-31e0841501d7"
      },
      "outputs": [
        {
          "data": {
            "text/plain": [
              "Index(['col1', 'col2'], dtype='object')"
            ]
          },
          "execution_count": 48,
          "metadata": {},
          "output_type": "execute_result"
        }
      ],
      "source": [
        "b.columns"
      ]
    },
    {
      "cell_type": "code",
      "execution_count": 49,
      "metadata": {
        "colab": {
          "base_uri": "https://localhost:8080/"
        },
        "id": "w66Z8wDqeOC2",
        "outputId": "8644d423-eb3a-4d71-c79c-8ff9f750e53e"
      },
      "outputs": [
        {
          "data": {
            "text/plain": [
              "RangeIndex(start=0, stop=7, step=1)"
            ]
          },
          "execution_count": 49,
          "metadata": {},
          "output_type": "execute_result"
        }
      ],
      "source": [
        "b.index"
      ]
    },
    {
      "cell_type": "markdown",
      "metadata": {
        "id": "T8d2srMfeRlN"
      },
      "source": [
        "Общую информацию о массиве можно запросить с помощью метода **.info**. Нам вернется информация об индексах и столбцах данного массива, о том, какие типы данных храняться в каждом из столбцов, а так же информация о том, сколько памяти выделено под данный массив."
      ]
    },
    {
      "cell_type": "code",
      "execution_count": 50,
      "metadata": {
        "colab": {
          "base_uri": "https://localhost:8080/"
        },
        "id": "IgiTXvuQexyP",
        "outputId": "ffe12629-096a-4d0a-9a87-ecc1d8c64ebe"
      },
      "outputs": [
        {
          "name": "stdout",
          "output_type": "stream",
          "text": [
            "<class 'pandas.core.frame.DataFrame'>\n",
            "RangeIndex: 7 entries, 0 to 6\n",
            "Data columns (total 2 columns):\n",
            " #   Column  Non-Null Count  Dtype \n",
            "---  ------  --------------  ----- \n",
            " 0   col1    7 non-null      int64 \n",
            " 1   col2    7 non-null      object\n",
            "dtypes: int64(1), object(1)\n",
            "memory usage: 244.0+ bytes\n"
          ]
        }
      ],
      "source": [
        "b.info()"
      ]
    },
    {
      "cell_type": "markdown",
      "metadata": {
        "id": "rawoynxtfE7l"
      },
      "source": [
        "С помощью метода **.describe** можно получить некоторые статистические характеристики по столбцам с числовыми значениями: среднее значение, средне квадратичное отклонение, максимум, минимум, квантиль и пр."
      ]
    },
    {
      "cell_type": "code",
      "execution_count": 51,
      "metadata": {
        "colab": {
          "base_uri": "https://localhost:8080/",
          "height": 300
        },
        "id": "Xrlq_1s_fllT",
        "outputId": "54d32914-60a0-493d-9878-bad8837760f5"
      },
      "outputs": [
        {
          "data": {
            "text/html": [
              "<div>\n",
              "<style scoped>\n",
              "    .dataframe tbody tr th:only-of-type {\n",
              "        vertical-align: middle;\n",
              "    }\n",
              "\n",
              "    .dataframe tbody tr th {\n",
              "        vertical-align: top;\n",
              "    }\n",
              "\n",
              "    .dataframe thead th {\n",
              "        text-align: right;\n",
              "    }\n",
              "</style>\n",
              "<table border=\"1\" class=\"dataframe\">\n",
              "  <thead>\n",
              "    <tr style=\"text-align: right;\">\n",
              "      <th></th>\n",
              "      <th>col1</th>\n",
              "    </tr>\n",
              "  </thead>\n",
              "  <tbody>\n",
              "    <tr>\n",
              "      <th>count</th>\n",
              "      <td>7.000000</td>\n",
              "    </tr>\n",
              "    <tr>\n",
              "      <th>mean</th>\n",
              "      <td>4.714286</td>\n",
              "    </tr>\n",
              "    <tr>\n",
              "      <th>std</th>\n",
              "      <td>2.563480</td>\n",
              "    </tr>\n",
              "    <tr>\n",
              "      <th>min</th>\n",
              "      <td>1.000000</td>\n",
              "    </tr>\n",
              "    <tr>\n",
              "      <th>25%</th>\n",
              "      <td>3.000000</td>\n",
              "    </tr>\n",
              "    <tr>\n",
              "      <th>50%</th>\n",
              "      <td>5.000000</td>\n",
              "    </tr>\n",
              "    <tr>\n",
              "      <th>75%</th>\n",
              "      <td>6.500000</td>\n",
              "    </tr>\n",
              "    <tr>\n",
              "      <th>max</th>\n",
              "      <td>8.000000</td>\n",
              "    </tr>\n",
              "  </tbody>\n",
              "</table>\n",
              "</div>"
            ],
            "text/plain": [
              "           col1\n",
              "count  7.000000\n",
              "mean   4.714286\n",
              "std    2.563480\n",
              "min    1.000000\n",
              "25%    3.000000\n",
              "50%    5.000000\n",
              "75%    6.500000\n",
              "max    8.000000"
            ]
          },
          "execution_count": 51,
          "metadata": {},
          "output_type": "execute_result"
        }
      ],
      "source": [
        "b.describe()"
      ]
    },
    {
      "cell_type": "markdown",
      "metadata": {
        "id": "IAZLJOYZgSc_"
      },
      "source": [
        "##**Выбор данных из массива DataFrame**  \n",
        "Для получения данных из массива **DataFrame** используют тот же индекс, что и для **Series**. Например, с помощью методов **.head** и **.tail** можно получить несколько первых и несколько последних строк таблицы.  \n",
        "Отдельный столбец можно получить, передав его название в []."
      ]
    },
    {
      "cell_type": "code",
      "execution_count": 52,
      "metadata": {
        "colab": {
          "base_uri": "https://localhost:8080/"
        },
        "id": "PGTKM5GjhROu",
        "outputId": "076f7cba-3980-483b-bcd7-6569bb2751a2"
      },
      "outputs": [
        {
          "data": {
            "text/plain": [
              "0    1\n",
              "1    2\n",
              "2    4\n",
              "3    5\n",
              "4    6\n",
              "5    7\n",
              "6    8\n",
              "Name: col1, dtype: int64"
            ]
          },
          "execution_count": 52,
          "metadata": {},
          "output_type": "execute_result"
        }
      ],
      "source": [
        "b['col1']"
      ]
    },
    {
      "cell_type": "code",
      "execution_count": 53,
      "metadata": {
        "colab": {
          "base_uri": "https://localhost:8080/",
          "height": 203
        },
        "id": "95hAzJXfhU30",
        "outputId": "6c37feb2-d431-4fc9-f6c8-bb78de37e4ba"
      },
      "outputs": [
        {
          "data": {
            "text/plain": [
              "pandas.core.series.Series"
            ]
          },
          "execution_count": 53,
          "metadata": {},
          "output_type": "execute_result"
        }
      ],
      "source": [
        "type(b['col1'])"
      ]
    },
    {
      "cell_type": "code",
      "execution_count": 54,
      "metadata": {
        "colab": {
          "base_uri": "https://localhost:8080/",
          "height": 112
        },
        "id": "gBk81-PXhjuV",
        "outputId": "8742da5d-5f2e-458e-e827-af765eafb254"
      },
      "outputs": [
        {
          "data": {
            "text/html": [
              "<div>\n",
              "<style scoped>\n",
              "    .dataframe tbody tr th:only-of-type {\n",
              "        vertical-align: middle;\n",
              "    }\n",
              "\n",
              "    .dataframe tbody tr th {\n",
              "        vertical-align: top;\n",
              "    }\n",
              "\n",
              "    .dataframe thead th {\n",
              "        text-align: right;\n",
              "    }\n",
              "</style>\n",
              "<table border=\"1\" class=\"dataframe\">\n",
              "  <thead>\n",
              "    <tr style=\"text-align: right;\">\n",
              "      <th></th>\n",
              "      <th>col1</th>\n",
              "      <th>col2</th>\n",
              "    </tr>\n",
              "  </thead>\n",
              "  <tbody>\n",
              "    <tr>\n",
              "      <th>0</th>\n",
              "      <td>1</td>\n",
              "      <td>a</td>\n",
              "    </tr>\n",
              "    <tr>\n",
              "      <th>1</th>\n",
              "      <td>2</td>\n",
              "      <td>c</td>\n",
              "    </tr>\n",
              "  </tbody>\n",
              "</table>\n",
              "</div>"
            ],
            "text/plain": [
              "   col1 col2\n",
              "0     1    a\n",
              "1     2    c"
            ]
          },
          "execution_count": 54,
          "metadata": {},
          "output_type": "execute_result"
        }
      ],
      "source": [
        "b.head(2)"
      ]
    },
    {
      "cell_type": "markdown",
      "metadata": {
        "id": "84p5xqVehxXL"
      },
      "source": [
        "Каждый отдельный столбец массива **DataFrame** возвращается как массив типа Series.  \n",
        "Если мы указать несколько столбцов, в квадратные скобки нужно подать список из столбцов. Тогда нам вернется подтаблица исходной таблицы в формате **DataFrame**."
      ]
    },
    {
      "cell_type": "code",
      "execution_count": 55,
      "metadata": {
        "colab": {
          "base_uri": "https://localhost:8080/",
          "height": 269
        },
        "id": "bqmrmDPWiVE3",
        "outputId": "58a38dc7-b9fc-4142-ed3e-1bba7e892497"
      },
      "outputs": [
        {
          "data": {
            "text/html": [
              "<div>\n",
              "<style scoped>\n",
              "    .dataframe tbody tr th:only-of-type {\n",
              "        vertical-align: middle;\n",
              "    }\n",
              "\n",
              "    .dataframe tbody tr th {\n",
              "        vertical-align: top;\n",
              "    }\n",
              "\n",
              "    .dataframe thead th {\n",
              "        text-align: right;\n",
              "    }\n",
              "</style>\n",
              "<table border=\"1\" class=\"dataframe\">\n",
              "  <thead>\n",
              "    <tr style=\"text-align: right;\">\n",
              "      <th></th>\n",
              "      <th>col1</th>\n",
              "      <th>col2</th>\n",
              "    </tr>\n",
              "  </thead>\n",
              "  <tbody>\n",
              "    <tr>\n",
              "      <th>0</th>\n",
              "      <td>1</td>\n",
              "      <td>a</td>\n",
              "    </tr>\n",
              "    <tr>\n",
              "      <th>1</th>\n",
              "      <td>2</td>\n",
              "      <td>c</td>\n",
              "    </tr>\n",
              "    <tr>\n",
              "      <th>2</th>\n",
              "      <td>4</td>\n",
              "      <td>e</td>\n",
              "    </tr>\n",
              "    <tr>\n",
              "      <th>3</th>\n",
              "      <td>5</td>\n",
              "      <td>g</td>\n",
              "    </tr>\n",
              "    <tr>\n",
              "      <th>4</th>\n",
              "      <td>6</td>\n",
              "      <td>z</td>\n",
              "    </tr>\n",
              "    <tr>\n",
              "      <th>5</th>\n",
              "      <td>7</td>\n",
              "      <td>x</td>\n",
              "    </tr>\n",
              "    <tr>\n",
              "      <th>6</th>\n",
              "      <td>8</td>\n",
              "      <td>y</td>\n",
              "    </tr>\n",
              "  </tbody>\n",
              "</table>\n",
              "</div>"
            ],
            "text/plain": [
              "   col1 col2\n",
              "0     1    a\n",
              "1     2    c\n",
              "2     4    e\n",
              "3     5    g\n",
              "4     6    z\n",
              "5     7    x\n",
              "6     8    y"
            ]
          },
          "execution_count": 55,
          "metadata": {},
          "output_type": "execute_result"
        }
      ],
      "source": [
        "b[['col1','col2']]"
      ]
    },
    {
      "cell_type": "markdown",
      "metadata": {
        "id": "pSNr9mg8iXFF"
      },
      "source": [
        "Получить данные из строк таблицы **DataFrame** можно с помощью атрибута **.loc**. Этот атрибут представляет собой что-то вроде двумерного массива. Конкретное значение (или несколько значений) этого массива можно получить, указав нужный индекс и название колонки:"
      ]
    },
    {
      "cell_type": "code",
      "execution_count": 56,
      "metadata": {
        "colab": {
          "base_uri": "https://localhost:8080/",
          "height": 36
        },
        "id": "kg55VEidjE_W",
        "outputId": "83e780c7-0ecf-4506-bdef-271890c6d0f1"
      },
      "outputs": [
        {
          "data": {
            "text/plain": [
              "'e'"
            ]
          },
          "execution_count": 56,
          "metadata": {},
          "output_type": "execute_result"
        }
      ],
      "source": [
        "# Указывем индекс 2 и колонку 'col2'. Получаем 'e'\n",
        "b.loc[2, 'col2']"
      ]
    },
    {
      "cell_type": "code",
      "execution_count": 57,
      "metadata": {
        "colab": {
          "base_uri": "https://localhost:8080/",
          "height": 143
        },
        "id": "qNY1UPC8jtT6",
        "outputId": "c6ded30c-9fd7-47a2-b21f-a1e565cd18a3"
      },
      "outputs": [
        {
          "data": {
            "text/html": [
              "<div>\n",
              "<style scoped>\n",
              "    .dataframe tbody tr th:only-of-type {\n",
              "        vertical-align: middle;\n",
              "    }\n",
              "\n",
              "    .dataframe tbody tr th {\n",
              "        vertical-align: top;\n",
              "    }\n",
              "\n",
              "    .dataframe thead th {\n",
              "        text-align: right;\n",
              "    }\n",
              "</style>\n",
              "<table border=\"1\" class=\"dataframe\">\n",
              "  <thead>\n",
              "    <tr style=\"text-align: right;\">\n",
              "      <th></th>\n",
              "      <th>col1</th>\n",
              "      <th>col2</th>\n",
              "    </tr>\n",
              "  </thead>\n",
              "  <tbody>\n",
              "    <tr>\n",
              "      <th>0</th>\n",
              "      <td>1</td>\n",
              "      <td>a</td>\n",
              "    </tr>\n",
              "    <tr>\n",
              "      <th>2</th>\n",
              "      <td>4</td>\n",
              "      <td>e</td>\n",
              "    </tr>\n",
              "    <tr>\n",
              "      <th>4</th>\n",
              "      <td>6</td>\n",
              "      <td>z</td>\n",
              "    </tr>\n",
              "  </tbody>\n",
              "</table>\n",
              "</div>"
            ],
            "text/plain": [
              "   col1 col2\n",
              "0     1    a\n",
              "2     4    e\n",
              "4     6    z"
            ]
          },
          "execution_count": 57,
          "metadata": {},
          "output_type": "execute_result"
        }
      ],
      "source": [
        "# Указали только индексы, а колонкин не указывали, поэтомы вышли все колонки\n",
        "b.loc[[0, 2, 4]]"
      ]
    },
    {
      "cell_type": "markdown",
      "metadata": {
        "id": "zBTlPV7ZkF1R"
      },
      "source": [
        "При использованиии атрибута **.loc** мы должны указывать именно индекс нужной строки и название нужного столбца. Бывают ситуации, когда удобнее было бы получиь значение по позиции (т.е., например, элемент из третьей строки и второго столбца). Для этого можно использовать атрибуи **.iloc**"
      ]
    },
    {
      "cell_type": "code",
      "execution_count": 58,
      "metadata": {
        "colab": {
          "base_uri": "https://localhost:8080/",
          "height": 36
        },
        "id": "o9qN86SMkqye",
        "outputId": "120a48df-8f0f-4f8d-845a-e7ab8e630676"
      },
      "outputs": [
        {
          "data": {
            "text/plain": [
              "'e'"
            ]
          },
          "execution_count": 58,
          "metadata": {},
          "output_type": "execute_result"
        }
      ],
      "source": [
        "# Второй индекс, первый столбец (нумерация с нуля).\n",
        "b.iloc[2, 1]"
      ]
    },
    {
      "cell_type": "markdown",
      "metadata": {
        "id": "VxR-39YA_61J"
      },
      "source": [
        "Как и в **Series**, в массивах **DataFrame** есть возможность есть возможность использовать булеву индексацию для указания строк. Причем, условия могут касаться любого столбца или набора столбцов. Условия можно комбинировать с помощью логических операторов.  \n",
        "Например, получим значение из второго столбца у всех строк, значение первого столбца для которых больше 3 или равно 1:"
      ]
    },
    {
      "cell_type": "code",
      "execution_count": 59,
      "metadata": {
        "colab": {
          "base_uri": "https://localhost:8080/"
        },
        "id": "UfQBvd7ak28g",
        "outputId": "cbac1938-5d3b-40f9-8109-71400a5556a2"
      },
      "outputs": [
        {
          "data": {
            "text/plain": [
              "0    a\n",
              "2    e\n",
              "3    g\n",
              "4    z\n",
              "5    x\n",
              "6    y\n",
              "Name: col2, dtype: object"
            ]
          },
          "execution_count": 59,
          "metadata": {},
          "output_type": "execute_result"
        }
      ],
      "source": [
        "b.loc[(b['col1'] > 3) | (b['col1'] ==1), 'col2']"
      ]
    },
    {
      "cell_type": "code",
      "execution_count": 60,
      "metadata": {
        "colab": {
          "base_uri": "https://localhost:8080/"
        },
        "id": "NTS9KkCZHK9S",
        "outputId": "5faaa918-3470-452f-911c-576f1ff55ed9"
      },
      "outputs": [
        {
          "data": {
            "text/plain": [
              "0     True\n",
              "1    False\n",
              "2     True\n",
              "3     True\n",
              "4     True\n",
              "5     True\n",
              "6     True\n",
              "Name: col1, dtype: bool"
            ]
          },
          "execution_count": 60,
          "metadata": {},
          "output_type": "execute_result"
        }
      ],
      "source": [
        "(b['col1'] > 3) | (b['col1'] ==1)"
      ]
    },
    {
      "cell_type": "code",
      "execution_count": 61,
      "metadata": {
        "colab": {
          "base_uri": "https://localhost:8080/",
          "height": 269
        },
        "id": "9jX_31svBd4x",
        "outputId": "d8b772c5-b5f6-496f-aa08-d0d7d1997d24"
      },
      "outputs": [
        {
          "data": {
            "text/html": [
              "<div>\n",
              "<style scoped>\n",
              "    .dataframe tbody tr th:only-of-type {\n",
              "        vertical-align: middle;\n",
              "    }\n",
              "\n",
              "    .dataframe tbody tr th {\n",
              "        vertical-align: top;\n",
              "    }\n",
              "\n",
              "    .dataframe thead th {\n",
              "        text-align: right;\n",
              "    }\n",
              "</style>\n",
              "<table border=\"1\" class=\"dataframe\">\n",
              "  <thead>\n",
              "    <tr style=\"text-align: right;\">\n",
              "      <th></th>\n",
              "      <th>col1</th>\n",
              "      <th>col2</th>\n",
              "    </tr>\n",
              "  </thead>\n",
              "  <tbody>\n",
              "    <tr>\n",
              "      <th>0</th>\n",
              "      <td>1</td>\n",
              "      <td>a</td>\n",
              "    </tr>\n",
              "    <tr>\n",
              "      <th>1</th>\n",
              "      <td>2</td>\n",
              "      <td>c</td>\n",
              "    </tr>\n",
              "    <tr>\n",
              "      <th>2</th>\n",
              "      <td>4</td>\n",
              "      <td>e</td>\n",
              "    </tr>\n",
              "    <tr>\n",
              "      <th>3</th>\n",
              "      <td>5</td>\n",
              "      <td>g</td>\n",
              "    </tr>\n",
              "    <tr>\n",
              "      <th>4</th>\n",
              "      <td>6</td>\n",
              "      <td>z</td>\n",
              "    </tr>\n",
              "    <tr>\n",
              "      <th>5</th>\n",
              "      <td>7</td>\n",
              "      <td>x</td>\n",
              "    </tr>\n",
              "    <tr>\n",
              "      <th>6</th>\n",
              "      <td>8</td>\n",
              "      <td>y</td>\n",
              "    </tr>\n",
              "  </tbody>\n",
              "</table>\n",
              "</div>"
            ],
            "text/plain": [
              "   col1 col2\n",
              "0     1    a\n",
              "1     2    c\n",
              "2     4    e\n",
              "3     5    g\n",
              "4     6    z\n",
              "5     7    x\n",
              "6     8    y"
            ]
          },
          "execution_count": 61,
          "metadata": {},
          "output_type": "execute_result"
        }
      ],
      "source": [
        "b"
      ]
    },
    {
      "cell_type": "markdown",
      "metadata": {
        "id": "jmoUIFdlCXjA"
      },
      "source": [
        "В **pandas** есть несколько методов, упрощающее булеву индексацию:\n",
        "* b['col1'].between(3, 6) - все строки, для которых **значение** в первом столбще лежит между 3 и 6 (включая оба конца)  \n",
        "* b['col2'].isin(['a', 'z']) - все строки, для которых значение второго столбца содержится в списке['a', 'z']  \n",
        "Их так же можно использовать вместе с логическими операторами. Например, получим все строки из таблицы **b**, для которых значение первого столбца лежит между 3 и 6, а значение второго столбца не равно 'a' или 'z':"
      ]
    },
    {
      "cell_type": "code",
      "execution_count": 62,
      "metadata": {
        "colab": {
          "base_uri": "https://localhost:8080/"
        },
        "id": "J7fCeDsRGCdp",
        "outputId": "4c280d64-3858-46da-be81-590c2fa12e65"
      },
      "outputs": [
        {
          "data": {
            "text/plain": [
              "0    False\n",
              "1    False\n",
              "2     True\n",
              "3     True\n",
              "4     True\n",
              "5    False\n",
              "6    False\n",
              "Name: col1, dtype: bool"
            ]
          },
          "execution_count": 62,
          "metadata": {},
          "output_type": "execute_result"
        }
      ],
      "source": [
        "b['col1'].between(3, 6)"
      ]
    },
    {
      "cell_type": "code",
      "execution_count": 63,
      "metadata": {
        "colab": {
          "base_uri": "https://localhost:8080/"
        },
        "id": "H2Gx6tk2GJuK",
        "outputId": "49232a07-3be1-44db-e747-790daa35efaa"
      },
      "outputs": [
        {
          "data": {
            "text/plain": [
              "0    False\n",
              "1     True\n",
              "2     True\n",
              "3     True\n",
              "4    False\n",
              "5     True\n",
              "6     True\n",
              "Name: col2, dtype: bool"
            ]
          },
          "execution_count": 63,
          "metadata": {},
          "output_type": "execute_result"
        }
      ],
      "source": [
        "~b['col2'].isin(['a', 'z'])"
      ]
    },
    {
      "cell_type": "code",
      "execution_count": 64,
      "metadata": {
        "colab": {
          "base_uri": "https://localhost:8080/"
        },
        "id": "ITTqgYsHHtd5",
        "outputId": "1e705647-277a-4ddf-d415-80938d990848"
      },
      "outputs": [
        {
          "data": {
            "text/plain": [
              "0    False\n",
              "1    False\n",
              "2     True\n",
              "3     True\n",
              "4    False\n",
              "5    False\n",
              "6    False\n",
              "dtype: bool"
            ]
          },
          "execution_count": 64,
          "metadata": {},
          "output_type": "execute_result"
        }
      ],
      "source": [
        "(b['col1'].between(3, 6)) & (~b['col2'].isin(['a', 'z']))"
      ]
    },
    {
      "cell_type": "code",
      "execution_count": 65,
      "metadata": {
        "colab": {
          "base_uri": "https://localhost:8080/",
          "height": 112
        },
        "id": "pbVT-3ieD_bY",
        "outputId": "75309d93-875e-45ca-d820-ac7e44cdb9f5"
      },
      "outputs": [
        {
          "data": {
            "text/html": [
              "<div>\n",
              "<style scoped>\n",
              "    .dataframe tbody tr th:only-of-type {\n",
              "        vertical-align: middle;\n",
              "    }\n",
              "\n",
              "    .dataframe tbody tr th {\n",
              "        vertical-align: top;\n",
              "    }\n",
              "\n",
              "    .dataframe thead th {\n",
              "        text-align: right;\n",
              "    }\n",
              "</style>\n",
              "<table border=\"1\" class=\"dataframe\">\n",
              "  <thead>\n",
              "    <tr style=\"text-align: right;\">\n",
              "      <th></th>\n",
              "      <th>col1</th>\n",
              "      <th>col2</th>\n",
              "    </tr>\n",
              "  </thead>\n",
              "  <tbody>\n",
              "    <tr>\n",
              "      <th>2</th>\n",
              "      <td>4</td>\n",
              "      <td>e</td>\n",
              "    </tr>\n",
              "    <tr>\n",
              "      <th>3</th>\n",
              "      <td>5</td>\n",
              "      <td>g</td>\n",
              "    </tr>\n",
              "  </tbody>\n",
              "</table>\n",
              "</div>"
            ],
            "text/plain": [
              "   col1 col2\n",
              "2     4    e\n",
              "3     5    g"
            ]
          },
          "execution_count": 65,
          "metadata": {},
          "output_type": "execute_result"
        }
      ],
      "source": [
        "b[(b['col1'].between(3, 6)) & (~b['col2'].isin(['a', 'z']))]"
      ]
    },
    {
      "cell_type": "markdown",
      "metadata": {
        "id": "HPjdw6kqIHXe"
      },
      "source": [
        "Более короткий и удобный функционал для таких запросов реализован методом **.query**. В него подается строка, содержащая булевы условия на значения столбцов. При этом, переменную массива мы уже не пишем, а к столбцам обращаемся без кавычек. В остальном, допускается тот же синтаксис с использованием булевых операторов:"
      ]
    },
    {
      "cell_type": "code",
      "execution_count": 66,
      "metadata": {
        "colab": {
          "base_uri": "https://localhost:8080/",
          "height": 112
        },
        "id": "qS8YWYo3I45Q",
        "outputId": "60f2e8c7-d24d-4d2c-a121-09d80308f4bf"
      },
      "outputs": [
        {
          "data": {
            "text/html": [
              "<div>\n",
              "<style scoped>\n",
              "    .dataframe tbody tr th:only-of-type {\n",
              "        vertical-align: middle;\n",
              "    }\n",
              "\n",
              "    .dataframe tbody tr th {\n",
              "        vertical-align: top;\n",
              "    }\n",
              "\n",
              "    .dataframe thead th {\n",
              "        text-align: right;\n",
              "    }\n",
              "</style>\n",
              "<table border=\"1\" class=\"dataframe\">\n",
              "  <thead>\n",
              "    <tr style=\"text-align: right;\">\n",
              "      <th></th>\n",
              "      <th>col1</th>\n",
              "      <th>col2</th>\n",
              "    </tr>\n",
              "  </thead>\n",
              "  <tbody>\n",
              "    <tr>\n",
              "      <th>2</th>\n",
              "      <td>4</td>\n",
              "      <td>e</td>\n",
              "    </tr>\n",
              "    <tr>\n",
              "      <th>3</th>\n",
              "      <td>5</td>\n",
              "      <td>g</td>\n",
              "    </tr>\n",
              "  </tbody>\n",
              "</table>\n",
              "</div>"
            ],
            "text/plain": [
              "   col1 col2\n",
              "2     4    e\n",
              "3     5    g"
            ]
          },
          "execution_count": 66,
          "metadata": {},
          "output_type": "execute_result"
        }
      ],
      "source": [
        "# Своего рода синтаксический сахар\n",
        "b.query('(col1 < 6) & (col2 > \"c\")')"
      ]
    },
    {
      "cell_type": "code",
      "execution_count": 67,
      "metadata": {
        "colab": {
          "base_uri": "https://localhost:8080/",
          "height": 269
        },
        "id": "LlNiNGb_Jd5K",
        "outputId": "8387acaa-c085-497a-fdbb-687947a27396"
      },
      "outputs": [
        {
          "data": {
            "text/html": [
              "<div>\n",
              "<style scoped>\n",
              "    .dataframe tbody tr th:only-of-type {\n",
              "        vertical-align: middle;\n",
              "    }\n",
              "\n",
              "    .dataframe tbody tr th {\n",
              "        vertical-align: top;\n",
              "    }\n",
              "\n",
              "    .dataframe thead th {\n",
              "        text-align: right;\n",
              "    }\n",
              "</style>\n",
              "<table border=\"1\" class=\"dataframe\">\n",
              "  <thead>\n",
              "    <tr style=\"text-align: right;\">\n",
              "      <th></th>\n",
              "      <th>col1</th>\n",
              "      <th>col2</th>\n",
              "    </tr>\n",
              "  </thead>\n",
              "  <tbody>\n",
              "    <tr>\n",
              "      <th>0</th>\n",
              "      <td>1</td>\n",
              "      <td>a</td>\n",
              "    </tr>\n",
              "    <tr>\n",
              "      <th>1</th>\n",
              "      <td>2</td>\n",
              "      <td>c</td>\n",
              "    </tr>\n",
              "    <tr>\n",
              "      <th>2</th>\n",
              "      <td>4</td>\n",
              "      <td>e</td>\n",
              "    </tr>\n",
              "    <tr>\n",
              "      <th>3</th>\n",
              "      <td>5</td>\n",
              "      <td>g</td>\n",
              "    </tr>\n",
              "    <tr>\n",
              "      <th>4</th>\n",
              "      <td>6</td>\n",
              "      <td>z</td>\n",
              "    </tr>\n",
              "    <tr>\n",
              "      <th>5</th>\n",
              "      <td>7</td>\n",
              "      <td>x</td>\n",
              "    </tr>\n",
              "    <tr>\n",
              "      <th>6</th>\n",
              "      <td>8</td>\n",
              "      <td>y</td>\n",
              "    </tr>\n",
              "  </tbody>\n",
              "</table>\n",
              "</div>"
            ],
            "text/plain": [
              "   col1 col2\n",
              "0     1    a\n",
              "1     2    c\n",
              "2     4    e\n",
              "3     5    g\n",
              "4     6    z\n",
              "5     7    x\n",
              "6     8    y"
            ]
          },
          "execution_count": 67,
          "metadata": {},
          "output_type": "execute_result"
        }
      ],
      "source": [
        "b"
      ]
    },
    {
      "cell_type": "markdown",
      "metadata": {
        "id": "Tjg1cGitJ0Nr"
      },
      "source": [
        "Выбирая один столбец из **DataFrame**, мы получаем массив **Series**. Если хочется получиить массив именно в виде **DataFrame**, можно запросить его, подавая не название столбца, а список содержащий только один этот столбец (такой трюк):"
      ]
    },
    {
      "cell_type": "code",
      "execution_count": 68,
      "metadata": {
        "colab": {
          "base_uri": "https://localhost:8080/",
          "height": 203
        },
        "id": "EdSTRUlrKhGg",
        "outputId": "751acfb5-a630-4a82-9808-b7877b49e4be"
      },
      "outputs": [
        {
          "data": {
            "text/plain": [
              "pandas.core.series.Series"
            ]
          },
          "execution_count": 68,
          "metadata": {},
          "output_type": "execute_result"
        }
      ],
      "source": [
        "type(b['col1'])"
      ]
    },
    {
      "cell_type": "code",
      "execution_count": 69,
      "metadata": {
        "colab": {
          "base_uri": "https://localhost:8080/",
          "height": 203
        },
        "id": "kRqoFTOlKke6",
        "outputId": "f2932192-422d-41b9-b9f5-8770ee4319cb"
      },
      "outputs": [
        {
          "data": {
            "text/plain": [
              "pandas.core.frame.DataFrame"
            ]
          },
          "execution_count": 69,
          "metadata": {},
          "output_type": "execute_result"
        }
      ],
      "source": [
        "# Туту список списков\n",
        "type(b[['col1']])"
      ]
    },
    {
      "cell_type": "markdown",
      "metadata": {
        "id": "1BETynkzLNTU"
      },
      "source": [
        "В любом случае, конвертировать **Series** в **DataFrame** можно и явно:"
      ]
    },
    {
      "cell_type": "code",
      "execution_count": 70,
      "metadata": {
        "colab": {
          "base_uri": "https://localhost:8080/",
          "height": 143
        },
        "id": "4hz7FXmSLX-h",
        "outputId": "96eaf7a5-148b-4d93-d6e4-848a95a5c9ce"
      },
      "outputs": [
        {
          "data": {
            "text/html": [
              "<div>\n",
              "<style scoped>\n",
              "    .dataframe tbody tr th:only-of-type {\n",
              "        vertical-align: middle;\n",
              "    }\n",
              "\n",
              "    .dataframe tbody tr th {\n",
              "        vertical-align: top;\n",
              "    }\n",
              "\n",
              "    .dataframe thead th {\n",
              "        text-align: right;\n",
              "    }\n",
              "</style>\n",
              "<table border=\"1\" class=\"dataframe\">\n",
              "  <thead>\n",
              "    <tr style=\"text-align: right;\">\n",
              "      <th></th>\n",
              "      <th>0</th>\n",
              "    </tr>\n",
              "  </thead>\n",
              "  <tbody>\n",
              "    <tr>\n",
              "      <th>0</th>\n",
              "      <td>1</td>\n",
              "    </tr>\n",
              "    <tr>\n",
              "      <th>1</th>\n",
              "      <td>2</td>\n",
              "    </tr>\n",
              "    <tr>\n",
              "      <th>2</th>\n",
              "      <td>3</td>\n",
              "    </tr>\n",
              "  </tbody>\n",
              "</table>\n",
              "</div>"
            ],
            "text/plain": [
              "   0\n",
              "0  1\n",
              "1  2\n",
              "2  3"
            ]
          },
          "execution_count": 70,
          "metadata": {},
          "output_type": "execute_result"
        }
      ],
      "source": [
        "c = pd.Series([1, 2, 3])\n",
        "d = pd.DataFrame(c)\n",
        "d"
      ]
    },
    {
      "cell_type": "markdown",
      "metadata": {
        "id": "ehHQYMIELsBZ"
      },
      "source": [
        "Если требуется скопировать массив  **Series** или **DataFrame**, это можно сделать с помощью метода **.copy**:"
      ]
    },
    {
      "cell_type": "code",
      "execution_count": 71,
      "metadata": {
        "colab": {
          "base_uri": "https://localhost:8080/",
          "height": 143
        },
        "id": "vxkKq6TkL99J",
        "outputId": "577c0933-eaac-4cc5-aca7-2e6710964169"
      },
      "outputs": [
        {
          "data": {
            "text/html": [
              "<div>\n",
              "<style scoped>\n",
              "    .dataframe tbody tr th:only-of-type {\n",
              "        vertical-align: middle;\n",
              "    }\n",
              "\n",
              "    .dataframe tbody tr th {\n",
              "        vertical-align: top;\n",
              "    }\n",
              "\n",
              "    .dataframe thead th {\n",
              "        text-align: right;\n",
              "    }\n",
              "</style>\n",
              "<table border=\"1\" class=\"dataframe\">\n",
              "  <thead>\n",
              "    <tr style=\"text-align: right;\">\n",
              "      <th></th>\n",
              "      <th>0</th>\n",
              "    </tr>\n",
              "  </thead>\n",
              "  <tbody>\n",
              "    <tr>\n",
              "      <th>0</th>\n",
              "      <td>1</td>\n",
              "    </tr>\n",
              "    <tr>\n",
              "      <th>1</th>\n",
              "      <td>2</td>\n",
              "    </tr>\n",
              "    <tr>\n",
              "      <th>2</th>\n",
              "      <td>3</td>\n",
              "    </tr>\n",
              "  </tbody>\n",
              "</table>\n",
              "</div>"
            ],
            "text/plain": [
              "   0\n",
              "0  1\n",
              "1  2\n",
              "2  3"
            ]
          },
          "execution_count": 71,
          "metadata": {},
          "output_type": "execute_result"
        }
      ],
      "source": [
        "e = d.copy()\n",
        "e"
      ]
    },
    {
      "cell_type": "markdown",
      "metadata": {
        "id": "-ZwCP4N1PO-o"
      },
      "source": [
        "##**Случайный выбор значений из DataFrame**\n",
        "Случайный выбор строк из массива DataFrame производится с помощью метода **.sample**. Вот несколько его важных параметров:\n",
        "* frac - какую долю от общего числа стррок нужно вернуть (число от 0 до 1)\n",
        "* n - сколько строк нужно вернуть (число от 0 до числа строк в массиве)\n",
        "* replace - индикатор того, производится ли выбор с *возвращением*, т.е. с возможным повторением строк в выборке, или без возвражения (True Или False)  \n",
        "Нельзя использовать параметры frac и n одновременно, нужно выбрать какой-то один."
      ]
    },
    {
      "cell_type": "code",
      "execution_count": 72,
      "metadata": {
        "colab": {
          "base_uri": "https://localhost:8080/",
          "height": 175
        },
        "id": "Hwa3-DUhQk30",
        "outputId": "b846208a-aecc-42cf-9945-44e7bd0aebf1"
      },
      "outputs": [
        {
          "data": {
            "text/html": [
              "<div>\n",
              "<style scoped>\n",
              "    .dataframe tbody tr th:only-of-type {\n",
              "        vertical-align: middle;\n",
              "    }\n",
              "\n",
              "    .dataframe tbody tr th {\n",
              "        vertical-align: top;\n",
              "    }\n",
              "\n",
              "    .dataframe thead th {\n",
              "        text-align: right;\n",
              "    }\n",
              "</style>\n",
              "<table border=\"1\" class=\"dataframe\">\n",
              "  <thead>\n",
              "    <tr style=\"text-align: right;\">\n",
              "      <th></th>\n",
              "      <th>col1</th>\n",
              "      <th>col2</th>\n",
              "    </tr>\n",
              "  </thead>\n",
              "  <tbody>\n",
              "    <tr>\n",
              "      <th>2</th>\n",
              "      <td>4</td>\n",
              "      <td>e</td>\n",
              "    </tr>\n",
              "    <tr>\n",
              "      <th>0</th>\n",
              "      <td>1</td>\n",
              "      <td>a</td>\n",
              "    </tr>\n",
              "    <tr>\n",
              "      <th>3</th>\n",
              "      <td>5</td>\n",
              "      <td>g</td>\n",
              "    </tr>\n",
              "    <tr>\n",
              "      <th>2</th>\n",
              "      <td>4</td>\n",
              "      <td>e</td>\n",
              "    </tr>\n",
              "  </tbody>\n",
              "</table>\n",
              "</div>"
            ],
            "text/plain": [
              "   col1 col2\n",
              "2     4    e\n",
              "0     1    a\n",
              "3     5    g\n",
              "2     4    e"
            ]
          },
          "execution_count": 72,
          "metadata": {},
          "output_type": "execute_result"
        }
      ],
      "source": [
        "b.sample(frac=0.5, replace=True)"
      ]
    },
    {
      "cell_type": "markdown",
      "metadata": {
        "id": "9Yp-GIYwQyg4"
      },
      "source": [
        "Если требуется просто перемешать всю выборку, это также можно выполнить с помощью метода .sample, передав в него параметр frac=1."
      ]
    },
    {
      "cell_type": "markdown",
      "metadata": {
        "id": "eg1KbWX1RF7F"
      },
      "source": [
        "##**Запись и чтение DataFrame из файла  \n",
        "Для хранения таблиц широко используется формат файлов **.csv**.  \n",
        "Сохранить массив в файл можно с помощью метода **.to_csv**. Вот несколько важных параметоров этого метода:\n",
        "* sep - символ, который нужно использовать для разделения значения столбцов между собой. По умолчанию это \",\" но можно также использовать \";\", \"\\t\" и др.  \n",
        "* index - булево значение, индикатор того, нужно ли в файл сохранять также столбец индексов."
      ]
    },
    {
      "cell_type": "code",
      "execution_count": 73,
      "metadata": {
        "id": "iQZGje4uSo19"
      },
      "outputs": [],
      "source": [
        "b.to_csv(\"test.csv\", sep=\";\", index=False)\n",
        "# b.to_excel(\"test.csv\")"
      ]
    },
    {
      "cell_type": "markdown",
      "metadata": {
        "id": "bX6-mS2EU7Y1"
      },
      "source": [
        "Прочитать массив из файла можно с помощью функции **pd.read_csv**. Здесь также можно указать разделитель столбцов в параметре **sep**"
      ]
    },
    {
      "cell_type": "code",
      "execution_count": 74,
      "metadata": {
        "colab": {
          "base_uri": "https://localhost:8080/",
          "height": 269
        },
        "id": "lUFoqmHtXvIF",
        "outputId": "71e0f1eb-e65f-42b9-f20f-bac9d0728ae0"
      },
      "outputs": [
        {
          "data": {
            "text/html": [
              "<div>\n",
              "<style scoped>\n",
              "    .dataframe tbody tr th:only-of-type {\n",
              "        vertical-align: middle;\n",
              "    }\n",
              "\n",
              "    .dataframe tbody tr th {\n",
              "        vertical-align: top;\n",
              "    }\n",
              "\n",
              "    .dataframe thead th {\n",
              "        text-align: right;\n",
              "    }\n",
              "</style>\n",
              "<table border=\"1\" class=\"dataframe\">\n",
              "  <thead>\n",
              "    <tr style=\"text-align: right;\">\n",
              "      <th></th>\n",
              "      <th>col1</th>\n",
              "      <th>col2</th>\n",
              "    </tr>\n",
              "  </thead>\n",
              "  <tbody>\n",
              "    <tr>\n",
              "      <th>0</th>\n",
              "      <td>1</td>\n",
              "      <td>a</td>\n",
              "    </tr>\n",
              "    <tr>\n",
              "      <th>1</th>\n",
              "      <td>2</td>\n",
              "      <td>c</td>\n",
              "    </tr>\n",
              "    <tr>\n",
              "      <th>2</th>\n",
              "      <td>4</td>\n",
              "      <td>e</td>\n",
              "    </tr>\n",
              "    <tr>\n",
              "      <th>3</th>\n",
              "      <td>5</td>\n",
              "      <td>g</td>\n",
              "    </tr>\n",
              "    <tr>\n",
              "      <th>4</th>\n",
              "      <td>6</td>\n",
              "      <td>z</td>\n",
              "    </tr>\n",
              "    <tr>\n",
              "      <th>5</th>\n",
              "      <td>7</td>\n",
              "      <td>x</td>\n",
              "    </tr>\n",
              "    <tr>\n",
              "      <th>6</th>\n",
              "      <td>8</td>\n",
              "      <td>y</td>\n",
              "    </tr>\n",
              "  </tbody>\n",
              "</table>\n",
              "</div>"
            ],
            "text/plain": [
              "   col1 col2\n",
              "0     1    a\n",
              "1     2    c\n",
              "2     4    e\n",
              "3     5    g\n",
              "4     6    z\n",
              "5     7    x\n",
              "6     8    y"
            ]
          },
          "execution_count": 74,
          "metadata": {},
          "output_type": "execute_result"
        }
      ],
      "source": [
        "b = pd.read_csv('test.csv', sep=\";\")\n",
        "b"
      ]
    },
    {
      "cell_type": "markdown",
      "metadata": {
        "id": "fnW4Ex5rYDud"
      },
      "source": [
        "У данных команд для сохранения и чтения таблиц есть множество других важных и полезных параметров, поэтому рекомендуем также изучить их документацию:  [to_csv](https://pandas.pydata.org/pandas-docs/stable/reference/api/pandas.DataFrame.to_csv.html), [read_csv](https://pandas.pydata.org/pandas-docs/stable/reference/api/pandas.read_csv.html#pandas-read-csv)\n",
        "В **pandas** также имеются аналогичные команды для сохранения и записи таблич как excel и pickle."
      ]
    },
    {
      "cell_type": "markdown",
      "metadata": {
        "id": "82sfqBGfYuql"
      },
      "source": [
        "#**Работа с дандами в Pandas**\n",
        "##**Слияние данных**\n",
        "Рассмотрим следующий пример. Допустим мы работаем с небольшим отделом книжного магазина, в котором продается классическая литература на английском языке. Наша задача систематизировать ассортимент отдела.  \n",
        "У нас есть таблица **authors**, содержащая данные об авторах: их индентификаторы (author_id) и имена (author_name):"
      ]
    },
    {
      "cell_type": "code",
      "execution_count": 75,
      "metadata": {
        "colab": {
          "base_uri": "https://localhost:8080/",
          "height": 143
        },
        "id": "rU4r15ACZogT",
        "outputId": "fa42b10a-602a-49b8-ac59-13e930f29608"
      },
      "outputs": [
        {
          "data": {
            "text/html": [
              "<div>\n",
              "<style scoped>\n",
              "    .dataframe tbody tr th:only-of-type {\n",
              "        vertical-align: middle;\n",
              "    }\n",
              "\n",
              "    .dataframe tbody tr th {\n",
              "        vertical-align: top;\n",
              "    }\n",
              "\n",
              "    .dataframe thead th {\n",
              "        text-align: right;\n",
              "    }\n",
              "</style>\n",
              "<table border=\"1\" class=\"dataframe\">\n",
              "  <thead>\n",
              "    <tr style=\"text-align: right;\">\n",
              "      <th></th>\n",
              "      <th>author_id</th>\n",
              "      <th>author_name</th>\n",
              "    </tr>\n",
              "  </thead>\n",
              "  <tbody>\n",
              "    <tr>\n",
              "      <th>0</th>\n",
              "      <td>1</td>\n",
              "      <td>Pushkin</td>\n",
              "    </tr>\n",
              "    <tr>\n",
              "      <th>1</th>\n",
              "      <td>2</td>\n",
              "      <td>Tolstoy</td>\n",
              "    </tr>\n",
              "    <tr>\n",
              "      <th>2</th>\n",
              "      <td>3</td>\n",
              "      <td>Dostoevsky</td>\n",
              "    </tr>\n",
              "  </tbody>\n",
              "</table>\n",
              "</div>"
            ],
            "text/plain": [
              "   author_id author_name\n",
              "0          1     Pushkin\n",
              "1          2     Tolstoy\n",
              "2          3  Dostoevsky"
            ]
          },
          "execution_count": 75,
          "metadata": {},
          "output_type": "execute_result"
        }
      ],
      "source": [
        "authors = pd.DataFrame({\n",
        "    \"author_id\": [1, 2, 3],\n",
        "    \"author_name\": ['Pushkin', 'Tolstoy', 'Dostoevsky']\n",
        "})\n",
        "authors"
      ]
    },
    {
      "cell_type": "markdown",
      "metadata": {
        "id": "uOva_9NoiK_3"
      },
      "source": [
        "Кроме того у нас есть таблица books, содержащая информацию о книгах этих авторов. В этой таблице есть колонка author_id, а также колонка book_title, содержащая название книги:"
      ]
    },
    {
      "cell_type": "code",
      "execution_count": 76,
      "metadata": {
        "colab": {
          "base_uri": "https://localhost:8080/",
          "height": 175
        },
        "id": "dGHMN1tpizgt",
        "outputId": "0e6a3fbc-6a29-4023-c641-5f4dd64ea14e"
      },
      "outputs": [
        {
          "data": {
            "text/html": [
              "<div>\n",
              "<style scoped>\n",
              "    .dataframe tbody tr th:only-of-type {\n",
              "        vertical-align: middle;\n",
              "    }\n",
              "\n",
              "    .dataframe tbody tr th {\n",
              "        vertical-align: top;\n",
              "    }\n",
              "\n",
              "    .dataframe thead th {\n",
              "        text-align: right;\n",
              "    }\n",
              "</style>\n",
              "<table border=\"1\" class=\"dataframe\">\n",
              "  <thead>\n",
              "    <tr style=\"text-align: right;\">\n",
              "      <th></th>\n",
              "      <th>author_id</th>\n",
              "      <th>book_title</th>\n",
              "    </tr>\n",
              "  </thead>\n",
              "  <tbody>\n",
              "    <tr>\n",
              "      <th>0</th>\n",
              "      <td>2</td>\n",
              "      <td>War and Peace</td>\n",
              "    </tr>\n",
              "    <tr>\n",
              "      <th>1</th>\n",
              "      <td>3</td>\n",
              "      <td>The Idiot</td>\n",
              "    </tr>\n",
              "    <tr>\n",
              "      <th>2</th>\n",
              "      <td>3</td>\n",
              "      <td>Crime and Punishment</td>\n",
              "    </tr>\n",
              "    <tr>\n",
              "      <th>3</th>\n",
              "      <td>4</td>\n",
              "      <td>Fathers and Sons</td>\n",
              "    </tr>\n",
              "  </tbody>\n",
              "</table>\n",
              "</div>"
            ],
            "text/plain": [
              "   author_id            book_title\n",
              "0          2         War and Peace\n",
              "1          3             The Idiot\n",
              "2          3  Crime and Punishment\n",
              "3          4      Fathers and Sons"
            ]
          },
          "execution_count": 76,
          "metadata": {},
          "output_type": "execute_result"
        }
      ],
      "source": [
        "books = pd.DataFrame({\n",
        "   \"author_id\": [2, 3, 3, 4],\n",
        "    \"book_title\": ['War and Peace', 'The Idiot', 'Crime and Punishment', 'Fathers and Sons']\n",
        "})\n",
        "books"
      ]
    },
    {
      "cell_type": "markdown",
      "metadata": {
        "id": "4KZZUIDFj_r4"
      },
      "source": [
        "Мы хотим сопоставить название книги именам их авторов. Для этого используем функцию **pd.merge**: в эту функцию помещаются те таблицы, которые мы хотим соединить, а так же несколько других важных аргументов:\n",
        "* on - параметр, отвечающий за то, какой параметр мы будем испоьлзовать для слияния\n",
        "* how - каким образом производить слияние  \n",
        "\n",
        "**Опишем подробнее, какие параметры может принимать параметр how:**\n",
        "\n",
        "* inner - внутреннее слияние. В этом случае учавствуют только те строки, которые присутствуют в обоих таблицах\n",
        "* left - в слияние учавсивуют все строки из левой таблицы\n",
        "* right - то же самое, но для правой таблицы\n",
        "* outer - внешнее слияние, соединяются все строки как из левой, так и из правой таблицы"
      ]
    },
    {
      "cell_type": "code",
      "execution_count": 77,
      "metadata": {
        "colab": {
          "base_uri": "https://localhost:8080/",
          "height": 143
        },
        "id": "ArUaFUu5lojd",
        "outputId": "9a6107c6-04f0-4808-ee82-d25827643e33"
      },
      "outputs": [
        {
          "data": {
            "text/html": [
              "<div>\n",
              "<style scoped>\n",
              "    .dataframe tbody tr th:only-of-type {\n",
              "        vertical-align: middle;\n",
              "    }\n",
              "\n",
              "    .dataframe tbody tr th {\n",
              "        vertical-align: top;\n",
              "    }\n",
              "\n",
              "    .dataframe thead th {\n",
              "        text-align: right;\n",
              "    }\n",
              "</style>\n",
              "<table border=\"1\" class=\"dataframe\">\n",
              "  <thead>\n",
              "    <tr style=\"text-align: right;\">\n",
              "      <th></th>\n",
              "      <th>author_id</th>\n",
              "      <th>author_name</th>\n",
              "      <th>book_title</th>\n",
              "    </tr>\n",
              "  </thead>\n",
              "  <tbody>\n",
              "    <tr>\n",
              "      <th>0</th>\n",
              "      <td>2</td>\n",
              "      <td>Tolstoy</td>\n",
              "      <td>War and Peace</td>\n",
              "    </tr>\n",
              "    <tr>\n",
              "      <th>1</th>\n",
              "      <td>3</td>\n",
              "      <td>Dostoevsky</td>\n",
              "      <td>The Idiot</td>\n",
              "    </tr>\n",
              "    <tr>\n",
              "      <th>2</th>\n",
              "      <td>3</td>\n",
              "      <td>Dostoevsky</td>\n",
              "      <td>Crime and Punishment</td>\n",
              "    </tr>\n",
              "  </tbody>\n",
              "</table>\n",
              "</div>"
            ],
            "text/plain": [
              "   author_id author_name            book_title\n",
              "0          2     Tolstoy         War and Peace\n",
              "1          3  Dostoevsky             The Idiot\n",
              "2          3  Dostoevsky  Crime and Punishment"
            ]
          },
          "execution_count": 77,
          "metadata": {},
          "output_type": "execute_result"
        }
      ],
      "source": [
        "pd.merge(authors, books, on='author_id', how='inner')"
      ]
    },
    {
      "cell_type": "markdown",
      "metadata": {
        "id": "GN1DGvGpmkYO"
      },
      "source": [
        "Если мы выбираем 'left', 'right' или 'outer', может случиться так, что строку из одной таблицы будет невозможно соединить со второй. Например, мы видим, что в нашей таблице books нет произведений Пушкина (его id равен 1). В свою очередь, в твблице books есть книга, для которой author_id равен 4, хотя, в таблице authors нет записи с таким author_id. Рассмотрм внешнее слияние таких таблиц:"
      ]
    },
    {
      "cell_type": "code",
      "execution_count": 78,
      "metadata": {
        "colab": {
          "base_uri": "https://localhost:8080/",
          "height": 206
        },
        "id": "MjZQgLVUnhMG",
        "outputId": "be5c04bf-c592-41f1-e2da-1c0a223fb797"
      },
      "outputs": [
        {
          "data": {
            "text/html": [
              "<div>\n",
              "<style scoped>\n",
              "    .dataframe tbody tr th:only-of-type {\n",
              "        vertical-align: middle;\n",
              "    }\n",
              "\n",
              "    .dataframe tbody tr th {\n",
              "        vertical-align: top;\n",
              "    }\n",
              "\n",
              "    .dataframe thead th {\n",
              "        text-align: right;\n",
              "    }\n",
              "</style>\n",
              "<table border=\"1\" class=\"dataframe\">\n",
              "  <thead>\n",
              "    <tr style=\"text-align: right;\">\n",
              "      <th></th>\n",
              "      <th>author_id</th>\n",
              "      <th>author_name</th>\n",
              "      <th>book_title</th>\n",
              "    </tr>\n",
              "  </thead>\n",
              "  <tbody>\n",
              "    <tr>\n",
              "      <th>0</th>\n",
              "      <td>1</td>\n",
              "      <td>Pushkin</td>\n",
              "      <td>NaN</td>\n",
              "    </tr>\n",
              "    <tr>\n",
              "      <th>1</th>\n",
              "      <td>2</td>\n",
              "      <td>Tolstoy</td>\n",
              "      <td>War and Peace</td>\n",
              "    </tr>\n",
              "    <tr>\n",
              "      <th>2</th>\n",
              "      <td>3</td>\n",
              "      <td>Dostoevsky</td>\n",
              "      <td>The Idiot</td>\n",
              "    </tr>\n",
              "    <tr>\n",
              "      <th>3</th>\n",
              "      <td>3</td>\n",
              "      <td>Dostoevsky</td>\n",
              "      <td>Crime and Punishment</td>\n",
              "    </tr>\n",
              "    <tr>\n",
              "      <th>4</th>\n",
              "      <td>4</td>\n",
              "      <td>NaN</td>\n",
              "      <td>Fathers and Sons</td>\n",
              "    </tr>\n",
              "  </tbody>\n",
              "</table>\n",
              "</div>"
            ],
            "text/plain": [
              "   author_id author_name            book_title\n",
              "0          1     Pushkin                   NaN\n",
              "1          2     Tolstoy         War and Peace\n",
              "2          3  Dostoevsky             The Idiot\n",
              "3          3  Dostoevsky  Crime and Punishment\n",
              "4          4         NaN      Fathers and Sons"
            ]
          },
          "execution_count": 78,
          "metadata": {},
          "output_type": "execute_result"
        }
      ],
      "source": [
        "merged_df = pd.merge(authors, books, on='author_id', how='outer')\n",
        "merged_df"
      ]
    },
    {
      "cell_type": "markdown",
      "metadata": {
        "id": "4K0GYj5goK4Z"
      },
      "source": [
        "В получившейся таблице присутствуют пропущенные значения (NaN)."
      ]
    },
    {
      "cell_type": "markdown",
      "metadata": {
        "id": "NYgfZkrtop4y"
      },
      "source": [
        "##**Работа с пропущенными данными**\n",
        "Пропущенные значения в **Series** или **DataFrame** можно получить с помощью метода .isnull. Наоборот, все имеющиеся непустые значения можно получиь с помощью метода **.notnull**"
      ]
    },
    {
      "cell_type": "code",
      "execution_count": 79,
      "metadata": {
        "colab": {
          "base_uri": "https://localhost:8080/",
          "height": 81
        },
        "id": "dLnsVtE7pXyP",
        "outputId": "5a3e37bb-f8ec-4bab-b380-456ec0b35ad8"
      },
      "outputs": [
        {
          "data": {
            "text/html": [
              "<div>\n",
              "<style scoped>\n",
              "    .dataframe tbody tr th:only-of-type {\n",
              "        vertical-align: middle;\n",
              "    }\n",
              "\n",
              "    .dataframe tbody tr th {\n",
              "        vertical-align: top;\n",
              "    }\n",
              "\n",
              "    .dataframe thead th {\n",
              "        text-align: right;\n",
              "    }\n",
              "</style>\n",
              "<table border=\"1\" class=\"dataframe\">\n",
              "  <thead>\n",
              "    <tr style=\"text-align: right;\">\n",
              "      <th></th>\n",
              "      <th>author_id</th>\n",
              "      <th>author_name</th>\n",
              "      <th>book_title</th>\n",
              "    </tr>\n",
              "  </thead>\n",
              "  <tbody>\n",
              "    <tr>\n",
              "      <th>4</th>\n",
              "      <td>4</td>\n",
              "      <td>NaN</td>\n",
              "      <td>Fathers and Sons</td>\n",
              "    </tr>\n",
              "  </tbody>\n",
              "</table>\n",
              "</div>"
            ],
            "text/plain": [
              "   author_id author_name        book_title\n",
              "4          4         NaN  Fathers and Sons"
            ]
          },
          "execution_count": 79,
          "metadata": {},
          "output_type": "execute_result"
        }
      ],
      "source": [
        "merged_df[merged_df['author_name'].isnull()]\n",
        "# merged_df['author_name'].isnull()"
      ]
    },
    {
      "cell_type": "code",
      "execution_count": 80,
      "metadata": {
        "colab": {
          "base_uri": "https://localhost:8080/",
          "height": 175
        },
        "id": "CteEj2ZYqA1G",
        "outputId": "05cd70e6-e70b-43d2-c868-c4575cb3fe44"
      },
      "outputs": [
        {
          "data": {
            "text/html": [
              "<div>\n",
              "<style scoped>\n",
              "    .dataframe tbody tr th:only-of-type {\n",
              "        vertical-align: middle;\n",
              "    }\n",
              "\n",
              "    .dataframe tbody tr th {\n",
              "        vertical-align: top;\n",
              "    }\n",
              "\n",
              "    .dataframe thead th {\n",
              "        text-align: right;\n",
              "    }\n",
              "</style>\n",
              "<table border=\"1\" class=\"dataframe\">\n",
              "  <thead>\n",
              "    <tr style=\"text-align: right;\">\n",
              "      <th></th>\n",
              "      <th>author_id</th>\n",
              "      <th>author_name</th>\n",
              "      <th>book_title</th>\n",
              "    </tr>\n",
              "  </thead>\n",
              "  <tbody>\n",
              "    <tr>\n",
              "      <th>0</th>\n",
              "      <td>1</td>\n",
              "      <td>Pushkin</td>\n",
              "      <td>NaN</td>\n",
              "    </tr>\n",
              "    <tr>\n",
              "      <th>1</th>\n",
              "      <td>2</td>\n",
              "      <td>Tolstoy</td>\n",
              "      <td>War and Peace</td>\n",
              "    </tr>\n",
              "    <tr>\n",
              "      <th>2</th>\n",
              "      <td>3</td>\n",
              "      <td>Dostoevsky</td>\n",
              "      <td>The Idiot</td>\n",
              "    </tr>\n",
              "    <tr>\n",
              "      <th>3</th>\n",
              "      <td>3</td>\n",
              "      <td>Dostoevsky</td>\n",
              "      <td>Crime and Punishment</td>\n",
              "    </tr>\n",
              "  </tbody>\n",
              "</table>\n",
              "</div>"
            ],
            "text/plain": [
              "   author_id author_name            book_title\n",
              "0          1     Pushkin                   NaN\n",
              "1          2     Tolstoy         War and Peace\n",
              "2          3  Dostoevsky             The Idiot\n",
              "3          3  Dostoevsky  Crime and Punishment"
            ]
          },
          "execution_count": 80,
          "metadata": {},
          "output_type": "execute_result"
        }
      ],
      "source": [
        "merged_df[merged_df['author_name'].notnull()]"
      ]
    },
    {
      "cell_type": "markdown",
      "metadata": {
        "id": "ukHiB_ZyqJGT"
      },
      "source": [
        "Заполнить пропущенные значения каким-то своим значением можно с помощью метода **.fillna()**"
      ]
    },
    {
      "cell_type": "code",
      "execution_count": 81,
      "metadata": {
        "colab": {
          "base_uri": "https://localhost:8080/",
          "height": 206
        },
        "id": "_PnUevJjqXpd",
        "outputId": "4bfb7cac-6cee-4319-bb7a-c2eb33118ee5"
      },
      "outputs": [
        {
          "data": {
            "text/html": [
              "<div>\n",
              "<style scoped>\n",
              "    .dataframe tbody tr th:only-of-type {\n",
              "        vertical-align: middle;\n",
              "    }\n",
              "\n",
              "    .dataframe tbody tr th {\n",
              "        vertical-align: top;\n",
              "    }\n",
              "\n",
              "    .dataframe thead th {\n",
              "        text-align: right;\n",
              "    }\n",
              "</style>\n",
              "<table border=\"1\" class=\"dataframe\">\n",
              "  <thead>\n",
              "    <tr style=\"text-align: right;\">\n",
              "      <th></th>\n",
              "      <th>author_id</th>\n",
              "      <th>author_name</th>\n",
              "      <th>book_title</th>\n",
              "    </tr>\n",
              "  </thead>\n",
              "  <tbody>\n",
              "    <tr>\n",
              "      <th>0</th>\n",
              "      <td>1</td>\n",
              "      <td>Pushkin</td>\n",
              "      <td>NaN</td>\n",
              "    </tr>\n",
              "    <tr>\n",
              "      <th>1</th>\n",
              "      <td>2</td>\n",
              "      <td>Tolstoy</td>\n",
              "      <td>War and Peace</td>\n",
              "    </tr>\n",
              "    <tr>\n",
              "      <th>2</th>\n",
              "      <td>3</td>\n",
              "      <td>Dostoevsky</td>\n",
              "      <td>The Idiot</td>\n",
              "    </tr>\n",
              "    <tr>\n",
              "      <th>3</th>\n",
              "      <td>3</td>\n",
              "      <td>Dostoevsky</td>\n",
              "      <td>Crime and Punishment</td>\n",
              "    </tr>\n",
              "    <tr>\n",
              "      <th>4</th>\n",
              "      <td>4</td>\n",
              "      <td>unknown</td>\n",
              "      <td>Fathers and Sons</td>\n",
              "    </tr>\n",
              "  </tbody>\n",
              "</table>\n",
              "</div>"
            ],
            "text/plain": [
              "   author_id author_name            book_title\n",
              "0          1     Pushkin                   NaN\n",
              "1          2     Tolstoy         War and Peace\n",
              "2          3  Dostoevsky             The Idiot\n",
              "3          3  Dostoevsky  Crime and Punishment\n",
              "4          4     unknown      Fathers and Sons"
            ]
          },
          "execution_count": 81,
          "metadata": {},
          "output_type": "execute_result"
        }
      ],
      "source": [
        "merged_df['author_name'] = merged_df['author_name'].fillna(\"unknown\")\n",
        "merged_df"
      ]
    },
    {
      "cell_type": "markdown",
      "metadata": {
        "id": "_xxnLLWfqzmY"
      },
      "source": [
        "##**Добавление столбцов в DataFrame**\n",
        "Допустим, каждая из наших кних имеется в единственном экземпляре. Мы хотим создать в таблице merged_df столбец quantity, который бы содержал количество экзкмпляров каждой книги.  \n",
        "Создание нового столбца в таблице **DataFrame** происходит аналогично созданию нового значения в словаре dict. Достаточно просто объявить значение merged_df[\"quantity\"]. Если подать в это значение какое-нибуть число или строку, то все значения в данном столбце приравняются к этому числу или строке. Также можно подать сюда список, тогда значение из этого списка поступят в соответствующие строки этого столбца. В этом случае длина списка обязана совпадать с числом строк таблицы.  \n",
        "Итак, выберем все строки с непустыми значениями поля **book_title**, и для них запишем в столбец **quantity** число 1. Это можно сделать с помощью атрибута **.loc**"
      ]
    },
    {
      "cell_type": "code",
      "execution_count": 82,
      "metadata": {
        "colab": {
          "base_uri": "https://localhost:8080/",
          "height": 206
        },
        "id": "KxapVGpitVgB",
        "outputId": "390718d1-908c-4c46-f251-50b31b5deaa7"
      },
      "outputs": [
        {
          "data": {
            "text/html": [
              "<div>\n",
              "<style scoped>\n",
              "    .dataframe tbody tr th:only-of-type {\n",
              "        vertical-align: middle;\n",
              "    }\n",
              "\n",
              "    .dataframe tbody tr th {\n",
              "        vertical-align: top;\n",
              "    }\n",
              "\n",
              "    .dataframe thead th {\n",
              "        text-align: right;\n",
              "    }\n",
              "</style>\n",
              "<table border=\"1\" class=\"dataframe\">\n",
              "  <thead>\n",
              "    <tr style=\"text-align: right;\">\n",
              "      <th></th>\n",
              "      <th>author_id</th>\n",
              "      <th>author_name</th>\n",
              "      <th>book_title</th>\n",
              "      <th>quantity</th>\n",
              "      <th>quantity_2</th>\n",
              "    </tr>\n",
              "  </thead>\n",
              "  <tbody>\n",
              "    <tr>\n",
              "      <th>0</th>\n",
              "      <td>1</td>\n",
              "      <td>Pushkin</td>\n",
              "      <td>NaN</td>\n",
              "      <td>NaN</td>\n",
              "      <td>0</td>\n",
              "    </tr>\n",
              "    <tr>\n",
              "      <th>1</th>\n",
              "      <td>2</td>\n",
              "      <td>Tolstoy</td>\n",
              "      <td>War and Peace</td>\n",
              "      <td>1.0</td>\n",
              "      <td>0</td>\n",
              "    </tr>\n",
              "    <tr>\n",
              "      <th>2</th>\n",
              "      <td>3</td>\n",
              "      <td>Dostoevsky</td>\n",
              "      <td>The Idiot</td>\n",
              "      <td>1.0</td>\n",
              "      <td>0</td>\n",
              "    </tr>\n",
              "    <tr>\n",
              "      <th>3</th>\n",
              "      <td>3</td>\n",
              "      <td>Dostoevsky</td>\n",
              "      <td>Crime and Punishment</td>\n",
              "      <td>1.0</td>\n",
              "      <td>0</td>\n",
              "    </tr>\n",
              "    <tr>\n",
              "      <th>4</th>\n",
              "      <td>4</td>\n",
              "      <td>unknown</td>\n",
              "      <td>Fathers and Sons</td>\n",
              "      <td>1.0</td>\n",
              "      <td>0</td>\n",
              "    </tr>\n",
              "  </tbody>\n",
              "</table>\n",
              "</div>"
            ],
            "text/plain": [
              "   author_id author_name            book_title  quantity  quantity_2\n",
              "0          1     Pushkin                   NaN       NaN           0\n",
              "1          2     Tolstoy         War and Peace       1.0           0\n",
              "2          3  Dostoevsky             The Idiot       1.0           0\n",
              "3          3  Dostoevsky  Crime and Punishment       1.0           0\n",
              "4          4     unknown      Fathers and Sons       1.0           0"
            ]
          },
          "execution_count": 82,
          "metadata": {},
          "output_type": "execute_result"
        }
      ],
      "source": [
        "merged_df['quantity'] = 1\n",
        "merged_df['quantity_2'] = 0\n",
        "merged_df.loc[0, 'quantity'] = None\n",
        "merged_df"
      ]
    },
    {
      "cell_type": "code",
      "execution_count": 83,
      "metadata": {
        "colab": {
          "base_uri": "https://localhost:8080/",
          "height": 112
        },
        "id": "zJecbyDCvFt3",
        "outputId": "722f8ce2-a058-4818-d93a-f86c2acb1f4c"
      },
      "outputs": [
        {
          "data": {
            "text/html": [
              "<div>\n",
              "<style scoped>\n",
              "    .dataframe tbody tr th:only-of-type {\n",
              "        vertical-align: middle;\n",
              "    }\n",
              "\n",
              "    .dataframe tbody tr th {\n",
              "        vertical-align: top;\n",
              "    }\n",
              "\n",
              "    .dataframe thead th {\n",
              "        text-align: right;\n",
              "    }\n",
              "</style>\n",
              "<table border=\"1\" class=\"dataframe\">\n",
              "  <thead>\n",
              "    <tr style=\"text-align: right;\">\n",
              "      <th></th>\n",
              "      <th>author_id</th>\n",
              "      <th>author_name</th>\n",
              "      <th>book_title</th>\n",
              "      <th>quantity</th>\n",
              "      <th>quantity_2</th>\n",
              "    </tr>\n",
              "  </thead>\n",
              "  <tbody>\n",
              "    <tr>\n",
              "      <th>0</th>\n",
              "      <td>1</td>\n",
              "      <td>Pushkin</td>\n",
              "      <td>NaN</td>\n",
              "      <td>NaN</td>\n",
              "      <td>0</td>\n",
              "    </tr>\n",
              "    <tr>\n",
              "      <th>1</th>\n",
              "      <td>2</td>\n",
              "      <td>Tolstoy</td>\n",
              "      <td>War and Peace</td>\n",
              "      <td>1.0</td>\n",
              "      <td>0</td>\n",
              "    </tr>\n",
              "  </tbody>\n",
              "</table>\n",
              "</div>"
            ],
            "text/plain": [
              "   author_id author_name     book_title  quantity  quantity_2\n",
              "0          1     Pushkin            NaN       NaN           0\n",
              "1          2     Tolstoy  War and Peace       1.0           0"
            ]
          },
          "execution_count": 83,
          "metadata": {},
          "output_type": "execute_result"
        }
      ],
      "source": [
        "# Фильтрация\n",
        "merged_df[merged_df['author_id'] < 3]\n",
        "# merged_df['author_id'] < 3"
      ]
    },
    {
      "cell_type": "code",
      "execution_count": 84,
      "metadata": {
        "colab": {
          "base_uri": "https://localhost:8080/",
          "height": 206
        },
        "id": "NVCumY5ov-d-",
        "outputId": "8d04f570-20d1-483b-df65-40a27fd6539b"
      },
      "outputs": [
        {
          "data": {
            "text/html": [
              "<div>\n",
              "<style scoped>\n",
              "    .dataframe tbody tr th:only-of-type {\n",
              "        vertical-align: middle;\n",
              "    }\n",
              "\n",
              "    .dataframe tbody tr th {\n",
              "        vertical-align: top;\n",
              "    }\n",
              "\n",
              "    .dataframe thead th {\n",
              "        text-align: right;\n",
              "    }\n",
              "</style>\n",
              "<table border=\"1\" class=\"dataframe\">\n",
              "  <thead>\n",
              "    <tr style=\"text-align: right;\">\n",
              "      <th></th>\n",
              "      <th>author_id</th>\n",
              "      <th>author_name</th>\n",
              "      <th>book_title</th>\n",
              "      <th>quantity</th>\n",
              "      <th>quantity_2</th>\n",
              "    </tr>\n",
              "  </thead>\n",
              "  <tbody>\n",
              "    <tr>\n",
              "      <th>0</th>\n",
              "      <td>1</td>\n",
              "      <td>Pushkin</td>\n",
              "      <td>NaN</td>\n",
              "      <td>NaN</td>\n",
              "      <td>0</td>\n",
              "    </tr>\n",
              "    <tr>\n",
              "      <th>1</th>\n",
              "      <td>2</td>\n",
              "      <td>Tolstoy</td>\n",
              "      <td>War and Peace</td>\n",
              "      <td>1.0</td>\n",
              "      <td>0</td>\n",
              "    </tr>\n",
              "    <tr>\n",
              "      <th>2</th>\n",
              "      <td>3</td>\n",
              "      <td>Dostoevsky</td>\n",
              "      <td>The Idiot</td>\n",
              "      <td>1.0</td>\n",
              "      <td>0</td>\n",
              "    </tr>\n",
              "    <tr>\n",
              "      <th>3</th>\n",
              "      <td>3</td>\n",
              "      <td>Dostoevsky</td>\n",
              "      <td>Crime and Punishment</td>\n",
              "      <td>1.0</td>\n",
              "      <td>0</td>\n",
              "    </tr>\n",
              "    <tr>\n",
              "      <th>4</th>\n",
              "      <td>4</td>\n",
              "      <td>unknown</td>\n",
              "      <td>Fathers and Sons</td>\n",
              "      <td>1.0</td>\n",
              "      <td>0</td>\n",
              "    </tr>\n",
              "  </tbody>\n",
              "</table>\n",
              "</div>"
            ],
            "text/plain": [
              "   author_id author_name            book_title  quantity  quantity_2\n",
              "0          1     Pushkin                   NaN       NaN           0\n",
              "1          2     Tolstoy         War and Peace       1.0           0\n",
              "2          3  Dostoevsky             The Idiot       1.0           0\n",
              "3          3  Dostoevsky  Crime and Punishment       1.0           0\n",
              "4          4     unknown      Fathers and Sons       1.0           0"
            ]
          },
          "execution_count": 84,
          "metadata": {},
          "output_type": "execute_result"
        }
      ],
      "source": [
        "# Вставляем quantity = 1, для которых book_title не пустой\n",
        "merged_df.loc[merged_df[\"book_title\"].notnull(), \"quantity\"] = 1\n",
        "merged_df"
      ]
    },
    {
      "cell_type": "markdown",
      "metadata": {
        "id": "bgDPPGSnx7Hi"
      },
      "source": [
        "Теперь заполним все пропуски в этом столбце числом 0.\n",
        "inplace - отвечает за замену значений в самом DataFrame.  \n",
        "inplace=True - меняются значения в исходном DataFrame, а не только вывод на печать"
      ]
    },
    {
      "cell_type": "code",
      "execution_count": 85,
      "metadata": {
        "colab": {
          "base_uri": "https://localhost:8080/",
          "height": 206
        },
        "id": "yli4y0qgx6JK",
        "outputId": "c3c09105-eacf-424c-e6cf-ce8b18673963"
      },
      "outputs": [
        {
          "data": {
            "text/html": [
              "<div>\n",
              "<style scoped>\n",
              "    .dataframe tbody tr th:only-of-type {\n",
              "        vertical-align: middle;\n",
              "    }\n",
              "\n",
              "    .dataframe tbody tr th {\n",
              "        vertical-align: top;\n",
              "    }\n",
              "\n",
              "    .dataframe thead th {\n",
              "        text-align: right;\n",
              "    }\n",
              "</style>\n",
              "<table border=\"1\" class=\"dataframe\">\n",
              "  <thead>\n",
              "    <tr style=\"text-align: right;\">\n",
              "      <th></th>\n",
              "      <th>author_id</th>\n",
              "      <th>author_name</th>\n",
              "      <th>book_title</th>\n",
              "      <th>quantity</th>\n",
              "      <th>quantity_2</th>\n",
              "    </tr>\n",
              "  </thead>\n",
              "  <tbody>\n",
              "    <tr>\n",
              "      <th>0</th>\n",
              "      <td>1</td>\n",
              "      <td>Pushkin</td>\n",
              "      <td>NaN</td>\n",
              "      <td>0.0</td>\n",
              "      <td>0</td>\n",
              "    </tr>\n",
              "    <tr>\n",
              "      <th>1</th>\n",
              "      <td>2</td>\n",
              "      <td>Tolstoy</td>\n",
              "      <td>War and Peace</td>\n",
              "      <td>1.0</td>\n",
              "      <td>0</td>\n",
              "    </tr>\n",
              "    <tr>\n",
              "      <th>2</th>\n",
              "      <td>3</td>\n",
              "      <td>Dostoevsky</td>\n",
              "      <td>The Idiot</td>\n",
              "      <td>1.0</td>\n",
              "      <td>0</td>\n",
              "    </tr>\n",
              "    <tr>\n",
              "      <th>3</th>\n",
              "      <td>3</td>\n",
              "      <td>Dostoevsky</td>\n",
              "      <td>Crime and Punishment</td>\n",
              "      <td>1.0</td>\n",
              "      <td>0</td>\n",
              "    </tr>\n",
              "    <tr>\n",
              "      <th>4</th>\n",
              "      <td>4</td>\n",
              "      <td>unknown</td>\n",
              "      <td>Fathers and Sons</td>\n",
              "      <td>1.0</td>\n",
              "      <td>0</td>\n",
              "    </tr>\n",
              "  </tbody>\n",
              "</table>\n",
              "</div>"
            ],
            "text/plain": [
              "   author_id author_name            book_title  quantity  quantity_2\n",
              "0          1     Pushkin                   NaN       0.0           0\n",
              "1          2     Tolstoy         War and Peace       1.0           0\n",
              "2          3  Dostoevsky             The Idiot       1.0           0\n",
              "3          3  Dostoevsky  Crime and Punishment       1.0           0\n",
              "4          4     unknown      Fathers and Sons       1.0           0"
            ]
          },
          "execution_count": 85,
          "metadata": {},
          "output_type": "execute_result"
        }
      ],
      "source": [
        "merged_df['quantity'].fillna(0, inplace=True)\n",
        "merged_df"
      ]
    },
    {
      "cell_type": "markdown",
      "metadata": {
        "id": "RjElveE9ycYI"
      },
      "source": [
        "Наконец, приведем значение в этом столбце к типу int16. (Это сделать невозможно, если в столбце содержатся пропуски)"
      ]
    },
    {
      "cell_type": "code",
      "execution_count": 86,
      "metadata": {
        "colab": {
          "base_uri": "https://localhost:8080/",
          "height": 206
        },
        "id": "0Dh3_AZUyuLm",
        "outputId": "597a1455-8b18-4975-e39a-41534d00eec3"
      },
      "outputs": [
        {
          "data": {
            "text/html": [
              "<div>\n",
              "<style scoped>\n",
              "    .dataframe tbody tr th:only-of-type {\n",
              "        vertical-align: middle;\n",
              "    }\n",
              "\n",
              "    .dataframe tbody tr th {\n",
              "        vertical-align: top;\n",
              "    }\n",
              "\n",
              "    .dataframe thead th {\n",
              "        text-align: right;\n",
              "    }\n",
              "</style>\n",
              "<table border=\"1\" class=\"dataframe\">\n",
              "  <thead>\n",
              "    <tr style=\"text-align: right;\">\n",
              "      <th></th>\n",
              "      <th>author_id</th>\n",
              "      <th>author_name</th>\n",
              "      <th>book_title</th>\n",
              "      <th>quantity</th>\n",
              "      <th>quantity_2</th>\n",
              "    </tr>\n",
              "  </thead>\n",
              "  <tbody>\n",
              "    <tr>\n",
              "      <th>0</th>\n",
              "      <td>1</td>\n",
              "      <td>Pushkin</td>\n",
              "      <td>NaN</td>\n",
              "      <td>0</td>\n",
              "      <td>0</td>\n",
              "    </tr>\n",
              "    <tr>\n",
              "      <th>1</th>\n",
              "      <td>2</td>\n",
              "      <td>Tolstoy</td>\n",
              "      <td>War and Peace</td>\n",
              "      <td>1</td>\n",
              "      <td>0</td>\n",
              "    </tr>\n",
              "    <tr>\n",
              "      <th>2</th>\n",
              "      <td>3</td>\n",
              "      <td>Dostoevsky</td>\n",
              "      <td>The Idiot</td>\n",
              "      <td>1</td>\n",
              "      <td>0</td>\n",
              "    </tr>\n",
              "    <tr>\n",
              "      <th>3</th>\n",
              "      <td>3</td>\n",
              "      <td>Dostoevsky</td>\n",
              "      <td>Crime and Punishment</td>\n",
              "      <td>1</td>\n",
              "      <td>0</td>\n",
              "    </tr>\n",
              "    <tr>\n",
              "      <th>4</th>\n",
              "      <td>4</td>\n",
              "      <td>unknown</td>\n",
              "      <td>Fathers and Sons</td>\n",
              "      <td>1</td>\n",
              "      <td>0</td>\n",
              "    </tr>\n",
              "  </tbody>\n",
              "</table>\n",
              "</div>"
            ],
            "text/plain": [
              "   author_id author_name            book_title  quantity  quantity_2\n",
              "0          1     Pushkin                   NaN         0           0\n",
              "1          2     Tolstoy         War and Peace         1           0\n",
              "2          3  Dostoevsky             The Idiot         1           0\n",
              "3          3  Dostoevsky  Crime and Punishment         1           0\n",
              "4          4     unknown      Fathers and Sons         1           0"
            ]
          },
          "execution_count": 86,
          "metadata": {},
          "output_type": "execute_result"
        }
      ],
      "source": [
        "merged_df['quantity'] = merged_df['quantity'].astype('Int16')\n",
        "merged_df"
      ]
    },
    {
      "cell_type": "code",
      "execution_count": 87,
      "metadata": {
        "colab": {
          "base_uri": "https://localhost:8080/"
        },
        "id": "N8cxQ5G4y4HB",
        "outputId": "9950961f-a773-45d2-d1fa-cc0e6b5c3777"
      },
      "outputs": [
        {
          "name": "stdout",
          "output_type": "stream",
          "text": [
            "<class 'pandas.core.frame.DataFrame'>\n",
            "Int64Index: 5 entries, 0 to 4\n",
            "Data columns (total 5 columns):\n",
            " #   Column       Non-Null Count  Dtype \n",
            "---  ------       --------------  ----- \n",
            " 0   author_id    5 non-null      int64 \n",
            " 1   author_name  5 non-null      object\n",
            " 2   book_title   4 non-null      object\n",
            " 3   quantity     5 non-null      Int16 \n",
            " 4   quantity_2   5 non-null      int64 \n",
            "dtypes: Int16(1), int64(2), object(2)\n",
            "memory usage: 387.0+ bytes\n"
          ]
        }
      ],
      "source": [
        "merged_df.info()"
      ]
    },
    {
      "cell_type": "markdown",
      "metadata": {
        "id": "tRXM2Xmr0X8t"
      },
      "source": [
        "В **DataFrame** можно использовать индексы по умолчанию, а можно назначить и свои. Например, в качестве индексов можно использовать какой-нибудь из столбцов:"
      ]
    },
    {
      "cell_type": "code",
      "execution_count": 88,
      "metadata": {
        "colab": {
          "base_uri": "https://localhost:8080/",
          "height": 237
        },
        "id": "I8uzVU7s0XXG",
        "outputId": "74a34ab4-2ca4-46a9-fd20-f6cbaad7c2ac"
      },
      "outputs": [
        {
          "data": {
            "text/html": [
              "<div>\n",
              "<style scoped>\n",
              "    .dataframe tbody tr th:only-of-type {\n",
              "        vertical-align: middle;\n",
              "    }\n",
              "\n",
              "    .dataframe tbody tr th {\n",
              "        vertical-align: top;\n",
              "    }\n",
              "\n",
              "    .dataframe thead th {\n",
              "        text-align: right;\n",
              "    }\n",
              "</style>\n",
              "<table border=\"1\" class=\"dataframe\">\n",
              "  <thead>\n",
              "    <tr style=\"text-align: right;\">\n",
              "      <th></th>\n",
              "      <th>author_name</th>\n",
              "      <th>book_title</th>\n",
              "      <th>quantity</th>\n",
              "      <th>quantity_2</th>\n",
              "    </tr>\n",
              "    <tr>\n",
              "      <th>author_id</th>\n",
              "      <th></th>\n",
              "      <th></th>\n",
              "      <th></th>\n",
              "      <th></th>\n",
              "    </tr>\n",
              "  </thead>\n",
              "  <tbody>\n",
              "    <tr>\n",
              "      <th>1</th>\n",
              "      <td>Pushkin</td>\n",
              "      <td>NaN</td>\n",
              "      <td>0</td>\n",
              "      <td>0</td>\n",
              "    </tr>\n",
              "    <tr>\n",
              "      <th>2</th>\n",
              "      <td>Tolstoy</td>\n",
              "      <td>War and Peace</td>\n",
              "      <td>1</td>\n",
              "      <td>0</td>\n",
              "    </tr>\n",
              "    <tr>\n",
              "      <th>3</th>\n",
              "      <td>Dostoevsky</td>\n",
              "      <td>The Idiot</td>\n",
              "      <td>1</td>\n",
              "      <td>0</td>\n",
              "    </tr>\n",
              "    <tr>\n",
              "      <th>3</th>\n",
              "      <td>Dostoevsky</td>\n",
              "      <td>Crime and Punishment</td>\n",
              "      <td>1</td>\n",
              "      <td>0</td>\n",
              "    </tr>\n",
              "    <tr>\n",
              "      <th>4</th>\n",
              "      <td>unknown</td>\n",
              "      <td>Fathers and Sons</td>\n",
              "      <td>1</td>\n",
              "      <td>0</td>\n",
              "    </tr>\n",
              "  </tbody>\n",
              "</table>\n",
              "</div>"
            ],
            "text/plain": [
              "          author_name            book_title  quantity  quantity_2\n",
              "author_id                                                        \n",
              "1             Pushkin                   NaN         0           0\n",
              "2             Tolstoy         War and Peace         1           0\n",
              "3          Dostoevsky             The Idiot         1           0\n",
              "3          Dostoevsky  Crime and Punishment         1           0\n",
              "4             unknown      Fathers and Sons         1           0"
            ]
          },
          "execution_count": 88,
          "metadata": {},
          "output_type": "execute_result"
        }
      ],
      "source": [
        "merged_df.set_index(\"author_id\", inplace=True)\n",
        "merged_df"
      ]
    },
    {
      "cell_type": "code",
      "execution_count": 89,
      "metadata": {
        "colab": {
          "base_uri": "https://localhost:8080/"
        },
        "id": "0xFWyluY1FH4",
        "outputId": "ad54c610-01f8-4874-ac8a-1447d15f6278"
      },
      "outputs": [
        {
          "data": {
            "text/plain": [
              "author_id\n",
              "3               The Idiot\n",
              "3    Crime and Punishment\n",
              "Name: book_title, dtype: object"
            ]
          },
          "execution_count": 89,
          "metadata": {},
          "output_type": "execute_result"
        }
      ],
      "source": [
        "# Так как индексы совпадают, то выводятся 2 значения\n",
        "merged_df.loc[3, \"book_title\"]"
      ]
    },
    {
      "cell_type": "code",
      "execution_count": 90,
      "metadata": {
        "colab": {
          "base_uri": "https://localhost:8080/",
          "height": 36
        },
        "id": "9o5_f4Ep1Uu5",
        "outputId": "9c6ea739-8a58-4228-d471-eef817ed6d6f"
      },
      "outputs": [
        {
          "data": {
            "text/plain": [
              "'Crime and Punishment'"
            ]
          },
          "execution_count": 90,
          "metadata": {},
          "output_type": "execute_result"
        }
      ],
      "source": [
        "merged_df.iloc[3, 1]"
      ]
    },
    {
      "cell_type": "markdown",
      "metadata": {
        "id": "nrRbVRqe1tRy"
      },
      "source": [
        "Индексы всегда можно сбросить. Тогда, текущие индексы становятся столбцом:"
      ]
    },
    {
      "cell_type": "code",
      "execution_count": 91,
      "metadata": {
        "colab": {
          "base_uri": "https://localhost:8080/",
          "height": 206
        },
        "id": "NPkrNrff16v_",
        "outputId": "d66a5afa-cdb5-423a-e374-3b7c9c751da6"
      },
      "outputs": [
        {
          "data": {
            "text/html": [
              "<div>\n",
              "<style scoped>\n",
              "    .dataframe tbody tr th:only-of-type {\n",
              "        vertical-align: middle;\n",
              "    }\n",
              "\n",
              "    .dataframe tbody tr th {\n",
              "        vertical-align: top;\n",
              "    }\n",
              "\n",
              "    .dataframe thead th {\n",
              "        text-align: right;\n",
              "    }\n",
              "</style>\n",
              "<table border=\"1\" class=\"dataframe\">\n",
              "  <thead>\n",
              "    <tr style=\"text-align: right;\">\n",
              "      <th></th>\n",
              "      <th>author_id</th>\n",
              "      <th>author_name</th>\n",
              "      <th>book_title</th>\n",
              "      <th>quantity</th>\n",
              "      <th>quantity_2</th>\n",
              "    </tr>\n",
              "  </thead>\n",
              "  <tbody>\n",
              "    <tr>\n",
              "      <th>0</th>\n",
              "      <td>1</td>\n",
              "      <td>Pushkin</td>\n",
              "      <td>NaN</td>\n",
              "      <td>0</td>\n",
              "      <td>0</td>\n",
              "    </tr>\n",
              "    <tr>\n",
              "      <th>1</th>\n",
              "      <td>2</td>\n",
              "      <td>Tolstoy</td>\n",
              "      <td>War and Peace</td>\n",
              "      <td>1</td>\n",
              "      <td>0</td>\n",
              "    </tr>\n",
              "    <tr>\n",
              "      <th>2</th>\n",
              "      <td>3</td>\n",
              "      <td>Dostoevsky</td>\n",
              "      <td>The Idiot</td>\n",
              "      <td>1</td>\n",
              "      <td>0</td>\n",
              "    </tr>\n",
              "    <tr>\n",
              "      <th>3</th>\n",
              "      <td>3</td>\n",
              "      <td>Dostoevsky</td>\n",
              "      <td>Crime and Punishment</td>\n",
              "      <td>1</td>\n",
              "      <td>0</td>\n",
              "    </tr>\n",
              "    <tr>\n",
              "      <th>4</th>\n",
              "      <td>4</td>\n",
              "      <td>unknown</td>\n",
              "      <td>Fathers and Sons</td>\n",
              "      <td>1</td>\n",
              "      <td>0</td>\n",
              "    </tr>\n",
              "  </tbody>\n",
              "</table>\n",
              "</div>"
            ],
            "text/plain": [
              "   author_id author_name            book_title  quantity  quantity_2\n",
              "0          1     Pushkin                   NaN         0           0\n",
              "1          2     Tolstoy         War and Peace         1           0\n",
              "2          3  Dostoevsky             The Idiot         1           0\n",
              "3          3  Dostoevsky  Crime and Punishment         1           0\n",
              "4          4     unknown      Fathers and Sons         1           0"
            ]
          },
          "execution_count": 91,
          "metadata": {},
          "output_type": "execute_result"
        }
      ],
      "source": [
        "merged_df.reset_index(inplace=True)\n",
        "merged_df"
      ]
    },
    {
      "cell_type": "markdown",
      "metadata": {
        "id": "mtiuy4Ff2wZa"
      },
      "source": [
        "##**Удаление данных**  \n",
        "Для удаления данных из **DataFrame** используется метод **.drop**. В этот метод подается метка элемента, который необходимо удалить (индекс строки или название столбца), а так же ось axis. При axis=0 удаляется строка, при axis=1 - столбец"
      ]
    },
    {
      "cell_type": "code",
      "execution_count": 92,
      "metadata": {
        "colab": {
          "base_uri": "https://localhost:8080/",
          "height": 206
        },
        "id": "Pk_uipyN3ca_",
        "outputId": "2d738656-2f64-4141-c578-111acdacad08"
      },
      "outputs": [
        {
          "data": {
            "text/html": [
              "<div>\n",
              "<style scoped>\n",
              "    .dataframe tbody tr th:only-of-type {\n",
              "        vertical-align: middle;\n",
              "    }\n",
              "\n",
              "    .dataframe tbody tr th {\n",
              "        vertical-align: top;\n",
              "    }\n",
              "\n",
              "    .dataframe thead th {\n",
              "        text-align: right;\n",
              "    }\n",
              "</style>\n",
              "<table border=\"1\" class=\"dataframe\">\n",
              "  <thead>\n",
              "    <tr style=\"text-align: right;\">\n",
              "      <th></th>\n",
              "      <th>author_id</th>\n",
              "      <th>author_name</th>\n",
              "      <th>book_title</th>\n",
              "      <th>quantity</th>\n",
              "      <th>quantity_2</th>\n",
              "      <th>price</th>\n",
              "    </tr>\n",
              "  </thead>\n",
              "  <tbody>\n",
              "    <tr>\n",
              "      <th>0</th>\n",
              "      <td>1</td>\n",
              "      <td>Pushkin</td>\n",
              "      <td>NaN</td>\n",
              "      <td>0</td>\n",
              "      <td>0</td>\n",
              "      <td>500</td>\n",
              "    </tr>\n",
              "    <tr>\n",
              "      <th>1</th>\n",
              "      <td>2</td>\n",
              "      <td>Tolstoy</td>\n",
              "      <td>War and Peace</td>\n",
              "      <td>1</td>\n",
              "      <td>0</td>\n",
              "      <td>500</td>\n",
              "    </tr>\n",
              "    <tr>\n",
              "      <th>2</th>\n",
              "      <td>3</td>\n",
              "      <td>Dostoevsky</td>\n",
              "      <td>The Idiot</td>\n",
              "      <td>1</td>\n",
              "      <td>0</td>\n",
              "      <td>500</td>\n",
              "    </tr>\n",
              "    <tr>\n",
              "      <th>3</th>\n",
              "      <td>3</td>\n",
              "      <td>Dostoevsky</td>\n",
              "      <td>Crime and Punishment</td>\n",
              "      <td>1</td>\n",
              "      <td>0</td>\n",
              "      <td>500</td>\n",
              "    </tr>\n",
              "    <tr>\n",
              "      <th>4</th>\n",
              "      <td>4</td>\n",
              "      <td>unknown</td>\n",
              "      <td>Fathers and Sons</td>\n",
              "      <td>1</td>\n",
              "      <td>0</td>\n",
              "      <td>500</td>\n",
              "    </tr>\n",
              "  </tbody>\n",
              "</table>\n",
              "</div>"
            ],
            "text/plain": [
              "   author_id author_name            book_title  quantity  quantity_2  price\n",
              "0          1     Pushkin                   NaN         0           0    500\n",
              "1          2     Tolstoy         War and Peace         1           0    500\n",
              "2          3  Dostoevsky             The Idiot         1           0    500\n",
              "3          3  Dostoevsky  Crime and Punishment         1           0    500\n",
              "4          4     unknown      Fathers and Sons         1           0    500"
            ]
          },
          "execution_count": 92,
          "metadata": {},
          "output_type": "execute_result"
        }
      ],
      "source": [
        "merged_df['price'] = 500\n",
        "merged_df"
      ]
    },
    {
      "cell_type": "code",
      "execution_count": 93,
      "metadata": {
        "colab": {
          "base_uri": "https://localhost:8080/",
          "height": 206
        },
        "id": "ic69L28g3muR",
        "outputId": "c8e0a544-2169-43e5-e69e-0a18f6c0f0b4"
      },
      "outputs": [
        {
          "data": {
            "text/html": [
              "<div>\n",
              "<style scoped>\n",
              "    .dataframe tbody tr th:only-of-type {\n",
              "        vertical-align: middle;\n",
              "    }\n",
              "\n",
              "    .dataframe tbody tr th {\n",
              "        vertical-align: top;\n",
              "    }\n",
              "\n",
              "    .dataframe thead th {\n",
              "        text-align: right;\n",
              "    }\n",
              "</style>\n",
              "<table border=\"1\" class=\"dataframe\">\n",
              "  <thead>\n",
              "    <tr style=\"text-align: right;\">\n",
              "      <th></th>\n",
              "      <th>author_id</th>\n",
              "      <th>author_name</th>\n",
              "      <th>book_title</th>\n",
              "      <th>quantity</th>\n",
              "      <th>quantity_2</th>\n",
              "    </tr>\n",
              "  </thead>\n",
              "  <tbody>\n",
              "    <tr>\n",
              "      <th>0</th>\n",
              "      <td>1</td>\n",
              "      <td>Pushkin</td>\n",
              "      <td>NaN</td>\n",
              "      <td>0</td>\n",
              "      <td>0</td>\n",
              "    </tr>\n",
              "    <tr>\n",
              "      <th>1</th>\n",
              "      <td>2</td>\n",
              "      <td>Tolstoy</td>\n",
              "      <td>War and Peace</td>\n",
              "      <td>1</td>\n",
              "      <td>0</td>\n",
              "    </tr>\n",
              "    <tr>\n",
              "      <th>2</th>\n",
              "      <td>3</td>\n",
              "      <td>Dostoevsky</td>\n",
              "      <td>The Idiot</td>\n",
              "      <td>1</td>\n",
              "      <td>0</td>\n",
              "    </tr>\n",
              "    <tr>\n",
              "      <th>3</th>\n",
              "      <td>3</td>\n",
              "      <td>Dostoevsky</td>\n",
              "      <td>Crime and Punishment</td>\n",
              "      <td>1</td>\n",
              "      <td>0</td>\n",
              "    </tr>\n",
              "    <tr>\n",
              "      <th>4</th>\n",
              "      <td>4</td>\n",
              "      <td>unknown</td>\n",
              "      <td>Fathers and Sons</td>\n",
              "      <td>1</td>\n",
              "      <td>0</td>\n",
              "    </tr>\n",
              "  </tbody>\n",
              "</table>\n",
              "</div>"
            ],
            "text/plain": [
              "   author_id author_name            book_title  quantity  quantity_2\n",
              "0          1     Pushkin                   NaN         0           0\n",
              "1          2     Tolstoy         War and Peace         1           0\n",
              "2          3  Dostoevsky             The Idiot         1           0\n",
              "3          3  Dostoevsky  Crime and Punishment         1           0\n",
              "4          4     unknown      Fathers and Sons         1           0"
            ]
          },
          "execution_count": 93,
          "metadata": {},
          "output_type": "execute_result"
        }
      ],
      "source": [
        "merged_df.drop('price', axis=1, inplace=True)\n",
        "merged_df"
      ]
    },
    {
      "cell_type": "code",
      "execution_count": 94,
      "metadata": {
        "colab": {
          "base_uri": "https://localhost:8080/",
          "height": 175
        },
        "id": "VherYKV84Iqp",
        "outputId": "047ead3a-97e7-4bd1-eec4-00d5c1d7fc17"
      },
      "outputs": [
        {
          "data": {
            "text/html": [
              "<div>\n",
              "<style scoped>\n",
              "    .dataframe tbody tr th:only-of-type {\n",
              "        vertical-align: middle;\n",
              "    }\n",
              "\n",
              "    .dataframe tbody tr th {\n",
              "        vertical-align: top;\n",
              "    }\n",
              "\n",
              "    .dataframe thead th {\n",
              "        text-align: right;\n",
              "    }\n",
              "</style>\n",
              "<table border=\"1\" class=\"dataframe\">\n",
              "  <thead>\n",
              "    <tr style=\"text-align: right;\">\n",
              "      <th></th>\n",
              "      <th>author_id</th>\n",
              "      <th>author_name</th>\n",
              "      <th>book_title</th>\n",
              "      <th>quantity</th>\n",
              "      <th>quantity_2</th>\n",
              "    </tr>\n",
              "  </thead>\n",
              "  <tbody>\n",
              "    <tr>\n",
              "      <th>0</th>\n",
              "      <td>1</td>\n",
              "      <td>Pushkin</td>\n",
              "      <td>NaN</td>\n",
              "      <td>0</td>\n",
              "      <td>0</td>\n",
              "    </tr>\n",
              "    <tr>\n",
              "      <th>2</th>\n",
              "      <td>3</td>\n",
              "      <td>Dostoevsky</td>\n",
              "      <td>The Idiot</td>\n",
              "      <td>1</td>\n",
              "      <td>0</td>\n",
              "    </tr>\n",
              "    <tr>\n",
              "      <th>3</th>\n",
              "      <td>3</td>\n",
              "      <td>Dostoevsky</td>\n",
              "      <td>Crime and Punishment</td>\n",
              "      <td>1</td>\n",
              "      <td>0</td>\n",
              "    </tr>\n",
              "    <tr>\n",
              "      <th>4</th>\n",
              "      <td>4</td>\n",
              "      <td>unknown</td>\n",
              "      <td>Fathers and Sons</td>\n",
              "      <td>1</td>\n",
              "      <td>0</td>\n",
              "    </tr>\n",
              "  </tbody>\n",
              "</table>\n",
              "</div>"
            ],
            "text/plain": [
              "   author_id author_name            book_title  quantity  quantity_2\n",
              "0          1     Pushkin                   NaN         0           0\n",
              "2          3  Dostoevsky             The Idiot         1           0\n",
              "3          3  Dostoevsky  Crime and Punishment         1           0\n",
              "4          4     unknown      Fathers and Sons         1           0"
            ]
          },
          "execution_count": 94,
          "metadata": {},
          "output_type": "execute_result"
        }
      ],
      "source": [
        "# Удаляем строку с индексом 1\n",
        "merged_df.drop(1, axis=0, inplace=True)\n",
        "merged_df"
      ]
    },
    {
      "cell_type": "code",
      "execution_count": 116,
      "metadata": {
        "colab": {
          "base_uri": "https://localhost:8080/",
          "height": 206
        },
        "id": "gs0FB0FD4fTi",
        "outputId": "8a2d34dd-7c13-446a-b17a-bbfd3e3bc8b1"
      },
      "outputs": [
        {
          "data": {
            "text/html": [
              "<div>\n",
              "<style scoped>\n",
              "    .dataframe tbody tr th:only-of-type {\n",
              "        vertical-align: middle;\n",
              "    }\n",
              "\n",
              "    .dataframe tbody tr th {\n",
              "        vertical-align: top;\n",
              "    }\n",
              "\n",
              "    .dataframe thead th {\n",
              "        text-align: right;\n",
              "    }\n",
              "</style>\n",
              "<table border=\"1\" class=\"dataframe\">\n",
              "  <thead>\n",
              "    <tr style=\"text-align: right;\">\n",
              "      <th></th>\n",
              "      <th>author_id</th>\n",
              "      <th>author_name</th>\n",
              "      <th>book_title</th>\n",
              "      <th>quantity</th>\n",
              "      <th>quantity_2</th>\n",
              "    </tr>\n",
              "  </thead>\n",
              "  <tbody>\n",
              "    <tr>\n",
              "      <th>0</th>\n",
              "      <td>1</td>\n",
              "      <td>Pushkin</td>\n",
              "      <td>NaN</td>\n",
              "      <td>0</td>\n",
              "      <td>0.0</td>\n",
              "    </tr>\n",
              "    <tr>\n",
              "      <th>1</th>\n",
              "      <td>2</td>\n",
              "      <td>Tolstoy</td>\n",
              "      <td>War and Peace</td>\n",
              "      <td>1</td>\n",
              "      <td>NaN</td>\n",
              "    </tr>\n",
              "    <tr>\n",
              "      <th>2</th>\n",
              "      <td>3</td>\n",
              "      <td>Dostoevsky</td>\n",
              "      <td>The Idiot</td>\n",
              "      <td>1</td>\n",
              "      <td>0.0</td>\n",
              "    </tr>\n",
              "    <tr>\n",
              "      <th>3</th>\n",
              "      <td>3</td>\n",
              "      <td>Dostoevsky</td>\n",
              "      <td>Crime and Punishment</td>\n",
              "      <td>1</td>\n",
              "      <td>0.0</td>\n",
              "    </tr>\n",
              "    <tr>\n",
              "      <th>4</th>\n",
              "      <td>4</td>\n",
              "      <td>unknown</td>\n",
              "      <td>Fathers and Sons</td>\n",
              "      <td>1</td>\n",
              "      <td>0.0</td>\n",
              "    </tr>\n",
              "    <tr>\n",
              "      <th>5</th>\n",
              "      <td>2</td>\n",
              "      <td>Tolstoy</td>\n",
              "      <td>War and Peace</td>\n",
              "      <td>1</td>\n",
              "      <td>NaN</td>\n",
              "    </tr>\n",
              "  </tbody>\n",
              "</table>\n",
              "</div>"
            ],
            "text/plain": [
              "   author_id author_name            book_title  quantity  quantity_2\n",
              "0          1     Pushkin                   NaN         0         0.0\n",
              "1          2     Tolstoy         War and Peace         1         NaN\n",
              "2          3  Dostoevsky             The Idiot         1         0.0\n",
              "3          3  Dostoevsky  Crime and Punishment         1         0.0\n",
              "4          4     unknown      Fathers and Sons         1         0.0\n",
              "5          2     Tolstoy         War and Peace         1         NaN"
            ]
          },
          "execution_count": 116,
          "metadata": {},
          "output_type": "execute_result"
        }
      ],
      "source": [
        "merged_df = merged_df._append(\n",
        "    {\n",
        "        \"author_id\": 2,\n",
        "        \"author_name\": \"Tolstoy\",\n",
        "        \"book_title\": \"War and Peace\",\n",
        "        \"quantity\": 1\n",
        "    },\n",
        "    ignore_index=True\n",
        ")\n",
        "\n",
        "merged_df"
      ]
    },
    {
      "cell_type": "markdown",
      "metadata": {
        "id": "6TSgwQOz6DUy"
      },
      "source": [
        "Параметр ignore_index=True подается сюда, чтобы индексы соединяемых таблиц не учитывались. В результирующей таблице будут использованы стандартные последовательные индексы, начинающиеся с 0.\n",
        "\n",
        "Отсортируем эту таблицу по столбцу **author_id**. Это делается с помощью метода **.sort_values**"
      ]
    },
    {
      "cell_type": "code",
      "execution_count": 117,
      "metadata": {
        "colab": {
          "base_uri": "https://localhost:8080/",
          "height": 206
        },
        "id": "aHxcou9V61zR",
        "outputId": "abbdfec8-6181-4043-87df-4bd1565fb8b2"
      },
      "outputs": [
        {
          "data": {
            "text/html": [
              "<div>\n",
              "<style scoped>\n",
              "    .dataframe tbody tr th:only-of-type {\n",
              "        vertical-align: middle;\n",
              "    }\n",
              "\n",
              "    .dataframe tbody tr th {\n",
              "        vertical-align: top;\n",
              "    }\n",
              "\n",
              "    .dataframe thead th {\n",
              "        text-align: right;\n",
              "    }\n",
              "</style>\n",
              "<table border=\"1\" class=\"dataframe\">\n",
              "  <thead>\n",
              "    <tr style=\"text-align: right;\">\n",
              "      <th></th>\n",
              "      <th>author_id</th>\n",
              "      <th>author_name</th>\n",
              "      <th>book_title</th>\n",
              "      <th>quantity</th>\n",
              "      <th>quantity_2</th>\n",
              "    </tr>\n",
              "  </thead>\n",
              "  <tbody>\n",
              "    <tr>\n",
              "      <th>0</th>\n",
              "      <td>1</td>\n",
              "      <td>Pushkin</td>\n",
              "      <td>NaN</td>\n",
              "      <td>0</td>\n",
              "      <td>0.0</td>\n",
              "    </tr>\n",
              "    <tr>\n",
              "      <th>1</th>\n",
              "      <td>2</td>\n",
              "      <td>Tolstoy</td>\n",
              "      <td>War and Peace</td>\n",
              "      <td>1</td>\n",
              "      <td>NaN</td>\n",
              "    </tr>\n",
              "    <tr>\n",
              "      <th>5</th>\n",
              "      <td>2</td>\n",
              "      <td>Tolstoy</td>\n",
              "      <td>War and Peace</td>\n",
              "      <td>1</td>\n",
              "      <td>NaN</td>\n",
              "    </tr>\n",
              "    <tr>\n",
              "      <th>2</th>\n",
              "      <td>3</td>\n",
              "      <td>Dostoevsky</td>\n",
              "      <td>The Idiot</td>\n",
              "      <td>1</td>\n",
              "      <td>0.0</td>\n",
              "    </tr>\n",
              "    <tr>\n",
              "      <th>3</th>\n",
              "      <td>3</td>\n",
              "      <td>Dostoevsky</td>\n",
              "      <td>Crime and Punishment</td>\n",
              "      <td>1</td>\n",
              "      <td>0.0</td>\n",
              "    </tr>\n",
              "    <tr>\n",
              "      <th>4</th>\n",
              "      <td>4</td>\n",
              "      <td>unknown</td>\n",
              "      <td>Fathers and Sons</td>\n",
              "      <td>1</td>\n",
              "      <td>0.0</td>\n",
              "    </tr>\n",
              "  </tbody>\n",
              "</table>\n",
              "</div>"
            ],
            "text/plain": [
              "   author_id author_name            book_title  quantity  quantity_2\n",
              "0          1     Pushkin                   NaN         0         0.0\n",
              "1          2     Tolstoy         War and Peace         1         NaN\n",
              "5          2     Tolstoy         War and Peace         1         NaN\n",
              "2          3  Dostoevsky             The Idiot         1         0.0\n",
              "3          3  Dostoevsky  Crime and Punishment         1         0.0\n",
              "4          4     unknown      Fathers and Sons         1         0.0"
            ]
          },
          "execution_count": 117,
          "metadata": {},
          "output_type": "execute_result"
        }
      ],
      "source": [
        "merged_df.sort_values(by=\"author_id\", inplace=True)\n",
        "merged_df"
      ]
    },
    {
      "cell_type": "markdown",
      "metadata": {
        "id": "_w4804Gr7RW8"
      },
      "source": [
        "Чтобы сбросить индексы, воспользуемся уже известным методом **.reset_index**. В нашем слочае, стоит в него подать аргумент **drop=True**, который означает, что текущий столбец из индексов не нужно сохранять в таблице, а можно удалить."
      ]
    },
    {
      "cell_type": "code",
      "execution_count": 118,
      "metadata": {
        "colab": {
          "base_uri": "https://localhost:8080/",
          "height": 206
        },
        "id": "lTEmTaY572sR",
        "outputId": "8633270a-edd5-4918-8d87-4abfe80158f2"
      },
      "outputs": [
        {
          "data": {
            "text/html": [
              "<div>\n",
              "<style scoped>\n",
              "    .dataframe tbody tr th:only-of-type {\n",
              "        vertical-align: middle;\n",
              "    }\n",
              "\n",
              "    .dataframe tbody tr th {\n",
              "        vertical-align: top;\n",
              "    }\n",
              "\n",
              "    .dataframe thead th {\n",
              "        text-align: right;\n",
              "    }\n",
              "</style>\n",
              "<table border=\"1\" class=\"dataframe\">\n",
              "  <thead>\n",
              "    <tr style=\"text-align: right;\">\n",
              "      <th></th>\n",
              "      <th>author_id</th>\n",
              "      <th>author_name</th>\n",
              "      <th>book_title</th>\n",
              "      <th>quantity</th>\n",
              "      <th>quantity_2</th>\n",
              "    </tr>\n",
              "  </thead>\n",
              "  <tbody>\n",
              "    <tr>\n",
              "      <th>0</th>\n",
              "      <td>1</td>\n",
              "      <td>Pushkin</td>\n",
              "      <td>NaN</td>\n",
              "      <td>0</td>\n",
              "      <td>0.0</td>\n",
              "    </tr>\n",
              "    <tr>\n",
              "      <th>1</th>\n",
              "      <td>2</td>\n",
              "      <td>Tolstoy</td>\n",
              "      <td>War and Peace</td>\n",
              "      <td>1</td>\n",
              "      <td>NaN</td>\n",
              "    </tr>\n",
              "    <tr>\n",
              "      <th>2</th>\n",
              "      <td>2</td>\n",
              "      <td>Tolstoy</td>\n",
              "      <td>War and Peace</td>\n",
              "      <td>1</td>\n",
              "      <td>NaN</td>\n",
              "    </tr>\n",
              "    <tr>\n",
              "      <th>3</th>\n",
              "      <td>3</td>\n",
              "      <td>Dostoevsky</td>\n",
              "      <td>The Idiot</td>\n",
              "      <td>1</td>\n",
              "      <td>0.0</td>\n",
              "    </tr>\n",
              "    <tr>\n",
              "      <th>4</th>\n",
              "      <td>3</td>\n",
              "      <td>Dostoevsky</td>\n",
              "      <td>Crime and Punishment</td>\n",
              "      <td>1</td>\n",
              "      <td>0.0</td>\n",
              "    </tr>\n",
              "    <tr>\n",
              "      <th>5</th>\n",
              "      <td>4</td>\n",
              "      <td>unknown</td>\n",
              "      <td>Fathers and Sons</td>\n",
              "      <td>1</td>\n",
              "      <td>0.0</td>\n",
              "    </tr>\n",
              "  </tbody>\n",
              "</table>\n",
              "</div>"
            ],
            "text/plain": [
              "   author_id author_name            book_title  quantity  quantity_2\n",
              "0          1     Pushkin                   NaN         0         0.0\n",
              "1          2     Tolstoy         War and Peace         1         NaN\n",
              "2          2     Tolstoy         War and Peace         1         NaN\n",
              "3          3  Dostoevsky             The Idiot         1         0.0\n",
              "4          3  Dostoevsky  Crime and Punishment         1         0.0\n",
              "5          4     unknown      Fathers and Sons         1         0.0"
            ]
          },
          "execution_count": 118,
          "metadata": {},
          "output_type": "execute_result"
        }
      ],
      "source": [
        "merged_df.reset_index(drop=True, inplace=True)\n",
        "merged_df"
      ]
    },
    {
      "cell_type": "markdown",
      "metadata": {
        "id": "5PSM9C1u8RSL"
      },
      "source": [
        "##**Соединение таблиц**\n",
        "Для соединения таблиц можно использовать функцию **pd.concat**. С этой функцией мы уже знакомились, когда изучали библиотеку **numpy**. Здесь эта функция работает аналогичным образом: соединяет 2 таблицы вертикально (если указан параметр axis=0), либо горизонтально (если axis=1).\n",
        "Соединение происходит с сохранением индексов, если не указан параметр **ignore_index=True**."
      ]
    },
    {
      "cell_type": "code",
      "execution_count": 119,
      "metadata": {
        "colab": {
          "base_uri": "https://localhost:8080/",
          "height": 269
        },
        "id": "2tSQFnaS9fP8",
        "outputId": "7a47ea93-87bc-4351-a43f-eae0f126af28"
      },
      "outputs": [
        {
          "data": {
            "text/html": [
              "<div>\n",
              "<style scoped>\n",
              "    .dataframe tbody tr th:only-of-type {\n",
              "        vertical-align: middle;\n",
              "    }\n",
              "\n",
              "    .dataframe tbody tr th {\n",
              "        vertical-align: top;\n",
              "    }\n",
              "\n",
              "    .dataframe thead th {\n",
              "        text-align: right;\n",
              "    }\n",
              "</style>\n",
              "<table border=\"1\" class=\"dataframe\">\n",
              "  <thead>\n",
              "    <tr style=\"text-align: right;\">\n",
              "      <th></th>\n",
              "      <th>author_id</th>\n",
              "      <th>author_name</th>\n",
              "      <th>book_title</th>\n",
              "      <th>quantity</th>\n",
              "      <th>quantity_2</th>\n",
              "    </tr>\n",
              "  </thead>\n",
              "  <tbody>\n",
              "    <tr>\n",
              "      <th>0</th>\n",
              "      <td>1</td>\n",
              "      <td>Pushkin</td>\n",
              "      <td>NaN</td>\n",
              "      <td>0</td>\n",
              "      <td>0.0</td>\n",
              "    </tr>\n",
              "    <tr>\n",
              "      <th>1</th>\n",
              "      <td>2</td>\n",
              "      <td>Tolstoy</td>\n",
              "      <td>War and Peace</td>\n",
              "      <td>1</td>\n",
              "      <td>NaN</td>\n",
              "    </tr>\n",
              "    <tr>\n",
              "      <th>2</th>\n",
              "      <td>2</td>\n",
              "      <td>Tolstoy</td>\n",
              "      <td>War and Peace</td>\n",
              "      <td>1</td>\n",
              "      <td>NaN</td>\n",
              "    </tr>\n",
              "    <tr>\n",
              "      <th>3</th>\n",
              "      <td>3</td>\n",
              "      <td>Dostoevsky</td>\n",
              "      <td>The Idiot</td>\n",
              "      <td>1</td>\n",
              "      <td>0.0</td>\n",
              "    </tr>\n",
              "    <tr>\n",
              "      <th>4</th>\n",
              "      <td>3</td>\n",
              "      <td>Dostoevsky</td>\n",
              "      <td>Crime and Punishment</td>\n",
              "      <td>1</td>\n",
              "      <td>0.0</td>\n",
              "    </tr>\n",
              "    <tr>\n",
              "      <th>5</th>\n",
              "      <td>4</td>\n",
              "      <td>unknown</td>\n",
              "      <td>Fathers and Sons</td>\n",
              "      <td>1</td>\n",
              "      <td>0.0</td>\n",
              "    </tr>\n",
              "    <tr>\n",
              "      <th>6</th>\n",
              "      <td>3</td>\n",
              "      <td>Dostoevsky</td>\n",
              "      <td>Gambler</td>\n",
              "      <td>2</td>\n",
              "      <td>NaN</td>\n",
              "    </tr>\n",
              "    <tr>\n",
              "      <th>7</th>\n",
              "      <td>5</td>\n",
              "      <td>Chekhov</td>\n",
              "      <td>Three Sister</td>\n",
              "      <td>3</td>\n",
              "      <td>NaN</td>\n",
              "    </tr>\n",
              "  </tbody>\n",
              "</table>\n",
              "</div>"
            ],
            "text/plain": [
              "   author_id author_name            book_title  quantity  quantity_2\n",
              "0          1     Pushkin                   NaN         0         0.0\n",
              "1          2     Tolstoy         War and Peace         1         NaN\n",
              "2          2     Tolstoy         War and Peace         1         NaN\n",
              "3          3  Dostoevsky             The Idiot         1         0.0\n",
              "4          3  Dostoevsky  Crime and Punishment         1         0.0\n",
              "5          4     unknown      Fathers and Sons         1         0.0\n",
              "6          3  Dostoevsky               Gambler         2         NaN\n",
              "7          5     Chekhov          Three Sister         3         NaN"
            ]
          },
          "execution_count": 119,
          "metadata": {},
          "output_type": "execute_result"
        }
      ],
      "source": [
        "df1 = pd.DataFrame({\n",
        "    \"author_id\": [3, 5],\n",
        "    \"author_name\": [\"Dostoevsky\", \"Chekhov\"],\n",
        "    \"book_title\": [\"Gambler\", \"Three Sister\"],\n",
        "    \"quantity\": [2, 3]\n",
        "})\n",
        "df2 =pd.concat([merged_df, df1], axis=0, ignore_index=True)\n",
        "df2"
      ]
    },
    {
      "cell_type": "code",
      "execution_count": 120,
      "metadata": {
        "colab": {
          "base_uri": "https://localhost:8080/",
          "height": 269
        },
        "id": "0-NE2yqv-8dh",
        "outputId": "418b5e6c-05f7-4d1c-b54d-f5e01a6c6b98"
      },
      "outputs": [
        {
          "data": {
            "text/html": [
              "<div>\n",
              "<style scoped>\n",
              "    .dataframe tbody tr th:only-of-type {\n",
              "        vertical-align: middle;\n",
              "    }\n",
              "\n",
              "    .dataframe tbody tr th {\n",
              "        vertical-align: top;\n",
              "    }\n",
              "\n",
              "    .dataframe thead th {\n",
              "        text-align: right;\n",
              "    }\n",
              "</style>\n",
              "<table border=\"1\" class=\"dataframe\">\n",
              "  <thead>\n",
              "    <tr style=\"text-align: right;\">\n",
              "      <th></th>\n",
              "      <th>author_id</th>\n",
              "      <th>author_name</th>\n",
              "      <th>book_title</th>\n",
              "      <th>quantity</th>\n",
              "      <th>quantity_2</th>\n",
              "      <th>price</th>\n",
              "    </tr>\n",
              "  </thead>\n",
              "  <tbody>\n",
              "    <tr>\n",
              "      <th>0</th>\n",
              "      <td>1</td>\n",
              "      <td>Pushkin</td>\n",
              "      <td>NaN</td>\n",
              "      <td>0</td>\n",
              "      <td>0.0</td>\n",
              "      <td>NaN</td>\n",
              "    </tr>\n",
              "    <tr>\n",
              "      <th>1</th>\n",
              "      <td>2</td>\n",
              "      <td>Tolstoy</td>\n",
              "      <td>War and Peace</td>\n",
              "      <td>1</td>\n",
              "      <td>NaN</td>\n",
              "      <td>700.0</td>\n",
              "    </tr>\n",
              "    <tr>\n",
              "      <th>2</th>\n",
              "      <td>2</td>\n",
              "      <td>Tolstoy</td>\n",
              "      <td>War and Peace</td>\n",
              "      <td>1</td>\n",
              "      <td>NaN</td>\n",
              "      <td>450.0</td>\n",
              "    </tr>\n",
              "    <tr>\n",
              "      <th>3</th>\n",
              "      <td>3</td>\n",
              "      <td>Dostoevsky</td>\n",
              "      <td>The Idiot</td>\n",
              "      <td>1</td>\n",
              "      <td>0.0</td>\n",
              "      <td>500.0</td>\n",
              "    </tr>\n",
              "    <tr>\n",
              "      <th>4</th>\n",
              "      <td>3</td>\n",
              "      <td>Dostoevsky</td>\n",
              "      <td>Crime and Punishment</td>\n",
              "      <td>1</td>\n",
              "      <td>0.0</td>\n",
              "      <td>NaN</td>\n",
              "    </tr>\n",
              "    <tr>\n",
              "      <th>5</th>\n",
              "      <td>4</td>\n",
              "      <td>unknown</td>\n",
              "      <td>Fathers and Sons</td>\n",
              "      <td>1</td>\n",
              "      <td>0.0</td>\n",
              "      <td>400.0</td>\n",
              "    </tr>\n",
              "    <tr>\n",
              "      <th>6</th>\n",
              "      <td>3</td>\n",
              "      <td>Dostoevsky</td>\n",
              "      <td>Gambler</td>\n",
              "      <td>2</td>\n",
              "      <td>NaN</td>\n",
              "      <td>350.0</td>\n",
              "    </tr>\n",
              "    <tr>\n",
              "      <th>7</th>\n",
              "      <td>5</td>\n",
              "      <td>Chekhov</td>\n",
              "      <td>Three Sister</td>\n",
              "      <td>3</td>\n",
              "      <td>NaN</td>\n",
              "      <td>NaN</td>\n",
              "    </tr>\n",
              "  </tbody>\n",
              "</table>\n",
              "</div>"
            ],
            "text/plain": [
              "   author_id author_name            book_title  quantity  quantity_2  price\n",
              "0          1     Pushkin                   NaN         0         0.0    NaN\n",
              "1          2     Tolstoy         War and Peace         1         NaN  700.0\n",
              "2          2     Tolstoy         War and Peace         1         NaN  450.0\n",
              "3          3  Dostoevsky             The Idiot         1         0.0  500.0\n",
              "4          3  Dostoevsky  Crime and Punishment         1         0.0    NaN\n",
              "5          4     unknown      Fathers and Sons         1         0.0  400.0\n",
              "6          3  Dostoevsky               Gambler         2         NaN  350.0\n",
              "7          5     Chekhov          Three Sister         3         NaN    NaN"
            ]
          },
          "execution_count": 120,
          "metadata": {},
          "output_type": "execute_result"
        }
      ],
      "source": [
        "df3 = pd.DataFrame(\n",
        "    {'price': [700, 450, 500, 400, 350]},\n",
        "    index=[1, 2, 3, 5, 6])\n",
        "df4 = pd.concat([df2, df3], axis=1)\n",
        "df4"
      ]
    },
    {
      "cell_type": "markdown",
      "metadata": {
        "id": "TWntutDi_pXN"
      },
      "source": [
        "##**Операции над таблицами**\n",
        "Как и ранее с массивами **numpy** и **Series**, с таблицами DataFrame можно производить различные матеватические операции. Например, значения различных столбцов можно поэлементно перемножать, складывать и пр."
      ]
    },
    {
      "cell_type": "code",
      "execution_count": 121,
      "metadata": {
        "colab": {
          "base_uri": "https://localhost:8080/",
          "height": 269
        },
        "id": "9-W4UHTJAXOc",
        "outputId": "2d92b6fd-145b-43d7-8500-752e6f771263"
      },
      "outputs": [
        {
          "data": {
            "text/html": [
              "<div>\n",
              "<style scoped>\n",
              "    .dataframe tbody tr th:only-of-type {\n",
              "        vertical-align: middle;\n",
              "    }\n",
              "\n",
              "    .dataframe tbody tr th {\n",
              "        vertical-align: top;\n",
              "    }\n",
              "\n",
              "    .dataframe thead th {\n",
              "        text-align: right;\n",
              "    }\n",
              "</style>\n",
              "<table border=\"1\" class=\"dataframe\">\n",
              "  <thead>\n",
              "    <tr style=\"text-align: right;\">\n",
              "      <th></th>\n",
              "      <th>author_id</th>\n",
              "      <th>author_name</th>\n",
              "      <th>book_title</th>\n",
              "      <th>quantity</th>\n",
              "      <th>quantity_2</th>\n",
              "      <th>price</th>\n",
              "      <th>total</th>\n",
              "    </tr>\n",
              "  </thead>\n",
              "  <tbody>\n",
              "    <tr>\n",
              "      <th>0</th>\n",
              "      <td>1</td>\n",
              "      <td>Pushkin</td>\n",
              "      <td>NaN</td>\n",
              "      <td>0</td>\n",
              "      <td>0.0</td>\n",
              "      <td>NaN</td>\n",
              "      <td>NaN</td>\n",
              "    </tr>\n",
              "    <tr>\n",
              "      <th>1</th>\n",
              "      <td>2</td>\n",
              "      <td>Tolstoy</td>\n",
              "      <td>War and Peace</td>\n",
              "      <td>1</td>\n",
              "      <td>NaN</td>\n",
              "      <td>700.0</td>\n",
              "      <td>700.0</td>\n",
              "    </tr>\n",
              "    <tr>\n",
              "      <th>2</th>\n",
              "      <td>2</td>\n",
              "      <td>Tolstoy</td>\n",
              "      <td>War and Peace</td>\n",
              "      <td>1</td>\n",
              "      <td>NaN</td>\n",
              "      <td>450.0</td>\n",
              "      <td>450.0</td>\n",
              "    </tr>\n",
              "    <tr>\n",
              "      <th>3</th>\n",
              "      <td>3</td>\n",
              "      <td>Dostoevsky</td>\n",
              "      <td>The Idiot</td>\n",
              "      <td>1</td>\n",
              "      <td>0.0</td>\n",
              "      <td>500.0</td>\n",
              "      <td>500.0</td>\n",
              "    </tr>\n",
              "    <tr>\n",
              "      <th>4</th>\n",
              "      <td>3</td>\n",
              "      <td>Dostoevsky</td>\n",
              "      <td>Crime and Punishment</td>\n",
              "      <td>1</td>\n",
              "      <td>0.0</td>\n",
              "      <td>NaN</td>\n",
              "      <td>NaN</td>\n",
              "    </tr>\n",
              "    <tr>\n",
              "      <th>5</th>\n",
              "      <td>4</td>\n",
              "      <td>unknown</td>\n",
              "      <td>Fathers and Sons</td>\n",
              "      <td>1</td>\n",
              "      <td>0.0</td>\n",
              "      <td>400.0</td>\n",
              "      <td>400.0</td>\n",
              "    </tr>\n",
              "    <tr>\n",
              "      <th>6</th>\n",
              "      <td>3</td>\n",
              "      <td>Dostoevsky</td>\n",
              "      <td>Gambler</td>\n",
              "      <td>2</td>\n",
              "      <td>NaN</td>\n",
              "      <td>350.0</td>\n",
              "      <td>700.0</td>\n",
              "    </tr>\n",
              "    <tr>\n",
              "      <th>7</th>\n",
              "      <td>5</td>\n",
              "      <td>Chekhov</td>\n",
              "      <td>Three Sister</td>\n",
              "      <td>3</td>\n",
              "      <td>NaN</td>\n",
              "      <td>NaN</td>\n",
              "      <td>NaN</td>\n",
              "    </tr>\n",
              "  </tbody>\n",
              "</table>\n",
              "</div>"
            ],
            "text/plain": [
              "   author_id author_name            book_title  quantity  quantity_2  price  \\\n",
              "0          1     Pushkin                   NaN         0         0.0    NaN   \n",
              "1          2     Tolstoy         War and Peace         1         NaN  700.0   \n",
              "2          2     Tolstoy         War and Peace         1         NaN  450.0   \n",
              "3          3  Dostoevsky             The Idiot         1         0.0  500.0   \n",
              "4          3  Dostoevsky  Crime and Punishment         1         0.0    NaN   \n",
              "5          4     unknown      Fathers and Sons         1         0.0  400.0   \n",
              "6          3  Dostoevsky               Gambler         2         NaN  350.0   \n",
              "7          5     Chekhov          Three Sister         3         NaN    NaN   \n",
              "\n",
              "   total  \n",
              "0    NaN  \n",
              "1  700.0  \n",
              "2  450.0  \n",
              "3  500.0  \n",
              "4    NaN  \n",
              "5  400.0  \n",
              "6  700.0  \n",
              "7    NaN  "
            ]
          },
          "execution_count": 121,
          "metadata": {},
          "output_type": "execute_result"
        }
      ],
      "source": [
        "df4['total'] = df4['quantity'] * df4['price']\n",
        "df4"
      ]
    },
    {
      "cell_type": "markdown",
      "metadata": {
        "id": "4ybE0iwtAmTr"
      },
      "source": [
        "С помощью следующих методов можно посчитать основные статистики по желаемым стобцам:\n",
        "* df4[\"price\"].max() - максимум\n",
        "* df4['price'].min() - минимум\n",
        "* df4['price'].mean() - среднее\n",
        "* df4['price'].median() - медиана\n",
        "* df4['price'].std() - средне квадратичное отклонение\n",
        "* df4['price'].var() - дисперсия  \n",
        "\n",
        "С помощью метода **.nlargest** можно вывести несколько наибольших значений. Указывается то, сколько значений надо вернуть, а также то, по какому именно значению нужно сортировать:\n"
      ]
    },
    {
      "cell_type": "code",
      "execution_count": 122,
      "metadata": {
        "colab": {
          "base_uri": "https://localhost:8080/",
          "height": 143
        },
        "id": "xBnFRwaJBMEw",
        "outputId": "417d7716-6308-41de-a279-5fd1ea12310c"
      },
      "outputs": [
        {
          "data": {
            "text/html": [
              "<div>\n",
              "<style scoped>\n",
              "    .dataframe tbody tr th:only-of-type {\n",
              "        vertical-align: middle;\n",
              "    }\n",
              "\n",
              "    .dataframe tbody tr th {\n",
              "        vertical-align: top;\n",
              "    }\n",
              "\n",
              "    .dataframe thead th {\n",
              "        text-align: right;\n",
              "    }\n",
              "</style>\n",
              "<table border=\"1\" class=\"dataframe\">\n",
              "  <thead>\n",
              "    <tr style=\"text-align: right;\">\n",
              "      <th></th>\n",
              "      <th>author_id</th>\n",
              "      <th>author_name</th>\n",
              "      <th>book_title</th>\n",
              "      <th>quantity</th>\n",
              "      <th>quantity_2</th>\n",
              "      <th>price</th>\n",
              "      <th>total</th>\n",
              "    </tr>\n",
              "  </thead>\n",
              "  <tbody>\n",
              "    <tr>\n",
              "      <th>1</th>\n",
              "      <td>2</td>\n",
              "      <td>Tolstoy</td>\n",
              "      <td>War and Peace</td>\n",
              "      <td>1</td>\n",
              "      <td>NaN</td>\n",
              "      <td>700.0</td>\n",
              "      <td>700.0</td>\n",
              "    </tr>\n",
              "    <tr>\n",
              "      <th>3</th>\n",
              "      <td>3</td>\n",
              "      <td>Dostoevsky</td>\n",
              "      <td>The Idiot</td>\n",
              "      <td>1</td>\n",
              "      <td>0.0</td>\n",
              "      <td>500.0</td>\n",
              "      <td>500.0</td>\n",
              "    </tr>\n",
              "    <tr>\n",
              "      <th>2</th>\n",
              "      <td>2</td>\n",
              "      <td>Tolstoy</td>\n",
              "      <td>War and Peace</td>\n",
              "      <td>1</td>\n",
              "      <td>NaN</td>\n",
              "      <td>450.0</td>\n",
              "      <td>450.0</td>\n",
              "    </tr>\n",
              "  </tbody>\n",
              "</table>\n",
              "</div>"
            ],
            "text/plain": [
              "   author_id author_name     book_title  quantity  quantity_2  price  total\n",
              "1          2     Tolstoy  War and Peace         1         NaN  700.0  700.0\n",
              "3          3  Dostoevsky      The Idiot         1         0.0  500.0  500.0\n",
              "2          2     Tolstoy  War and Peace         1         NaN  450.0  450.0"
            ]
          },
          "execution_count": 122,
          "metadata": {},
          "output_type": "execute_result"
        }
      ],
      "source": [
        "# Выводим самые крупные значения в столбце price\n",
        "df4.nlargest(3, \"price\")"
      ]
    },
    {
      "cell_type": "markdown",
      "metadata": {
        "id": "d97bQ7eFCWwA"
      },
      "source": [
        "Имеется аналогичный метод **.nsmallest**.  \n",
        "\n",
        "С помощью метода **.unique** можно получить уникальные значения заданного столбца:"
      ]
    },
    {
      "cell_type": "code",
      "execution_count": 123,
      "metadata": {
        "colab": {
          "base_uri": "https://localhost:8080/"
        },
        "id": "qymmVQ9KCzlQ",
        "outputId": "5fc0af81-cf97-4f41-eed2-5a40b303d55b"
      },
      "outputs": [
        {
          "data": {
            "text/plain": [
              "array(['Pushkin', 'Tolstoy', 'Dostoevsky', 'unknown', 'Chekhov'],\n",
              "      dtype=object)"
            ]
          },
          "execution_count": 123,
          "metadata": {},
          "output_type": "execute_result"
        }
      ],
      "source": [
        "df4['author_name'].unique()"
      ]
    },
    {
      "cell_type": "markdown",
      "metadata": {
        "id": "eamUbwUMDDM6"
      },
      "source": [
        "Если нужно получить не уникальные значения, а лишь их количество, используют метод **.nunique**"
      ]
    },
    {
      "cell_type": "code",
      "execution_count": 124,
      "metadata": {
        "colab": {
          "base_uri": "https://localhost:8080/"
        },
        "id": "GUZPo7ZaDcVf",
        "outputId": "8f0e7d40-e50f-4d24-f78c-77dabf903d2b"
      },
      "outputs": [
        {
          "data": {
            "text/plain": [
              "5"
            ]
          },
          "execution_count": 124,
          "metadata": {},
          "output_type": "execute_result"
        }
      ],
      "source": [
        "df4['author_name'].nunique()"
      ]
    },
    {
      "cell_type": "markdown",
      "metadata": {
        "id": "tLsUupW7Df0i"
      },
      "source": [
        "С помощью метода **.value_count** можно получить информацию о том, сколько раз каждое уникальное значение появляется в данном столбце:"
      ]
    },
    {
      "cell_type": "code",
      "execution_count": 125,
      "metadata": {
        "colab": {
          "base_uri": "https://localhost:8080/"
        },
        "id": "gup9vg1aEIov",
        "outputId": "8f1f8caa-267b-45b8-c577-6953bcbede2f"
      },
      "outputs": [
        {
          "data": {
            "text/plain": [
              "Dostoevsky    3\n",
              "Tolstoy       2\n",
              "Pushkin       1\n",
              "unknown       1\n",
              "Chekhov       1\n",
              "Name: author_name, dtype: int64"
            ]
          },
          "execution_count": 125,
          "metadata": {},
          "output_type": "execute_result"
        }
      ],
      "source": [
        "df4['author_name'].value_counts()"
      ]
    },
    {
      "cell_type": "markdown",
      "metadata": {
        "id": "welFAq4hET7i"
      },
      "source": [
        "К значениям таблицы можно применять и функции, которые не имеются в библиотеках **pandas** и **numpy**. Делается это с помощью метода **.apply**"
      ]
    },
    {
      "cell_type": "code",
      "execution_count": 126,
      "metadata": {
        "colab": {
          "base_uri": "https://localhost:8080/"
        },
        "id": "1b9CW561EwyD",
        "outputId": "1ac6bc28-5213-468e-ba47-d3385367c6ec"
      },
      "outputs": [
        {
          "data": {
            "text/plain": [
              "0       PUSHKIN\n",
              "1       TOLSTOY\n",
              "2       TOLSTOY\n",
              "3    DOSTOEVSKY\n",
              "4    DOSTOEVSKY\n",
              "5       UNKNOWN\n",
              "6    DOSTOEVSKY\n",
              "7       CHEKHOV\n",
              "Name: author_name, dtype: object"
            ]
          },
          "execution_count": 126,
          "metadata": {},
          "output_type": "execute_result"
        }
      ],
      "source": [
        "df4['author_name'].apply(lambda x: x.upper())"
      ]
    },
    {
      "cell_type": "code",
      "execution_count": 127,
      "metadata": {
        "colab": {
          "base_uri": "https://localhost:8080/",
          "height": 269
        },
        "id": "h94DJ9ekFTXN",
        "outputId": "1435ffb0-4448-4d00-c128-974e48a4d1a4"
      },
      "outputs": [
        {
          "data": {
            "text/html": [
              "<div>\n",
              "<style scoped>\n",
              "    .dataframe tbody tr th:only-of-type {\n",
              "        vertical-align: middle;\n",
              "    }\n",
              "\n",
              "    .dataframe tbody tr th {\n",
              "        vertical-align: top;\n",
              "    }\n",
              "\n",
              "    .dataframe thead th {\n",
              "        text-align: right;\n",
              "    }\n",
              "</style>\n",
              "<table border=\"1\" class=\"dataframe\">\n",
              "  <thead>\n",
              "    <tr style=\"text-align: right;\">\n",
              "      <th></th>\n",
              "      <th>author_id</th>\n",
              "      <th>author_name</th>\n",
              "      <th>book_title</th>\n",
              "      <th>quantity</th>\n",
              "      <th>quantity_2</th>\n",
              "      <th>price</th>\n",
              "      <th>total</th>\n",
              "    </tr>\n",
              "  </thead>\n",
              "  <tbody>\n",
              "    <tr>\n",
              "      <th>0</th>\n",
              "      <td>1</td>\n",
              "      <td>Pushkin</td>\n",
              "      <td>NaN</td>\n",
              "      <td>0</td>\n",
              "      <td>0.0</td>\n",
              "      <td>NaN</td>\n",
              "      <td>NaN</td>\n",
              "    </tr>\n",
              "    <tr>\n",
              "      <th>1</th>\n",
              "      <td>2</td>\n",
              "      <td>Tolstoy</td>\n",
              "      <td>War and Peace</td>\n",
              "      <td>1</td>\n",
              "      <td>NaN</td>\n",
              "      <td>700.0</td>\n",
              "      <td>700.0</td>\n",
              "    </tr>\n",
              "    <tr>\n",
              "      <th>2</th>\n",
              "      <td>2</td>\n",
              "      <td>Tolstoy</td>\n",
              "      <td>War and Peace</td>\n",
              "      <td>1</td>\n",
              "      <td>NaN</td>\n",
              "      <td>450.0</td>\n",
              "      <td>450.0</td>\n",
              "    </tr>\n",
              "    <tr>\n",
              "      <th>3</th>\n",
              "      <td>3</td>\n",
              "      <td>Dostoevsky</td>\n",
              "      <td>The Idiot</td>\n",
              "      <td>1</td>\n",
              "      <td>0.0</td>\n",
              "      <td>500.0</td>\n",
              "      <td>500.0</td>\n",
              "    </tr>\n",
              "    <tr>\n",
              "      <th>4</th>\n",
              "      <td>3</td>\n",
              "      <td>Dostoevsky</td>\n",
              "      <td>Crime and Punishment</td>\n",
              "      <td>1</td>\n",
              "      <td>0.0</td>\n",
              "      <td>NaN</td>\n",
              "      <td>NaN</td>\n",
              "    </tr>\n",
              "    <tr>\n",
              "      <th>5</th>\n",
              "      <td>4</td>\n",
              "      <td>unknown</td>\n",
              "      <td>Fathers and Sons</td>\n",
              "      <td>1</td>\n",
              "      <td>0.0</td>\n",
              "      <td>400.0</td>\n",
              "      <td>400.0</td>\n",
              "    </tr>\n",
              "    <tr>\n",
              "      <th>6</th>\n",
              "      <td>3</td>\n",
              "      <td>Dostoevsky</td>\n",
              "      <td>Gambler</td>\n",
              "      <td>2</td>\n",
              "      <td>NaN</td>\n",
              "      <td>350.0</td>\n",
              "      <td>700.0</td>\n",
              "    </tr>\n",
              "    <tr>\n",
              "      <th>7</th>\n",
              "      <td>5</td>\n",
              "      <td>Chekhov</td>\n",
              "      <td>Three Sister</td>\n",
              "      <td>3</td>\n",
              "      <td>NaN</td>\n",
              "      <td>NaN</td>\n",
              "      <td>NaN</td>\n",
              "    </tr>\n",
              "  </tbody>\n",
              "</table>\n",
              "</div>"
            ],
            "text/plain": [
              "   author_id author_name            book_title  quantity  quantity_2  price  \\\n",
              "0          1     Pushkin                   NaN         0         0.0    NaN   \n",
              "1          2     Tolstoy         War and Peace         1         NaN  700.0   \n",
              "2          2     Tolstoy         War and Peace         1         NaN  450.0   \n",
              "3          3  Dostoevsky             The Idiot         1         0.0  500.0   \n",
              "4          3  Dostoevsky  Crime and Punishment         1         0.0    NaN   \n",
              "5          4     unknown      Fathers and Sons         1         0.0  400.0   \n",
              "6          3  Dostoevsky               Gambler         2         NaN  350.0   \n",
              "7          5     Chekhov          Three Sister         3         NaN    NaN   \n",
              "\n",
              "   total  \n",
              "0    NaN  \n",
              "1  700.0  \n",
              "2  450.0  \n",
              "3  500.0  \n",
              "4    NaN  \n",
              "5  400.0  \n",
              "6  700.0  \n",
              "7    NaN  "
            ]
          },
          "execution_count": 127,
          "metadata": {},
          "output_type": "execute_result"
        }
      ],
      "source": [
        "df4"
      ]
    },
    {
      "cell_type": "code",
      "execution_count": 128,
      "metadata": {
        "colab": {
          "base_uri": "https://localhost:8080/",
          "height": 269
        },
        "id": "p7Fj2-TfFWxb",
        "outputId": "0a7d7df3-accf-4690-df10-28ede24050bb"
      },
      "outputs": [
        {
          "data": {
            "text/html": [
              "<div>\n",
              "<style scoped>\n",
              "    .dataframe tbody tr th:only-of-type {\n",
              "        vertical-align: middle;\n",
              "    }\n",
              "\n",
              "    .dataframe tbody tr th {\n",
              "        vertical-align: top;\n",
              "    }\n",
              "\n",
              "    .dataframe thead th {\n",
              "        text-align: right;\n",
              "    }\n",
              "</style>\n",
              "<table border=\"1\" class=\"dataframe\">\n",
              "  <thead>\n",
              "    <tr style=\"text-align: right;\">\n",
              "      <th></th>\n",
              "      <th>author_id</th>\n",
              "      <th>author_name</th>\n",
              "      <th>book_title</th>\n",
              "      <th>quantity</th>\n",
              "      <th>quantity_2</th>\n",
              "      <th>price</th>\n",
              "      <th>total</th>\n",
              "      <th>author_name_2</th>\n",
              "    </tr>\n",
              "  </thead>\n",
              "  <tbody>\n",
              "    <tr>\n",
              "      <th>0</th>\n",
              "      <td>1</td>\n",
              "      <td>Pushkin</td>\n",
              "      <td>NaN</td>\n",
              "      <td>0</td>\n",
              "      <td>0.0</td>\n",
              "      <td>NaN</td>\n",
              "      <td>NaN</td>\n",
              "      <td>PUSHKIN</td>\n",
              "    </tr>\n",
              "    <tr>\n",
              "      <th>1</th>\n",
              "      <td>2</td>\n",
              "      <td>Tolstoy</td>\n",
              "      <td>War and Peace</td>\n",
              "      <td>1</td>\n",
              "      <td>NaN</td>\n",
              "      <td>700.0</td>\n",
              "      <td>700.0</td>\n",
              "      <td>TOLSTOY</td>\n",
              "    </tr>\n",
              "    <tr>\n",
              "      <th>2</th>\n",
              "      <td>2</td>\n",
              "      <td>Tolstoy</td>\n",
              "      <td>War and Peace</td>\n",
              "      <td>1</td>\n",
              "      <td>NaN</td>\n",
              "      <td>450.0</td>\n",
              "      <td>450.0</td>\n",
              "      <td>TOLSTOY</td>\n",
              "    </tr>\n",
              "    <tr>\n",
              "      <th>3</th>\n",
              "      <td>3</td>\n",
              "      <td>Dostoevsky</td>\n",
              "      <td>The Idiot</td>\n",
              "      <td>1</td>\n",
              "      <td>0.0</td>\n",
              "      <td>500.0</td>\n",
              "      <td>500.0</td>\n",
              "      <td>DOSTOEVSKY</td>\n",
              "    </tr>\n",
              "    <tr>\n",
              "      <th>4</th>\n",
              "      <td>3</td>\n",
              "      <td>Dostoevsky</td>\n",
              "      <td>Crime and Punishment</td>\n",
              "      <td>1</td>\n",
              "      <td>0.0</td>\n",
              "      <td>NaN</td>\n",
              "      <td>NaN</td>\n",
              "      <td>DOSTOEVSKY</td>\n",
              "    </tr>\n",
              "    <tr>\n",
              "      <th>5</th>\n",
              "      <td>4</td>\n",
              "      <td>unknown</td>\n",
              "      <td>Fathers and Sons</td>\n",
              "      <td>1</td>\n",
              "      <td>0.0</td>\n",
              "      <td>400.0</td>\n",
              "      <td>400.0</td>\n",
              "      <td>UNKNOWN</td>\n",
              "    </tr>\n",
              "    <tr>\n",
              "      <th>6</th>\n",
              "      <td>3</td>\n",
              "      <td>Dostoevsky</td>\n",
              "      <td>Gambler</td>\n",
              "      <td>2</td>\n",
              "      <td>NaN</td>\n",
              "      <td>350.0</td>\n",
              "      <td>700.0</td>\n",
              "      <td>DOSTOEVSKY</td>\n",
              "    </tr>\n",
              "    <tr>\n",
              "      <th>7</th>\n",
              "      <td>5</td>\n",
              "      <td>Chekhov</td>\n",
              "      <td>Three Sister</td>\n",
              "      <td>3</td>\n",
              "      <td>NaN</td>\n",
              "      <td>NaN</td>\n",
              "      <td>NaN</td>\n",
              "      <td>CHEKHOV</td>\n",
              "    </tr>\n",
              "  </tbody>\n",
              "</table>\n",
              "</div>"
            ],
            "text/plain": [
              "   author_id author_name            book_title  quantity  quantity_2  price  \\\n",
              "0          1     Pushkin                   NaN         0         0.0    NaN   \n",
              "1          2     Tolstoy         War and Peace         1         NaN  700.0   \n",
              "2          2     Tolstoy         War and Peace         1         NaN  450.0   \n",
              "3          3  Dostoevsky             The Idiot         1         0.0  500.0   \n",
              "4          3  Dostoevsky  Crime and Punishment         1         0.0    NaN   \n",
              "5          4     unknown      Fathers and Sons         1         0.0  400.0   \n",
              "6          3  Dostoevsky               Gambler         2         NaN  350.0   \n",
              "7          5     Chekhov          Three Sister         3         NaN    NaN   \n",
              "\n",
              "   total author_name_2  \n",
              "0    NaN       PUSHKIN  \n",
              "1  700.0       TOLSTOY  \n",
              "2  450.0       TOLSTOY  \n",
              "3  500.0    DOSTOEVSKY  \n",
              "4    NaN    DOSTOEVSKY  \n",
              "5  400.0       UNKNOWN  \n",
              "6  700.0    DOSTOEVSKY  \n",
              "7    NaN       CHEKHOV  "
            ]
          },
          "execution_count": 128,
          "metadata": {},
          "output_type": "execute_result"
        }
      ],
      "source": [
        "df4['author_name_2'] = df4['author_name'].apply(lambda x: x.upper())\n",
        "df4"
      ]
    },
    {
      "cell_type": "code",
      "execution_count": 129,
      "metadata": {
        "colab": {
          "base_uri": "https://localhost:8080/"
        },
        "id": "LjtCkVOFFryy",
        "outputId": "6d6e1acb-971e-4396-eb1b-177bc5b2b43b"
      },
      "outputs": [
        {
          "data": {
            "text/plain": [
              "Index(['author_id', 'author_name', 'book_title', 'quantity', 'quantity_2',\n",
              "       'price', 'total', 'author_name_2'],\n",
              "      dtype='object')"
            ]
          },
          "execution_count": 129,
          "metadata": {},
          "output_type": "execute_result"
        }
      ],
      "source": [
        "df4.columns"
      ]
    },
    {
      "cell_type": "code",
      "execution_count": 130,
      "metadata": {
        "colab": {
          "base_uri": "https://localhost:8080/"
        },
        "id": "VzrRGwmlF3b7",
        "outputId": "f9be5c79-153b-4e56-d26d-112cdc727336"
      },
      "outputs": [
        {
          "data": {
            "text/plain": [
              "['author_id',\n",
              " 'author_name',\n",
              " 'book_title',\n",
              " 'price',\n",
              " 'quantity',\n",
              " 'quantity_2',\n",
              " 'total']"
            ]
          },
          "execution_count": 130,
          "metadata": {},
          "output_type": "execute_result"
        }
      ],
      "source": [
        "col_names = ['author_id', 'author_name', 'book_title', 'quantity', 'quantity_2', 'price', 'total']\n",
        "sorted(col_names)"
      ]
    },
    {
      "cell_type": "code",
      "execution_count": 131,
      "metadata": {
        "colab": {
          "base_uri": "https://localhost:8080/",
          "height": 269
        },
        "id": "ypzVgGFPhhc3",
        "outputId": "1d000d05-3338-4123-8126-8586e6e15af0"
      },
      "outputs": [
        {
          "data": {
            "text/html": [
              "<div>\n",
              "<style scoped>\n",
              "    .dataframe tbody tr th:only-of-type {\n",
              "        vertical-align: middle;\n",
              "    }\n",
              "\n",
              "    .dataframe tbody tr th {\n",
              "        vertical-align: top;\n",
              "    }\n",
              "\n",
              "    .dataframe thead th {\n",
              "        text-align: right;\n",
              "    }\n",
              "</style>\n",
              "<table border=\"1\" class=\"dataframe\">\n",
              "  <thead>\n",
              "    <tr style=\"text-align: right;\">\n",
              "      <th></th>\n",
              "      <th>author_id</th>\n",
              "      <th>author_name</th>\n",
              "      <th>book_title</th>\n",
              "      <th>price</th>\n",
              "      <th>quantity</th>\n",
              "      <th>quantity_2</th>\n",
              "      <th>total</th>\n",
              "    </tr>\n",
              "  </thead>\n",
              "  <tbody>\n",
              "    <tr>\n",
              "      <th>0</th>\n",
              "      <td>1</td>\n",
              "      <td>Pushkin</td>\n",
              "      <td>NaN</td>\n",
              "      <td>NaN</td>\n",
              "      <td>0</td>\n",
              "      <td>0.0</td>\n",
              "      <td>NaN</td>\n",
              "    </tr>\n",
              "    <tr>\n",
              "      <th>1</th>\n",
              "      <td>2</td>\n",
              "      <td>Tolstoy</td>\n",
              "      <td>War and Peace</td>\n",
              "      <td>700.0</td>\n",
              "      <td>1</td>\n",
              "      <td>NaN</td>\n",
              "      <td>700.0</td>\n",
              "    </tr>\n",
              "    <tr>\n",
              "      <th>2</th>\n",
              "      <td>2</td>\n",
              "      <td>Tolstoy</td>\n",
              "      <td>War and Peace</td>\n",
              "      <td>450.0</td>\n",
              "      <td>1</td>\n",
              "      <td>NaN</td>\n",
              "      <td>450.0</td>\n",
              "    </tr>\n",
              "    <tr>\n",
              "      <th>3</th>\n",
              "      <td>3</td>\n",
              "      <td>Dostoevsky</td>\n",
              "      <td>The Idiot</td>\n",
              "      <td>500.0</td>\n",
              "      <td>1</td>\n",
              "      <td>0.0</td>\n",
              "      <td>500.0</td>\n",
              "    </tr>\n",
              "    <tr>\n",
              "      <th>4</th>\n",
              "      <td>3</td>\n",
              "      <td>Dostoevsky</td>\n",
              "      <td>Crime and Punishment</td>\n",
              "      <td>NaN</td>\n",
              "      <td>1</td>\n",
              "      <td>0.0</td>\n",
              "      <td>NaN</td>\n",
              "    </tr>\n",
              "    <tr>\n",
              "      <th>5</th>\n",
              "      <td>4</td>\n",
              "      <td>unknown</td>\n",
              "      <td>Fathers and Sons</td>\n",
              "      <td>400.0</td>\n",
              "      <td>1</td>\n",
              "      <td>0.0</td>\n",
              "      <td>400.0</td>\n",
              "    </tr>\n",
              "    <tr>\n",
              "      <th>6</th>\n",
              "      <td>3</td>\n",
              "      <td>Dostoevsky</td>\n",
              "      <td>Gambler</td>\n",
              "      <td>350.0</td>\n",
              "      <td>2</td>\n",
              "      <td>NaN</td>\n",
              "      <td>700.0</td>\n",
              "    </tr>\n",
              "    <tr>\n",
              "      <th>7</th>\n",
              "      <td>5</td>\n",
              "      <td>Chekhov</td>\n",
              "      <td>Three Sister</td>\n",
              "      <td>NaN</td>\n",
              "      <td>3</td>\n",
              "      <td>NaN</td>\n",
              "      <td>NaN</td>\n",
              "    </tr>\n",
              "  </tbody>\n",
              "</table>\n",
              "</div>"
            ],
            "text/plain": [
              "   author_id author_name            book_title  price  quantity  quantity_2  \\\n",
              "0          1     Pushkin                   NaN    NaN         0         0.0   \n",
              "1          2     Tolstoy         War and Peace  700.0         1         NaN   \n",
              "2          2     Tolstoy         War and Peace  450.0         1         NaN   \n",
              "3          3  Dostoevsky             The Idiot  500.0         1         0.0   \n",
              "4          3  Dostoevsky  Crime and Punishment    NaN         1         0.0   \n",
              "5          4     unknown      Fathers and Sons  400.0         1         0.0   \n",
              "6          3  Dostoevsky               Gambler  350.0         2         NaN   \n",
              "7          5     Chekhov          Three Sister    NaN         3         NaN   \n",
              "\n",
              "   total  \n",
              "0    NaN  \n",
              "1  700.0  \n",
              "2  450.0  \n",
              "3  500.0  \n",
              "4    NaN  \n",
              "5  400.0  \n",
              "6  700.0  \n",
              "7    NaN  "
            ]
          },
          "execution_count": 131,
          "metadata": {},
          "output_type": "execute_result"
        }
      ],
      "source": [
        "df4[sorted(col_names)]"
      ]
    },
    {
      "cell_type": "code",
      "execution_count": 132,
      "metadata": {
        "colab": {
          "base_uri": "https://localhost:8080/",
          "height": 269
        },
        "id": "5ONgaYjmhpu-",
        "outputId": "98c9ee25-28c1-4725-aaf6-9d28e25ea040"
      },
      "outputs": [
        {
          "data": {
            "text/html": [
              "<div>\n",
              "<style scoped>\n",
              "    .dataframe tbody tr th:only-of-type {\n",
              "        vertical-align: middle;\n",
              "    }\n",
              "\n",
              "    .dataframe tbody tr th {\n",
              "        vertical-align: top;\n",
              "    }\n",
              "\n",
              "    .dataframe thead th {\n",
              "        text-align: right;\n",
              "    }\n",
              "</style>\n",
              "<table border=\"1\" class=\"dataframe\">\n",
              "  <thead>\n",
              "    <tr style=\"text-align: right;\">\n",
              "      <th></th>\n",
              "      <th>author_id</th>\n",
              "      <th>author_name</th>\n",
              "      <th>book_title</th>\n",
              "      <th>quantity</th>\n",
              "      <th>quantity_2</th>\n",
              "      <th>price</th>\n",
              "      <th>total</th>\n",
              "      <th>author_name_2</th>\n",
              "    </tr>\n",
              "  </thead>\n",
              "  <tbody>\n",
              "    <tr>\n",
              "      <th>0</th>\n",
              "      <td>1</td>\n",
              "      <td>Pushkin</td>\n",
              "      <td>NaN</td>\n",
              "      <td>0</td>\n",
              "      <td>0.0</td>\n",
              "      <td>NaN</td>\n",
              "      <td>NaN</td>\n",
              "      <td>PUSHKIN</td>\n",
              "    </tr>\n",
              "    <tr>\n",
              "      <th>1</th>\n",
              "      <td>2</td>\n",
              "      <td>Tolstoy</td>\n",
              "      <td>War and Peace</td>\n",
              "      <td>1</td>\n",
              "      <td>NaN</td>\n",
              "      <td>700.0</td>\n",
              "      <td>700.0</td>\n",
              "      <td>TOLSTOY</td>\n",
              "    </tr>\n",
              "    <tr>\n",
              "      <th>2</th>\n",
              "      <td>2</td>\n",
              "      <td>Tolstoy</td>\n",
              "      <td>War and Peace</td>\n",
              "      <td>1</td>\n",
              "      <td>NaN</td>\n",
              "      <td>450.0</td>\n",
              "      <td>450.0</td>\n",
              "      <td>TOLSTOY</td>\n",
              "    </tr>\n",
              "    <tr>\n",
              "      <th>3</th>\n",
              "      <td>3</td>\n",
              "      <td>Dostoevsky</td>\n",
              "      <td>The Idiot</td>\n",
              "      <td>1</td>\n",
              "      <td>0.0</td>\n",
              "      <td>500.0</td>\n",
              "      <td>500.0</td>\n",
              "      <td>DOSTOEVSKY</td>\n",
              "    </tr>\n",
              "    <tr>\n",
              "      <th>4</th>\n",
              "      <td>3</td>\n",
              "      <td>Dostoevsky</td>\n",
              "      <td>Crime and Punishment</td>\n",
              "      <td>1</td>\n",
              "      <td>0.0</td>\n",
              "      <td>NaN</td>\n",
              "      <td>NaN</td>\n",
              "      <td>DOSTOEVSKY</td>\n",
              "    </tr>\n",
              "    <tr>\n",
              "      <th>5</th>\n",
              "      <td>4</td>\n",
              "      <td>unknown</td>\n",
              "      <td>Fathers and Sons</td>\n",
              "      <td>1</td>\n",
              "      <td>0.0</td>\n",
              "      <td>400.0</td>\n",
              "      <td>400.0</td>\n",
              "      <td>UNKNOWN</td>\n",
              "    </tr>\n",
              "    <tr>\n",
              "      <th>6</th>\n",
              "      <td>3</td>\n",
              "      <td>Dostoevsky</td>\n",
              "      <td>Gambler</td>\n",
              "      <td>2</td>\n",
              "      <td>NaN</td>\n",
              "      <td>350.0</td>\n",
              "      <td>700.0</td>\n",
              "      <td>DOSTOEVSKY</td>\n",
              "    </tr>\n",
              "    <tr>\n",
              "      <th>7</th>\n",
              "      <td>5</td>\n",
              "      <td>Chekhov</td>\n",
              "      <td>Three Sister</td>\n",
              "      <td>3</td>\n",
              "      <td>NaN</td>\n",
              "      <td>NaN</td>\n",
              "      <td>NaN</td>\n",
              "      <td>CHEKHOV</td>\n",
              "    </tr>\n",
              "  </tbody>\n",
              "</table>\n",
              "</div>"
            ],
            "text/plain": [
              "   author_id author_name            book_title  quantity  quantity_2  price  \\\n",
              "0          1     Pushkin                   NaN         0         0.0    NaN   \n",
              "1          2     Tolstoy         War and Peace         1         NaN  700.0   \n",
              "2          2     Tolstoy         War and Peace         1         NaN  450.0   \n",
              "3          3  Dostoevsky             The Idiot         1         0.0  500.0   \n",
              "4          3  Dostoevsky  Crime and Punishment         1         0.0    NaN   \n",
              "5          4     unknown      Fathers and Sons         1         0.0  400.0   \n",
              "6          3  Dostoevsky               Gambler         2         NaN  350.0   \n",
              "7          5     Chekhov          Three Sister         3         NaN    NaN   \n",
              "\n",
              "   total author_name_2  \n",
              "0    NaN       PUSHKIN  \n",
              "1  700.0       TOLSTOY  \n",
              "2  450.0       TOLSTOY  \n",
              "3  500.0    DOSTOEVSKY  \n",
              "4    NaN    DOSTOEVSKY  \n",
              "5  400.0       UNKNOWN  \n",
              "6  700.0    DOSTOEVSKY  \n",
              "7    NaN       CHEKHOV  "
            ]
          },
          "execution_count": 132,
          "metadata": {},
          "output_type": "execute_result"
        }
      ],
      "source": [
        "# Исходная таблица не поменялась\n",
        "df4"
      ]
    },
    {
      "cell_type": "code",
      "execution_count": 133,
      "metadata": {
        "colab": {
          "base_uri": "https://localhost:8080/",
          "height": 269
        },
        "id": "UtnCJkCNiQpV",
        "outputId": "7ff6b81d-8fdf-4944-a5a5-b943341d9de8"
      },
      "outputs": [
        {
          "data": {
            "text/html": [
              "<div>\n",
              "<style scoped>\n",
              "    .dataframe tbody tr th:only-of-type {\n",
              "        vertical-align: middle;\n",
              "    }\n",
              "\n",
              "    .dataframe tbody tr th {\n",
              "        vertical-align: top;\n",
              "    }\n",
              "\n",
              "    .dataframe thead th {\n",
              "        text-align: right;\n",
              "    }\n",
              "</style>\n",
              "<table border=\"1\" class=\"dataframe\">\n",
              "  <thead>\n",
              "    <tr style=\"text-align: right;\">\n",
              "      <th></th>\n",
              "      <th>author_id</th>\n",
              "      <th>author_name</th>\n",
              "      <th>book_title</th>\n",
              "      <th>quantity</th>\n",
              "      <th>quantity_2</th>\n",
              "      <th>price</th>\n",
              "      <th>total</th>\n",
              "      <th>author_name_2</th>\n",
              "    </tr>\n",
              "  </thead>\n",
              "  <tbody>\n",
              "    <tr>\n",
              "      <th>7</th>\n",
              "      <td>5</td>\n",
              "      <td>Chekhov</td>\n",
              "      <td>Three Sister</td>\n",
              "      <td>3</td>\n",
              "      <td>NaN</td>\n",
              "      <td>NaN</td>\n",
              "      <td>NaN</td>\n",
              "      <td>CHEKHOV</td>\n",
              "    </tr>\n",
              "    <tr>\n",
              "      <th>5</th>\n",
              "      <td>4</td>\n",
              "      <td>unknown</td>\n",
              "      <td>Fathers and Sons</td>\n",
              "      <td>1</td>\n",
              "      <td>0.0</td>\n",
              "      <td>400.0</td>\n",
              "      <td>400.0</td>\n",
              "      <td>UNKNOWN</td>\n",
              "    </tr>\n",
              "    <tr>\n",
              "      <th>3</th>\n",
              "      <td>3</td>\n",
              "      <td>Dostoevsky</td>\n",
              "      <td>The Idiot</td>\n",
              "      <td>1</td>\n",
              "      <td>0.0</td>\n",
              "      <td>500.0</td>\n",
              "      <td>500.0</td>\n",
              "      <td>DOSTOEVSKY</td>\n",
              "    </tr>\n",
              "    <tr>\n",
              "      <th>4</th>\n",
              "      <td>3</td>\n",
              "      <td>Dostoevsky</td>\n",
              "      <td>Crime and Punishment</td>\n",
              "      <td>1</td>\n",
              "      <td>0.0</td>\n",
              "      <td>NaN</td>\n",
              "      <td>NaN</td>\n",
              "      <td>DOSTOEVSKY</td>\n",
              "    </tr>\n",
              "    <tr>\n",
              "      <th>6</th>\n",
              "      <td>3</td>\n",
              "      <td>Dostoevsky</td>\n",
              "      <td>Gambler</td>\n",
              "      <td>2</td>\n",
              "      <td>NaN</td>\n",
              "      <td>350.0</td>\n",
              "      <td>700.0</td>\n",
              "      <td>DOSTOEVSKY</td>\n",
              "    </tr>\n",
              "    <tr>\n",
              "      <th>1</th>\n",
              "      <td>2</td>\n",
              "      <td>Tolstoy</td>\n",
              "      <td>War and Peace</td>\n",
              "      <td>1</td>\n",
              "      <td>NaN</td>\n",
              "      <td>700.0</td>\n",
              "      <td>700.0</td>\n",
              "      <td>TOLSTOY</td>\n",
              "    </tr>\n",
              "    <tr>\n",
              "      <th>2</th>\n",
              "      <td>2</td>\n",
              "      <td>Tolstoy</td>\n",
              "      <td>War and Peace</td>\n",
              "      <td>1</td>\n",
              "      <td>NaN</td>\n",
              "      <td>450.0</td>\n",
              "      <td>450.0</td>\n",
              "      <td>TOLSTOY</td>\n",
              "    </tr>\n",
              "    <tr>\n",
              "      <th>0</th>\n",
              "      <td>1</td>\n",
              "      <td>Pushkin</td>\n",
              "      <td>NaN</td>\n",
              "      <td>0</td>\n",
              "      <td>0.0</td>\n",
              "      <td>NaN</td>\n",
              "      <td>NaN</td>\n",
              "      <td>PUSHKIN</td>\n",
              "    </tr>\n",
              "  </tbody>\n",
              "</table>\n",
              "</div>"
            ],
            "text/plain": [
              "   author_id author_name            book_title  quantity  quantity_2  price  \\\n",
              "7          5     Chekhov          Three Sister         3         NaN    NaN   \n",
              "5          4     unknown      Fathers and Sons         1         0.0  400.0   \n",
              "3          3  Dostoevsky             The Idiot         1         0.0  500.0   \n",
              "4          3  Dostoevsky  Crime and Punishment         1         0.0    NaN   \n",
              "6          3  Dostoevsky               Gambler         2         NaN  350.0   \n",
              "1          2     Tolstoy         War and Peace         1         NaN  700.0   \n",
              "2          2     Tolstoy         War and Peace         1         NaN  450.0   \n",
              "0          1     Pushkin                   NaN         0         0.0    NaN   \n",
              "\n",
              "   total author_name_2  \n",
              "7    NaN       CHEKHOV  \n",
              "5  400.0       UNKNOWN  \n",
              "3  500.0    DOSTOEVSKY  \n",
              "4    NaN    DOSTOEVSKY  \n",
              "6  700.0    DOSTOEVSKY  \n",
              "1  700.0       TOLSTOY  \n",
              "2  450.0       TOLSTOY  \n",
              "0    NaN       PUSHKIN  "
            ]
          },
          "execution_count": 133,
          "metadata": {},
          "output_type": "execute_result"
        }
      ],
      "source": [
        "# ascending=False - сортировка по убыванию\n",
        "df4.sort_values(by='author_id', ascending=False)"
      ]
    },
    {
      "cell_type": "markdown",
      "metadata": {
        "id": "MoIPiVtxi2dr"
      },
      "source": [
        "##**Групировка данных**  \n",
        "Данные в таблице **DataFrame** можно группировать по повторяющимся значениям выбранного столбца. Групировка позволяет вычислять какие-то *агрегированные* значения, т.е. значения полученные каким-то образом из групп других значений. Например, если мы хотим сгруппировать нашу таблицу по значениям **author_name**, то каждая группа будет содержать все строки с одинаковым значением **author_name**. По таким группам можно затем посчитать какую-нибудь агрегирующую функцию, например, сумму, среднее, минимум и др.  \n",
        "Вот несколько способов это сделать. В первом случае мы просто выбираем конкретный столбец из группировки и применяем к нему какую-то агрегирующую функцию."
      ]
    },
    {
      "cell_type": "code",
      "execution_count": 134,
      "metadata": {
        "colab": {
          "base_uri": "https://localhost:8080/"
        },
        "id": "lx8K34-rkZr_",
        "outputId": "a27ccb64-dc19-46f2-c42f-3e5349fa24fb"
      },
      "outputs": [
        {
          "data": {
            "text/plain": [
              "<pandas.core.groupby.generic.DataFrameGroupBy object at 0x0000011E185A8C10>"
            ]
          },
          "execution_count": 134,
          "metadata": {},
          "output_type": "execute_result"
        }
      ],
      "source": [
        "groupby = df4.groupby( 'author_name' )\n",
        "groupby"
      ]
    },
    {
      "cell_type": "code",
      "execution_count": 135,
      "metadata": {
        "colab": {
          "base_uri": "https://localhost:8080/"
        },
        "id": "Wk8FhBikk2b9",
        "outputId": "54e4dda8-b851-42bb-f517-f91394015ace"
      },
      "outputs": [
        {
          "data": {
            "text/plain": [
              "author_name\n",
              "Chekhov         NaN\n",
              "Dostoevsky    425.0\n",
              "Pushkin         NaN\n",
              "Tolstoy       575.0\n",
              "unknown       400.0\n",
              "Name: price, dtype: float64"
            ]
          },
          "execution_count": 135,
          "metadata": {},
          "output_type": "execute_result"
        }
      ],
      "source": [
        "groupby['price'].mean()"
      ]
    },
    {
      "cell_type": "markdown",
      "metadata": {
        "id": "nGRVetUelcuP"
      },
      "source": [
        "Второй способ - с помощью метода **.agg**. Данный метод является более гибким. Например, он позволяет вычислять одновременно несколько различных агрегирующих функций от разных столбцов:"
      ]
    },
    {
      "cell_type": "code",
      "execution_count": 136,
      "metadata": {
        "colab": {
          "base_uri": "https://localhost:8080/",
          "height": 237
        },
        "id": "IK27h7Hul6dL",
        "outputId": "7d86a3c6-7fd0-45f6-d583-aeb8a5466520"
      },
      "outputs": [
        {
          "data": {
            "text/html": [
              "<div>\n",
              "<style scoped>\n",
              "    .dataframe tbody tr th:only-of-type {\n",
              "        vertical-align: middle;\n",
              "    }\n",
              "\n",
              "    .dataframe tbody tr th {\n",
              "        vertical-align: top;\n",
              "    }\n",
              "\n",
              "    .dataframe thead th {\n",
              "        text-align: right;\n",
              "    }\n",
              "</style>\n",
              "<table border=\"1\" class=\"dataframe\">\n",
              "  <thead>\n",
              "    <tr style=\"text-align: right;\">\n",
              "      <th></th>\n",
              "      <th>price</th>\n",
              "      <th>total</th>\n",
              "    </tr>\n",
              "    <tr>\n",
              "      <th>author_name</th>\n",
              "      <th></th>\n",
              "      <th></th>\n",
              "    </tr>\n",
              "  </thead>\n",
              "  <tbody>\n",
              "    <tr>\n",
              "      <th>Chekhov</th>\n",
              "      <td>NaN</td>\n",
              "      <td>1</td>\n",
              "    </tr>\n",
              "    <tr>\n",
              "      <th>Dostoevsky</th>\n",
              "      <td>500.0</td>\n",
              "      <td>3</td>\n",
              "    </tr>\n",
              "    <tr>\n",
              "      <th>Pushkin</th>\n",
              "      <td>NaN</td>\n",
              "      <td>1</td>\n",
              "    </tr>\n",
              "    <tr>\n",
              "      <th>Tolstoy</th>\n",
              "      <td>700.0</td>\n",
              "      <td>2</td>\n",
              "    </tr>\n",
              "    <tr>\n",
              "      <th>unknown</th>\n",
              "      <td>400.0</td>\n",
              "      <td>1</td>\n",
              "    </tr>\n",
              "  </tbody>\n",
              "</table>\n",
              "</div>"
            ],
            "text/plain": [
              "             price  total\n",
              "author_name              \n",
              "Chekhov        NaN      1\n",
              "Dostoevsky   500.0      3\n",
              "Pushkin        NaN      1\n",
              "Tolstoy      700.0      2\n",
              "unknown      400.0      1"
            ]
          },
          "execution_count": 136,
          "metadata": {},
          "output_type": "execute_result"
        }
      ],
      "source": [
        "groupby.agg({\"price\": \"max\", \"total\": \"count\"})"
      ]
    }
  ],
  "metadata": {
    "colab": {
      "provenance": []
    },
    "kernelspec": {
      "display_name": "Python 3",
      "name": "python3"
    },
    "language_info": {
      "codemirror_mode": {
        "name": "ipython",
        "version": 3
      },
      "file_extension": ".py",
      "mimetype": "text/x-python",
      "name": "python",
      "nbconvert_exporter": "python",
      "pygments_lexer": "ipython3",
      "version": "3.11.4"
    }
  },
  "nbformat": 4,
  "nbformat_minor": 0
}
